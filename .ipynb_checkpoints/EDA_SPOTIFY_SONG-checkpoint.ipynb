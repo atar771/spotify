{
 "cells": [
  {
   "cell_type": "code",
   "execution_count": 58,
   "id": "391e554c-b9d2-4e70-9efe-50fa53ca241c",
   "metadata": {},
   "outputs": [],
   "source": [
    "import matplotlib as plt\n",
    "import pandas as pd\n",
    "import numpy as np\n",
    "import warnings\n",
    "import seaborn as sns\n",
    "import matplotlib.pyplot as plt\n",
    "warnings.filterwarnings(\"ignore\")\n",
    "%matplotlib inline"
   ]
  },
  {
   "cell_type": "code",
   "execution_count": 59,
   "id": "1309c83c-9a5e-4204-8a72-b1fcc968b21f",
   "metadata": {},
   "outputs": [
    {
     "data": {
      "text/html": [
       "<div>\n",
       "<style scoped>\n",
       "    .dataframe tbody tr th:only-of-type {\n",
       "        vertical-align: middle;\n",
       "    }\n",
       "\n",
       "    .dataframe tbody tr th {\n",
       "        vertical-align: top;\n",
       "    }\n",
       "\n",
       "    .dataframe thead th {\n",
       "        text-align: right;\n",
       "    }\n",
       "</style>\n",
       "<table border=\"1\" class=\"dataframe\">\n",
       "  <thead>\n",
       "    <tr style=\"text-align: center;\">\n",
       "      <th></th>\n",
       "      <th>track_id</th>\n",
       "      <th>track_artist</th>\n",
       "      <th>track_popularity</th>\n",
       "      <th>track_album_id</th>\n",
       "      <th>track_album_release_date</th>\n",
       "      <th>danceability</th>\n",
       "      <th>energy</th>\n",
       "      <th>key</th>\n",
       "      <th>loudness</th>\n",
       "      <th>mode</th>\n",
       "      <th>speechiness</th>\n",
       "      <th>acousticness</th>\n",
       "      <th>instrumentalness</th>\n",
       "      <th>liveness</th>\n",
       "      <th>valence</th>\n",
       "      <th>tempo</th>\n",
       "      <th>duration_ms</th>\n",
       "      <th>track_album_release_date_year</th>\n",
       "      <th>playlist_count_per_song</th>\n",
       "      <th>playlist_genre_count_per_song</th>\n",
       "    </tr>\n",
       "  </thead>\n",
       "  <tbody>\n",
       "    <tr>\n",
       "      <th>0</th>\n",
       "      <td>6f807x0ima9a1j3vpbc7vn</td>\n",
       "      <td>ed sheeran</td>\n",
       "      <td>66</td>\n",
       "      <td>2ocs0dgtsro98gh5zsl2cx</td>\n",
       "      <td>2019-06-14</td>\n",
       "      <td>0.748</td>\n",
       "      <td>0.916</td>\n",
       "      <td>6</td>\n",
       "      <td>-2.634</td>\n",
       "      <td>1</td>\n",
       "      <td>0.0583</td>\n",
       "      <td>0.1020</td>\n",
       "      <td>0.000000</td>\n",
       "      <td>0.0653</td>\n",
       "      <td>0.518</td>\n",
       "      <td>122.036</td>\n",
       "      <td>194754</td>\n",
       "      <td>2019.0</td>\n",
       "      <td>2</td>\n",
       "      <td>2</td>\n",
       "    </tr>\n",
       "    <tr>\n",
       "      <th>1</th>\n",
       "      <td>0r7cvbztwzgbtcydfa2p31</td>\n",
       "      <td>maroon 5</td>\n",
       "      <td>67</td>\n",
       "      <td>63rpso264urjw1x5e6cwv6</td>\n",
       "      <td>2019-12-13</td>\n",
       "      <td>0.726</td>\n",
       "      <td>0.815</td>\n",
       "      <td>11</td>\n",
       "      <td>-4.969</td>\n",
       "      <td>1</td>\n",
       "      <td>0.0373</td>\n",
       "      <td>0.0724</td>\n",
       "      <td>0.004210</td>\n",
       "      <td>0.3570</td>\n",
       "      <td>0.693</td>\n",
       "      <td>99.972</td>\n",
       "      <td>162600</td>\n",
       "      <td>2019.0</td>\n",
       "      <td>2</td>\n",
       "      <td>2</td>\n",
       "    </tr>\n",
       "    <tr>\n",
       "      <th>2</th>\n",
       "      <td>1z1hg7vb0ahhdiemnde79l</td>\n",
       "      <td>zara larsson</td>\n",
       "      <td>70</td>\n",
       "      <td>1hosmj2elcsrr0ve9gthr4</td>\n",
       "      <td>2019-07-05</td>\n",
       "      <td>0.675</td>\n",
       "      <td>0.931</td>\n",
       "      <td>1</td>\n",
       "      <td>-3.432</td>\n",
       "      <td>0</td>\n",
       "      <td>0.0742</td>\n",
       "      <td>0.0794</td>\n",
       "      <td>0.000023</td>\n",
       "      <td>0.1100</td>\n",
       "      <td>0.613</td>\n",
       "      <td>124.008</td>\n",
       "      <td>176616</td>\n",
       "      <td>2019.0</td>\n",
       "      <td>3</td>\n",
       "      <td>3</td>\n",
       "    </tr>\n",
       "    <tr>\n",
       "      <th>3</th>\n",
       "      <td>75fpbthrwqmzhlbjlugdc7</td>\n",
       "      <td>the chainsmokers</td>\n",
       "      <td>60</td>\n",
       "      <td>1nqysoef1ykkugovchbsk6</td>\n",
       "      <td>2019-07-19</td>\n",
       "      <td>0.718</td>\n",
       "      <td>0.930</td>\n",
       "      <td>7</td>\n",
       "      <td>-3.778</td>\n",
       "      <td>1</td>\n",
       "      <td>0.1020</td>\n",
       "      <td>0.0287</td>\n",
       "      <td>0.000009</td>\n",
       "      <td>0.2040</td>\n",
       "      <td>0.277</td>\n",
       "      <td>121.956</td>\n",
       "      <td>169093</td>\n",
       "      <td>2019.0</td>\n",
       "      <td>1</td>\n",
       "      <td>1</td>\n",
       "    </tr>\n",
       "    <tr>\n",
       "      <th>4</th>\n",
       "      <td>1e8pafckuyokkxphrhqw4x</td>\n",
       "      <td>lewis capaldi</td>\n",
       "      <td>69</td>\n",
       "      <td>7m7vv9wlq4i0lfujie2zsq</td>\n",
       "      <td>2019-03-05</td>\n",
       "      <td>0.650</td>\n",
       "      <td>0.833</td>\n",
       "      <td>1</td>\n",
       "      <td>-4.672</td>\n",
       "      <td>1</td>\n",
       "      <td>0.0359</td>\n",
       "      <td>0.0803</td>\n",
       "      <td>0.000000</td>\n",
       "      <td>0.0833</td>\n",
       "      <td>0.725</td>\n",
       "      <td>123.976</td>\n",
       "      <td>189052</td>\n",
       "      <td>2019.0</td>\n",
       "      <td>1</td>\n",
       "      <td>1</td>\n",
       "    </tr>\n",
       "  </tbody>\n",
       "</table>\n",
       "</div>"
      ],
      "text/plain": [
       "          track_id           track_artist    track_popularity  \\\n",
       "0  6f807x0ima9a1j3vpbc7vn        ed sheeran         66          \n",
       "1  0r7cvbztwzgbtcydfa2p31          maroon 5         67          \n",
       "2  1z1hg7vb0ahhdiemnde79l      zara larsson         70          \n",
       "3  75fpbthrwqmzhlbjlugdc7  the chainsmokers         60          \n",
       "4  1e8pafckuyokkxphrhqw4x     lewis capaldi         69          \n",
       "\n",
       "       track_album_id     track_album_release_date  danceability  energy  key  \\\n",
       "0  2ocs0dgtsro98gh5zsl2cx        2019-06-14             0.748      0.916   6    \n",
       "1  63rpso264urjw1x5e6cwv6        2019-12-13             0.726      0.815  11    \n",
       "2  1hosmj2elcsrr0ve9gthr4        2019-07-05             0.675      0.931   1    \n",
       "3  1nqysoef1ykkugovchbsk6        2019-07-19             0.718      0.930   7    \n",
       "4  7m7vv9wlq4i0lfujie2zsq        2019-03-05             0.650      0.833   1    \n",
       "\n",
       "   loudness  mode  speechiness  acousticness  instrumentalness  liveness  \\\n",
       "0   -2.634     1     0.0583        0.1020         0.000000       0.0653    \n",
       "1   -4.969     1     0.0373        0.0724         0.004210       0.3570    \n",
       "2   -3.432     0     0.0742        0.0794         0.000023       0.1100    \n",
       "3   -3.778     1     0.1020        0.0287         0.000009       0.2040    \n",
       "4   -4.672     1     0.0359        0.0803         0.000000       0.0833    \n",
       "\n",
       "   valence   tempo   duration_ms  track_album_release_date_year  \\\n",
       "0   0.518   122.036    194754                2019.0               \n",
       "1   0.693    99.972    162600                2019.0               \n",
       "2   0.613   124.008    176616                2019.0               \n",
       "3   0.277   121.956    169093                2019.0               \n",
       "4   0.725   123.976    189052                2019.0               \n",
       "\n",
       "   playlist_count_per_song  playlist_genre_count_per_song  \n",
       "0             2                           2                \n",
       "1             2                           2                \n",
       "2             3                           3                \n",
       "3             1                           1                \n",
       "4             1                           1                "
      ]
     },
     "execution_count": 59,
     "metadata": {},
     "output_type": "execute_result"
    }
   ],
   "source": [
    "df = pd.read_pickle(r\"spotify_songs_df_after_data_prep_9.3.25.pkl\")\n",
    "df.head()"
   ]
  },
  {
   "cell_type": "code",
   "execution_count": 60,
   "id": "3b7d016e-ccd9-43ae-b2cb-43861b87ff98",
   "metadata": {},
   "outputs": [
    {
     "data": {
      "text/plain": [
       "(28356, 20)"
      ]
     },
     "execution_count": 60,
     "metadata": {},
     "output_type": "execute_result"
    }
   ],
   "source": [
    "df.shape"
   ]
  },
  {
   "cell_type": "code",
   "execution_count": 61,
   "id": "18b43521-5a38-4131-ad4a-c9521fee409e",
   "metadata": {},
   "outputs": [
    {
     "name": "stdout",
     "output_type": "stream",
     "text": [
      "<class 'pandas.core.frame.DataFrame'>\n",
      "Index: 28356 entries, 0 to 32832\n",
      "Data columns (total 20 columns):\n",
      " #   Column                         Non-Null Count  Dtype         \n",
      "---  ------                         --------------  -----         \n",
      " 0   track_id                       28356 non-null  string        \n",
      " 1   track_artist                   28352 non-null  string        \n",
      " 2   track_popularity               28356 non-null  int64         \n",
      " 3   track_album_id                 28356 non-null  string        \n",
      " 4   track_album_release_date       26675 non-null  datetime64[ns]\n",
      " 5   danceability                   28356 non-null  float64       \n",
      " 6   energy                         28356 non-null  float64       \n",
      " 7   key                            28356 non-null  int64         \n",
      " 8   loudness                       28356 non-null  float64       \n",
      " 9   mode                           28356 non-null  int64         \n",
      " 10  speechiness                    28356 non-null  float64       \n",
      " 11  acousticness                   28356 non-null  float64       \n",
      " 12  instrumentalness               28356 non-null  float64       \n",
      " 13  liveness                       28356 non-null  float64       \n",
      " 14  valence                        28356 non-null  float64       \n",
      " 15  tempo                          28356 non-null  float64       \n",
      " 16  duration_ms                    28356 non-null  int64         \n",
      " 17  track_album_release_date_year  26675 non-null  float64       \n",
      " 18  playlist_count_per_song        28356 non-null  int64         \n",
      " 19  playlist_genre_count_per_song  28356 non-null  int64         \n",
      "dtypes: datetime64[ns](1), float64(10), int64(6), string(3)\n",
      "memory usage: 4.5 MB\n"
     ]
    }
   ],
   "source": [
    "df.info()"
   ]
  },
  {
   "cell_type": "code",
   "execution_count": 62,
   "id": "fb02c59d-e283-4d60-a171-0a5ea814d536",
   "metadata": {},
   "outputs": [],
   "source": [
    "#df['track_popularity'] = df['popularity_group'].astype('string')\n",
    "#df['track_popularity'].info()"
   ]
  },
  {
   "cell_type": "markdown",
   "id": "bbf9ae76-a86b-428b-833f-741655858ace",
   "metadata": {},
   "source": [
    "# Data Protocol"
   ]
  },
  {
   "cell_type": "code",
   "execution_count": 63,
   "id": "0e0e6878-c0c1-44a7-960f-0c367ef0c4e9",
   "metadata": {},
   "outputs": [],
   "source": [
    "# Type of valaues\n",
    "df.dtypes.to_excel(\"spotify_datatype.xlsx\",\n",
    "             sheet_name='data_type')\n",
    "# Maximum valaues\n",
    "df.max().to_excel(\"max_spotify.xlsx\",\n",
    "             sheet_name='max')\n",
    "# Minimum Values\n",
    "df.min().to_excel(\"min_spotify.xlsx\",\n",
    "             sheet_name='min')\n",
    "# Missing Values\n",
    "df.isnull().sum(axis=0).to_excel(\"NA_spotify.xlsx\",\n",
    "             sheet_name='NA')\n",
    "# exporting results to the protocol\n",
    "df.nunique().to_excel(\"unique_spotifyr.xlsx\",\n",
    "             sheet_name='unique')"
   ]
  },
  {
   "cell_type": "markdown",
   "id": "d92573dd-5080-4269-ac62-cf75a3abe790",
   "metadata": {},
   "source": [
    "# Descriptive Statistics"
   ]
  },
  {
   "cell_type": "markdown",
   "id": "c1b0d4de-5b72-482f-8130-e92f750a3c4f",
   "metadata": {},
   "source": [
    "#Automated reports"
   ]
  },
  {
   "cell_type": "code",
   "execution_count": 64,
   "id": "b37748be-ef1b-423d-8dc1-903cf6170c19",
   "metadata": {},
   "outputs": [],
   "source": [
    "### AutoViz"
   ]
  },
  {
   "cell_type": "code",
   "execution_count": null,
   "id": "869d1628-3737-4d1c-80ef-8738ab58e323",
   "metadata": {
    "scrolled": true
   },
   "outputs": [
    {
     "name": "stdout",
     "output_type": "stream",
     "text": [
      "Shape of your Data Set loaded: (28356, 20)\n",
      "#######################################################################################\n",
      "######################## C L A S S I F Y I N G  V A R I A B L E S  ####################\n",
      "#######################################################################################\n",
      "Classifying variables in data set...\n",
      "    Number of Numeric Columns =  10\n",
      "    Number of Integer-Categorical Columns =  5\n",
      "    Number of String-Categorical Columns =  0\n",
      "    Number of Factor-Categorical Columns =  0\n",
      "    Number of String-Boolean Columns =  0\n",
      "    Number of Numeric-Boolean Columns =  1\n",
      "    Number of Discrete String Columns =  0\n",
      "    Number of NLP String Columns =  3\n",
      "    Number of Date Time Columns =  0\n",
      "    Number of ID Columns =  1\n",
      "    Number of Columns to Delete =  0\n",
      "    20 Predictors classified...\n",
      "        1 variable(s) removed since they were ID or low-information variables\n",
      "        List of variables removed: ['track_id']\n",
      "To fix these data quality issues in the dataset, import FixDQ from autoviz...\n",
      "    All variables classified into correct types.\n"
     ]
    },
    {
     "data": {
      "text/html": [
       "<style type=\"text/css\">\n",
       "#T_4bd9e_row0_col0, #T_4bd9e_row0_col2, #T_4bd9e_row0_col3, #T_4bd9e_row0_col4, #T_4bd9e_row0_col5, #T_4bd9e_row1_col0, #T_4bd9e_row1_col2, #T_4bd9e_row1_col3, #T_4bd9e_row1_col4, #T_4bd9e_row1_col5, #T_4bd9e_row2_col0, #T_4bd9e_row2_col2, #T_4bd9e_row2_col3, #T_4bd9e_row2_col4, #T_4bd9e_row2_col5, #T_4bd9e_row3_col0, #T_4bd9e_row3_col2, #T_4bd9e_row3_col3, #T_4bd9e_row3_col4, #T_4bd9e_row3_col5, #T_4bd9e_row4_col0, #T_4bd9e_row4_col2, #T_4bd9e_row4_col3, #T_4bd9e_row4_col4, #T_4bd9e_row4_col5, #T_4bd9e_row5_col0, #T_4bd9e_row5_col2, #T_4bd9e_row5_col3, #T_4bd9e_row5_col4, #T_4bd9e_row5_col5, #T_4bd9e_row6_col0, #T_4bd9e_row6_col2, #T_4bd9e_row6_col3, #T_4bd9e_row6_col4, #T_4bd9e_row6_col5, #T_4bd9e_row7_col0, #T_4bd9e_row7_col2, #T_4bd9e_row7_col3, #T_4bd9e_row7_col4, #T_4bd9e_row7_col5, #T_4bd9e_row8_col0, #T_4bd9e_row8_col2, #T_4bd9e_row8_col3, #T_4bd9e_row8_col4, #T_4bd9e_row8_col5, #T_4bd9e_row9_col0, #T_4bd9e_row9_col2, #T_4bd9e_row9_col3, #T_4bd9e_row9_col4, #T_4bd9e_row9_col5, #T_4bd9e_row10_col0, #T_4bd9e_row10_col2, #T_4bd9e_row10_col3, #T_4bd9e_row10_col4, #T_4bd9e_row10_col5, #T_4bd9e_row11_col0, #T_4bd9e_row11_col2, #T_4bd9e_row11_col3, #T_4bd9e_row11_col4, #T_4bd9e_row11_col5, #T_4bd9e_row12_col0, #T_4bd9e_row12_col2, #T_4bd9e_row12_col3, #T_4bd9e_row12_col4, #T_4bd9e_row12_col5, #T_4bd9e_row13_col0, #T_4bd9e_row13_col2, #T_4bd9e_row13_col3, #T_4bd9e_row13_col4, #T_4bd9e_row13_col5, #T_4bd9e_row14_col0, #T_4bd9e_row14_col2, #T_4bd9e_row14_col3, #T_4bd9e_row14_col4, #T_4bd9e_row14_col5, #T_4bd9e_row15_col0, #T_4bd9e_row15_col2, #T_4bd9e_row15_col3, #T_4bd9e_row15_col4, #T_4bd9e_row15_col5, #T_4bd9e_row16_col0, #T_4bd9e_row16_col2, #T_4bd9e_row16_col3, #T_4bd9e_row16_col4, #T_4bd9e_row16_col5, #T_4bd9e_row17_col0, #T_4bd9e_row17_col2, #T_4bd9e_row17_col3, #T_4bd9e_row17_col4, #T_4bd9e_row17_col5, #T_4bd9e_row18_col0, #T_4bd9e_row18_col2, #T_4bd9e_row18_col3, #T_4bd9e_row18_col4, #T_4bd9e_row18_col5, #T_4bd9e_row19_col0, #T_4bd9e_row19_col2, #T_4bd9e_row19_col3, #T_4bd9e_row19_col4, #T_4bd9e_row19_col5 {\n",
       "  font-family: Segoe UI;\n",
       "}\n",
       "#T_4bd9e_row0_col1, #T_4bd9e_row2_col1, #T_4bd9e_row3_col1, #T_4bd9e_row5_col1, #T_4bd9e_row6_col1, #T_4bd9e_row7_col1, #T_4bd9e_row8_col1, #T_4bd9e_row9_col1, #T_4bd9e_row10_col1, #T_4bd9e_row11_col1, #T_4bd9e_row12_col1, #T_4bd9e_row13_col1, #T_4bd9e_row14_col1, #T_4bd9e_row15_col1, #T_4bd9e_row16_col1, #T_4bd9e_row18_col1, #T_4bd9e_row19_col1 {\n",
       "  background-color: #fff5f0;\n",
       "  color: #000000;\n",
       "  font-family: Segoe UI;\n",
       "}\n",
       "#T_4bd9e_row1_col1 {\n",
       "  background-color: #ffeee7;\n",
       "  color: #000000;\n",
       "  font-family: Segoe UI;\n",
       "}\n",
       "#T_4bd9e_row4_col1, #T_4bd9e_row17_col1 {\n",
       "  background-color: #67000d;\n",
       "  color: #f1f1f1;\n",
       "  font-family: Segoe UI;\n",
       "}\n",
       "</style>\n",
       "<table id=\"T_4bd9e\">\n",
       "  <thead>\n",
       "    <tr>\n",
       "      <th class=\"blank level0\" >&nbsp;</th>\n",
       "      <th id=\"T_4bd9e_level0_col0\" class=\"col_heading level0 col0\" >Data Type</th>\n",
       "      <th id=\"T_4bd9e_level0_col1\" class=\"col_heading level0 col1\" >Missing Values%</th>\n",
       "      <th id=\"T_4bd9e_level0_col2\" class=\"col_heading level0 col2\" >Unique Values%</th>\n",
       "      <th id=\"T_4bd9e_level0_col3\" class=\"col_heading level0 col3\" >Minimum Value</th>\n",
       "      <th id=\"T_4bd9e_level0_col4\" class=\"col_heading level0 col4\" >Maximum Value</th>\n",
       "      <th id=\"T_4bd9e_level0_col5\" class=\"col_heading level0 col5\" >DQ Issue</th>\n",
       "    </tr>\n",
       "  </thead>\n",
       "  <tbody>\n",
       "    <tr>\n",
       "      <th id=\"T_4bd9e_level0_row0\" class=\"row_heading level0 row0\" >track_id</th>\n",
       "      <td id=\"T_4bd9e_row0_col0\" class=\"data row0 col0\" >object</td>\n",
       "      <td id=\"T_4bd9e_row0_col1\" class=\"data row0 col1\" >0.000000</td>\n",
       "      <td id=\"T_4bd9e_row0_col2\" class=\"data row0 col2\" >100</td>\n",
       "      <td id=\"T_4bd9e_row0_col3\" class=\"data row0 col3\" ></td>\n",
       "      <td id=\"T_4bd9e_row0_col4\" class=\"data row0 col4\" ></td>\n",
       "      <td id=\"T_4bd9e_row0_col5\" class=\"data row0 col5\" >Possible ID column: drop before modeling step.</td>\n",
       "    </tr>\n",
       "    <tr>\n",
       "      <th id=\"T_4bd9e_level0_row1\" class=\"row_heading level0 row1\" >track_artist</th>\n",
       "      <td id=\"T_4bd9e_row1_col0\" class=\"data row1 col0\" >object</td>\n",
       "      <td id=\"T_4bd9e_row1_col1\" class=\"data row1 col1\" >0.239808</td>\n",
       "      <td id=\"T_4bd9e_row1_col2\" class=\"data row1 col2\" >37</td>\n",
       "      <td id=\"T_4bd9e_row1_col3\" class=\"data row1 col3\" ></td>\n",
       "      <td id=\"T_4bd9e_row1_col4\" class=\"data row1 col4\" ></td>\n",
       "      <td id=\"T_4bd9e_row1_col5\" class=\"data row1 col5\" >68 missing values. Impute them with mean, median, mode, or a constant value such as 123., Mixed dtypes: has 2 different data types:  object, float,</td>\n",
       "    </tr>\n",
       "    <tr>\n",
       "      <th id=\"T_4bd9e_level0_row2\" class=\"row_heading level0 row2\" >track_popularity</th>\n",
       "      <td id=\"T_4bd9e_row2_col0\" class=\"data row2 col0\" >int64</td>\n",
       "      <td id=\"T_4bd9e_row2_col1\" class=\"data row2 col1\" >0.000000</td>\n",
       "      <td id=\"T_4bd9e_row2_col2\" class=\"data row2 col2\" >0</td>\n",
       "      <td id=\"T_4bd9e_row2_col3\" class=\"data row2 col3\" >0.000000</td>\n",
       "      <td id=\"T_4bd9e_row2_col4\" class=\"data row2 col4\" >100.000000</td>\n",
       "      <td id=\"T_4bd9e_row2_col5\" class=\"data row2 col5\" >No issue</td>\n",
       "    </tr>\n",
       "    <tr>\n",
       "      <th id=\"T_4bd9e_level0_row3\" class=\"row_heading level0 row3\" >track_album_id</th>\n",
       "      <td id=\"T_4bd9e_row3_col0\" class=\"data row3 col0\" >object</td>\n",
       "      <td id=\"T_4bd9e_row3_col1\" class=\"data row3 col1\" >0.000000</td>\n",
       "      <td id=\"T_4bd9e_row3_col2\" class=\"data row3 col2\" >79</td>\n",
       "      <td id=\"T_4bd9e_row3_col3\" class=\"data row3 col3\" ></td>\n",
       "      <td id=\"T_4bd9e_row3_col4\" class=\"data row3 col4\" ></td>\n",
       "      <td id=\"T_4bd9e_row3_col5\" class=\"data row3 col5\" >No issue</td>\n",
       "    </tr>\n",
       "    <tr>\n",
       "      <th id=\"T_4bd9e_level0_row4\" class=\"row_heading level0 row4\" >track_album_release_date</th>\n",
       "      <td id=\"T_4bd9e_row4_col0\" class=\"data row4 col0\" >object</td>\n",
       "      <td id=\"T_4bd9e_row4_col1\" class=\"data row4 col1\" >5.928199</td>\n",
       "      <td id=\"T_4bd9e_row4_col2\" class=\"data row4 col2\" >15</td>\n",
       "      <td id=\"T_4bd9e_row4_col3\" class=\"data row4 col3\" ></td>\n",
       "      <td id=\"T_4bd9e_row4_col4\" class=\"data row4 col4\" ></td>\n",
       "      <td id=\"T_4bd9e_row4_col5\" class=\"data row4 col5\" >1681 missing values. Impute them with mean, median, mode, or a constant value such as 123., Mixed dtypes: has 2 different data types:  object, float,</td>\n",
       "    </tr>\n",
       "    <tr>\n",
       "      <th id=\"T_4bd9e_level0_row5\" class=\"row_heading level0 row5\" >danceability</th>\n",
       "      <td id=\"T_4bd9e_row5_col0\" class=\"data row5 col0\" >float64</td>\n",
       "      <td id=\"T_4bd9e_row5_col1\" class=\"data row5 col1\" >0.000000</td>\n",
       "      <td id=\"T_4bd9e_row5_col2\" class=\"data row5 col2\" >NA</td>\n",
       "      <td id=\"T_4bd9e_row5_col3\" class=\"data row5 col3\" >0.000000</td>\n",
       "      <td id=\"T_4bd9e_row5_col4\" class=\"data row5 col4\" >0.983000</td>\n",
       "      <td id=\"T_4bd9e_row5_col5\" class=\"data row5 col5\" >Column has 257 outliers greater than upper bound (1.06) or lower than lower bound(0.26). Cap them or remove them.</td>\n",
       "    </tr>\n",
       "    <tr>\n",
       "      <th id=\"T_4bd9e_level0_row6\" class=\"row_heading level0 row6\" >energy</th>\n",
       "      <td id=\"T_4bd9e_row6_col0\" class=\"data row6 col0\" >float64</td>\n",
       "      <td id=\"T_4bd9e_row6_col1\" class=\"data row6 col1\" >0.000000</td>\n",
       "      <td id=\"T_4bd9e_row6_col2\" class=\"data row6 col2\" >NA</td>\n",
       "      <td id=\"T_4bd9e_row6_col3\" class=\"data row6 col3\" >0.000175</td>\n",
       "      <td id=\"T_4bd9e_row6_col4\" class=\"data row6 col4\" >1.000000</td>\n",
       "      <td id=\"T_4bd9e_row6_col5\" class=\"data row6 col5\" >Column has 222 outliers greater than upper bound (1.24) or lower than lower bound(0.18). Cap them or remove them.</td>\n",
       "    </tr>\n",
       "    <tr>\n",
       "      <th id=\"T_4bd9e_level0_row7\" class=\"row_heading level0 row7\" >key</th>\n",
       "      <td id=\"T_4bd9e_row7_col0\" class=\"data row7 col0\" >int64</td>\n",
       "      <td id=\"T_4bd9e_row7_col1\" class=\"data row7 col1\" >0.000000</td>\n",
       "      <td id=\"T_4bd9e_row7_col2\" class=\"data row7 col2\" >0</td>\n",
       "      <td id=\"T_4bd9e_row7_col3\" class=\"data row7 col3\" >0.000000</td>\n",
       "      <td id=\"T_4bd9e_row7_col4\" class=\"data row7 col4\" >11.000000</td>\n",
       "      <td id=\"T_4bd9e_row7_col5\" class=\"data row7 col5\" >No issue</td>\n",
       "    </tr>\n",
       "    <tr>\n",
       "      <th id=\"T_4bd9e_level0_row8\" class=\"row_heading level0 row8\" >loudness</th>\n",
       "      <td id=\"T_4bd9e_row8_col0\" class=\"data row8 col0\" >float64</td>\n",
       "      <td id=\"T_4bd9e_row8_col1\" class=\"data row8 col1\" >0.000000</td>\n",
       "      <td id=\"T_4bd9e_row8_col2\" class=\"data row8 col2\" >NA</td>\n",
       "      <td id=\"T_4bd9e_row8_col3\" class=\"data row8 col3\" >-46.448000</td>\n",
       "      <td id=\"T_4bd9e_row8_col4\" class=\"data row8 col4\" >1.275000</td>\n",
       "      <td id=\"T_4bd9e_row8_col5\" class=\"data row8 col5\" >Column has 837 outliers greater than upper bound (0.69) or lower than lower bound(-13.71). Cap them or remove them.</td>\n",
       "    </tr>\n",
       "    <tr>\n",
       "      <th id=\"T_4bd9e_level0_row9\" class=\"row_heading level0 row9\" >mode</th>\n",
       "      <td id=\"T_4bd9e_row9_col0\" class=\"data row9 col0\" >int64</td>\n",
       "      <td id=\"T_4bd9e_row9_col1\" class=\"data row9 col1\" >0.000000</td>\n",
       "      <td id=\"T_4bd9e_row9_col2\" class=\"data row9 col2\" >0</td>\n",
       "      <td id=\"T_4bd9e_row9_col3\" class=\"data row9 col3\" >0.000000</td>\n",
       "      <td id=\"T_4bd9e_row9_col4\" class=\"data row9 col4\" >1.000000</td>\n",
       "      <td id=\"T_4bd9e_row9_col5\" class=\"data row9 col5\" >No issue</td>\n",
       "    </tr>\n",
       "    <tr>\n",
       "      <th id=\"T_4bd9e_level0_row10\" class=\"row_heading level0 row10\" >speechiness</th>\n",
       "      <td id=\"T_4bd9e_row10_col0\" class=\"data row10 col0\" >float64</td>\n",
       "      <td id=\"T_4bd9e_row10_col1\" class=\"data row10 col1\" >0.000000</td>\n",
       "      <td id=\"T_4bd9e_row10_col2\" class=\"data row10 col2\" >NA</td>\n",
       "      <td id=\"T_4bd9e_row10_col3\" class=\"data row10 col3\" >0.000000</td>\n",
       "      <td id=\"T_4bd9e_row10_col4\" class=\"data row10 col4\" >0.918000</td>\n",
       "      <td id=\"T_4bd9e_row10_col5\" class=\"data row10 col5\" >Column has 2725 outliers greater than upper bound (0.27) or lower than lower bound(-0.10). Cap them or remove them.</td>\n",
       "    </tr>\n",
       "    <tr>\n",
       "      <th id=\"T_4bd9e_level0_row11\" class=\"row_heading level0 row11\" >acousticness</th>\n",
       "      <td id=\"T_4bd9e_row11_col0\" class=\"data row11 col0\" >float64</td>\n",
       "      <td id=\"T_4bd9e_row11_col1\" class=\"data row11 col1\" >0.000000</td>\n",
       "      <td id=\"T_4bd9e_row11_col2\" class=\"data row11 col2\" >NA</td>\n",
       "      <td id=\"T_4bd9e_row11_col3\" class=\"data row11 col3\" >0.000000</td>\n",
       "      <td id=\"T_4bd9e_row11_col4\" class=\"data row11 col4\" >0.994000</td>\n",
       "      <td id=\"T_4bd9e_row11_col5\" class=\"data row11 col5\" >Column has 1911 outliers greater than upper bound (0.63) or lower than lower bound(-0.35). Cap them or remove them.</td>\n",
       "    </tr>\n",
       "    <tr>\n",
       "      <th id=\"T_4bd9e_level0_row12\" class=\"row_heading level0 row12\" >instrumentalness</th>\n",
       "      <td id=\"T_4bd9e_row12_col0\" class=\"data row12 col0\" >float64</td>\n",
       "      <td id=\"T_4bd9e_row12_col1\" class=\"data row12 col1\" >0.000000</td>\n",
       "      <td id=\"T_4bd9e_row12_col2\" class=\"data row12 col2\" >NA</td>\n",
       "      <td id=\"T_4bd9e_row12_col3\" class=\"data row12 col3\" >0.000000</td>\n",
       "      <td id=\"T_4bd9e_row12_col4\" class=\"data row12 col4\" >0.994000</td>\n",
       "      <td id=\"T_4bd9e_row12_col5\" class=\"data row12 col5\" >Column has 6085 outliers greater than upper bound (0.02) or lower than lower bound(-0.01). Cap them or remove them.</td>\n",
       "    </tr>\n",
       "    <tr>\n",
       "      <th id=\"T_4bd9e_level0_row13\" class=\"row_heading level0 row13\" >liveness</th>\n",
       "      <td id=\"T_4bd9e_row13_col0\" class=\"data row13 col0\" >float64</td>\n",
       "      <td id=\"T_4bd9e_row13_col1\" class=\"data row13 col1\" >0.000000</td>\n",
       "      <td id=\"T_4bd9e_row13_col2\" class=\"data row13 col2\" >NA</td>\n",
       "      <td id=\"T_4bd9e_row13_col3\" class=\"data row13 col3\" >0.000000</td>\n",
       "      <td id=\"T_4bd9e_row13_col4\" class=\"data row13 col4\" >0.996000</td>\n",
       "      <td id=\"T_4bd9e_row13_col5\" class=\"data row13 col5\" >Column has 1623 outliers greater than upper bound (0.48) or lower than lower bound(-0.14). Cap them or remove them.</td>\n",
       "    </tr>\n",
       "    <tr>\n",
       "      <th id=\"T_4bd9e_level0_row14\" class=\"row_heading level0 row14\" >valence</th>\n",
       "      <td id=\"T_4bd9e_row14_col0\" class=\"data row14 col0\" >float64</td>\n",
       "      <td id=\"T_4bd9e_row14_col1\" class=\"data row14 col1\" >0.000000</td>\n",
       "      <td id=\"T_4bd9e_row14_col2\" class=\"data row14 col2\" >NA</td>\n",
       "      <td id=\"T_4bd9e_row14_col3\" class=\"data row14 col3\" >0.000000</td>\n",
       "      <td id=\"T_4bd9e_row14_col4\" class=\"data row14 col4\" >0.991000</td>\n",
       "      <td id=\"T_4bd9e_row14_col5\" class=\"data row14 col5\" >No issue</td>\n",
       "    </tr>\n",
       "    <tr>\n",
       "      <th id=\"T_4bd9e_level0_row15\" class=\"row_heading level0 row15\" >tempo</th>\n",
       "      <td id=\"T_4bd9e_row15_col0\" class=\"data row15 col0\" >float64</td>\n",
       "      <td id=\"T_4bd9e_row15_col1\" class=\"data row15 col1\" >0.000000</td>\n",
       "      <td id=\"T_4bd9e_row15_col2\" class=\"data row15 col2\" >NA</td>\n",
       "      <td id=\"T_4bd9e_row15_col3\" class=\"data row15 col3\" >0.000000</td>\n",
       "      <td id=\"T_4bd9e_row15_col4\" class=\"data row15 col4\" >239.440000</td>\n",
       "      <td id=\"T_4bd9e_row15_col5\" class=\"data row15 col5\" >Column has 494 outliers greater than upper bound (185.04) or lower than lower bound(48.93). Cap them or remove them.</td>\n",
       "    </tr>\n",
       "    <tr>\n",
       "      <th id=\"T_4bd9e_level0_row16\" class=\"row_heading level0 row16\" >duration_ms</th>\n",
       "      <td id=\"T_4bd9e_row16_col0\" class=\"data row16 col0\" >int64</td>\n",
       "      <td id=\"T_4bd9e_row16_col1\" class=\"data row16 col1\" >0.000000</td>\n",
       "      <td id=\"T_4bd9e_row16_col2\" class=\"data row16 col2\" >69</td>\n",
       "      <td id=\"T_4bd9e_row16_col3\" class=\"data row16 col3\" >4000.000000</td>\n",
       "      <td id=\"T_4bd9e_row16_col4\" class=\"data row16 col4\" >517810.000000</td>\n",
       "      <td id=\"T_4bd9e_row16_col5\" class=\"data row16 col5\" >Column has 1197 outliers greater than upper bound (355825.12) or lower than lower bound(86892.12). Cap them or remove them.</td>\n",
       "    </tr>\n",
       "    <tr>\n",
       "      <th id=\"T_4bd9e_level0_row17\" class=\"row_heading level0 row17\" >track_album_release_date_year</th>\n",
       "      <td id=\"T_4bd9e_row17_col0\" class=\"data row17 col0\" >float64</td>\n",
       "      <td id=\"T_4bd9e_row17_col1\" class=\"data row17 col1\" >5.928199</td>\n",
       "      <td id=\"T_4bd9e_row17_col2\" class=\"data row17 col2\" >NA</td>\n",
       "      <td id=\"T_4bd9e_row17_col3\" class=\"data row17 col3\" >1957.000000</td>\n",
       "      <td id=\"T_4bd9e_row17_col4\" class=\"data row17 col4\" >2020.000000</td>\n",
       "      <td id=\"T_4bd9e_row17_col5\" class=\"data row17 col5\" >1681 missing values. Impute them with mean, median, mode, or a constant value such as 123., Column has 2495 outliers greater than upper bound (2032.50) or lower than lower bound(1996.50). Cap them or remove them.</td>\n",
       "    </tr>\n",
       "    <tr>\n",
       "      <th id=\"T_4bd9e_level0_row18\" class=\"row_heading level0 row18\" >playlist_count_per_song</th>\n",
       "      <td id=\"T_4bd9e_row18_col0\" class=\"data row18 col0\" >int64</td>\n",
       "      <td id=\"T_4bd9e_row18_col1\" class=\"data row18 col1\" >0.000000</td>\n",
       "      <td id=\"T_4bd9e_row18_col2\" class=\"data row18 col2\" >0</td>\n",
       "      <td id=\"T_4bd9e_row18_col3\" class=\"data row18 col3\" >1.000000</td>\n",
       "      <td id=\"T_4bd9e_row18_col4\" class=\"data row18 col4\" >8.000000</td>\n",
       "      <td id=\"T_4bd9e_row18_col5\" class=\"data row18 col5\" >Column has 2818 outliers greater than upper bound (1.00) or lower than lower bound(1.00). Cap them or remove them.</td>\n",
       "    </tr>\n",
       "    <tr>\n",
       "      <th id=\"T_4bd9e_level0_row19\" class=\"row_heading level0 row19\" >playlist_genre_count_per_song</th>\n",
       "      <td id=\"T_4bd9e_row19_col0\" class=\"data row19 col0\" >int64</td>\n",
       "      <td id=\"T_4bd9e_row19_col1\" class=\"data row19 col1\" >0.000000</td>\n",
       "      <td id=\"T_4bd9e_row19_col2\" class=\"data row19 col2\" >0</td>\n",
       "      <td id=\"T_4bd9e_row19_col3\" class=\"data row19 col3\" >1.000000</td>\n",
       "      <td id=\"T_4bd9e_row19_col4\" class=\"data row19 col4\" >10.000000</td>\n",
       "      <td id=\"T_4bd9e_row19_col5\" class=\"data row19 col5\" >Column has 3166 outliers greater than upper bound (1.00) or lower than lower bound(1.00). Cap them or remove them., Column has a high correlation with ['playlist_count_per_song']. Consider dropping one of them.</td>\n",
       "    </tr>\n",
       "  </tbody>\n",
       "</table>\n"
      ],
      "text/plain": [
       "<pandas.io.formats.style.Styler at 0x1e26a06e150>"
      ]
     },
     "metadata": {},
     "output_type": "display_data"
    },
    {
     "name": "stdout",
     "output_type": "stream",
     "text": [
      "Number of All Scatter Plots = 55\n"
     ]
    },
    {
     "data": {
      "text/plain": [
       "<Figure size 1500x500 with 0 Axes>"
      ]
     },
     "metadata": {},
     "output_type": "display_data"
    }
   ],
   "source": [
    "from autoviz.AutoViz_Class import AutoViz_Class\n",
    "%matplotlib inline\n",
    "\n",
    "AV = AutoViz_Class()\n",
    "AV.AutoViz('sorted_spotify_songs_data.csv')\n",
    "\n",
    "import matplotlib.pyplot as plt\n",
    "plt.show()\n"
   ]
  },
  {
   "cell_type": "markdown",
   "id": "5312504e-2b1f-4f2b-b7ac-1940a97f922a",
   "metadata": {},
   "source": [
    "# EDA - Explenatory Data Analysis"
   ]
  },
  {
   "cell_type": "code",
   "execution_count": null,
   "id": "c45dbbbf-b5a7-4e7b-ad79-5fcaad49084f",
   "metadata": {},
   "outputs": [],
   "source": [
    "df.describe()"
   ]
  },
  {
   "cell_type": "code",
   "execution_count": null,
   "id": "8b79bde9-cd1c-4088-aecc-47a3811766f9",
   "metadata": {},
   "outputs": [],
   "source": [
    "import matplotlib.pyplot as plt\n",
    "import seaborn as sb"
   ]
  },
  {
   "cell_type": "markdown",
   "id": "c217aa1b-62db-4c3f-b1b1-5a411db4af7f",
   "metadata": {},
   "source": [
    "# Target Value"
   ]
  },
  {
   "cell_type": "markdown",
   "id": "33227c04-1abe-48d5-881a-77bd18f94cea",
   "metadata": {},
   "source": []
  },
  {
   "cell_type": "code",
   "execution_count": null,
   "id": "f6e820dc-4e88-4528-a5df-3ef649b161b2",
   "metadata": {},
   "outputs": [],
   "source": [
    "sb.countplot(x='track_popularity', data=df)"
   ]
  },
  {
   "cell_type": "code",
   "execution_count": null,
   "id": "31adec00-7439-4732-9375-fb529a2244da",
   "metadata": {},
   "outputs": [],
   "source": [
    "#avg_track_popularity_above60 = df[df['track_popularity'] >=65]['track_popularity'].mean()\n",
    "#avg_track_popularity_under60 = df[df['track_popularity'] < 65]['track_popularity'].mean()\n",
    "\n",
    "#print(f\"Average Track Popularity_above60 : {avg_track_popularity_above60}\")\n",
    "#print(f\"Average Track Popularity_under60 : {avg_track_popularity_under60}\")\n",
    "#check it"
   ]
  },
  {
   "cell_type": "code",
   "execution_count": null,
   "id": "68f09649-d688-4a71-bcc7-4f886829cbd9",
   "metadata": {},
   "outputs": [],
   "source": [
    "plt.figure(figsize=(15, 5))  # Ensure plt is correctly recognized\n",
    "sns.lineplot(x=df['track_album_release_date'], y=df['track_popularity'])\n",
    "plt.title('Track Popularity Over Years')\n",
    "plt.xlabel('Release Year')\n",
    "plt.ylabel('Average Popularity')\n",
    "plt.show()"
   ]
  },
  {
   "cell_type": "code",
   "execution_count": null,
   "id": "91f325d8-e7f3-46b7-b557-a0fe583727dd",
   "metadata": {},
   "outputs": [],
   "source": [
    "year_counts = df['track_album_release_date_year'].value_counts().sort_index()\n",
    "\n",
    "plt.figure(figsize=(15, 5))\n",
    "sns.lineplot(x=year_counts.index, y=year_counts.values, marker='o')\n",
    "\n",
    "# Add numbers above each point\n",
    "for x, y in zip(year_counts.index, year_counts.values):\n",
    "    plt.text(x, y, str(y), ha='center', va='bottom', fontsize=10, fontweight='bold')\n",
    "\n",
    "plt.title('Number of Tracks Released Per Year')\n",
    "plt.xlabel('Release Year')\n",
    "plt.ylabel('Track Count')\n",
    "plt.grid(True)\n",
    "plt.show()"
   ]
  },
  {
   "cell_type": "code",
   "execution_count": null,
   "id": "b3c0fef8-827f-4256-ac9b-898f4096a774",
   "metadata": {},
   "outputs": [],
   "source": [
    "count_before_2010 = df[df['track_album_release_date_year'] < 2010]['track_id'].nunique()\n",
    "\n",
    "# Count tracks released after 2010\n",
    "count_after_2010 = df[df['track_album_release_date_year'] >= 2010]['track_id'].nunique()\n",
    "\n",
    "# Display results\n",
    "print(f\"Tracks released before 2010: {count_before_2010}\")\n",
    "print(f\"Tracks released after 2010: {count_after_2010}\")"
   ]
  },
  {
   "cell_type": "code",
   "execution_count": null,
   "id": "3492a50b-a26d-4522-b7a6-29caa7802ca4",
   "metadata": {},
   "outputs": [],
   "source": [
    "to do t-test בין הפופולריות שלפני 2010 ו אחרי 2010!!!!!!!!!!!!!!!!!!!!!!!!!!!"
   ]
  },
  {
   "cell_type": "code",
   "execution_count": null,
   "id": "7bd7cd8d-b6a9-42c6-80d4-2ca0cc1291e2",
   "metadata": {},
   "outputs": [],
   "source": [
    "#Applying a cutoff to analyze data from 2010 onward will necessitate the exclusion of approximately 25% of the dataset. Additionally, \n",
    "#we have identified 1,660 missing values, which, if occurring post-2010, would account for approximately 22% of the remaining data."
   ]
  },
  {
   "cell_type": "code",
   "execution_count": null,
   "id": "14852c7e-7fa0-4bce-97db-6af471fc95da",
   "metadata": {},
   "outputs": [],
   "source": [
    "count_before_2000 = df[df['track_album_release_date_year'] < 2000]['track_id'].nunique()\n",
    "\n",
    "# Count tracks released after 2000\n",
    "count_after_2000 = df[df['track_album_release_date_year'] >= 2000]['track_id'].nunique()\n",
    "\n",
    "# Display results\n",
    "print(f\"Tracks released before 2000: {count_before_2000}\")\n",
    "print(f\"Tracks released after 2000: {count_after_2000}\")"
   ]
  },
  {
   "cell_type": "code",
   "execution_count": null,
   "id": "6835cc4e-ac3d-48af-bf7e-9508c4a17752",
   "metadata": {},
   "outputs": [],
   "source": [
    "#If I apply a cutoff and analyze data from 2000 onward, I will need to exclude approximately 11% of the dataset."
   ]
  },
  {
   "cell_type": "markdown",
   "id": "28deb9b2-a9b4-4271-b9ef-2419bdcfee0e",
   "metadata": {},
   "source": [
    "# dummies"
   ]
  },
  {
   "cell_type": "code",
   "execution_count": null,
   "id": "cebfc893-b9ac-46f6-84c7-44a9f10196f5",
   "metadata": {},
   "outputs": [],
   "source": [
    "#creating df_dummy\n",
    "#df_dummy=df['popularity_group','mode']\n",
    "#df_dummy"
   ]
  },
  {
   "cell_type": "code",
   "execution_count": null,
   "id": "a28b9a17-9a81-489a-8365-f4226fce7ea3",
   "metadata": {},
   "outputs": [],
   "source": [
    "cols= ['loudness','speechiness','acousticness','instrumentalness','liveness','valence','tempo','danceability','energy','duration_ms','track_popularity']\n",
    "con_df = df[cols]"
   ]
  },
  {
   "cell_type": "code",
   "execution_count": null,
   "id": "709dda7b-3d44-4d46-975c-05d5a6c560da",
   "metadata": {},
   "outputs": [],
   "source": [
    "\n",
    "cols = ['loudness', 'speechiness', 'acousticness', 'instrumentalness', 'liveness', \n",
    "        'valence', 'tempo', 'danceability', 'energy', 'duration_ms', 'track_popularity']\n",
    "\n",
    "# Ensure only numeric columns\n",
    "con_df = con_df[cols].dropna()\n",
    "\n",
    "# Plot histograms\n",
    "con_df.hist(figsize=(20, 15), bins=20, xlabelsize=8, ylabelsize=8, color=\"navy\")\n",
    "plt.show()"
   ]
  },
  {
   "cell_type": "markdown",
   "id": "dcf83610-751b-43e3-9077-314cbfa560d9",
   "metadata": {},
   "source": [
    "# Skewness\n"
   ]
  },
  {
   "cell_type": "code",
   "execution_count": null,
   "id": "03995aa1-67e1-45ec-9850-df791cd1b2cb",
   "metadata": {},
   "outputs": [],
   "source": [
    "def highlight(cell_value):\n",
    "    highlight = 'background-color: mediumspringgreen;'\n",
    "    default = ''\n",
    "    negative = 'background-color: hotpink;'\n",
    "    if cell_value > 1:\n",
    "        return highlight\n",
    "    elif cell_value < -1:\n",
    "        return negative\n",
    "    #else\n",
    "       # return default\n",
    "pd.DataFrame(con_df.skew(),columns=['skewness']).sort_values(by='skewness', ascending=False).style.applymap(highlight)"
   ]
  },
  {
   "cell_type": "markdown",
   "id": "4ecf4a40-cc95-4e99-a4ab-7aa59074e8dc",
   "metadata": {},
   "source": [
    "##### Most continus data are not normaly distributed (normal=0.5-(-0.5))"
   ]
  },
  {
   "cell_type": "code",
   "execution_count": null,
   "id": "6dc4cad4-d03a-4827-b20d-ea3655ed7d02",
   "metadata": {},
   "outputs": [],
   "source": [
    "# Correlation"
   ]
  },
  {
   "cell_type": "code",
   "execution_count": null,
   "id": "f7740867-35ce-496c-8890-116df5f548c8",
   "metadata": {},
   "outputs": [],
   "source": [
    "df.info()"
   ]
  },
  {
   "cell_type": "code",
   "execution_count": null,
   "id": "7cb74253-34b6-4b34-ae2c-6a86f09c9ba1",
   "metadata": {},
   "outputs": [],
   "source": [
    "from sklearn.preprocessing import LabelEncoder\n",
    "\n",
    "# Identify object (categorical) columns\n",
    "categorical_cols = df.select_dtypes(include=['object', 'category']).columns\n",
    "\n",
    "# Initialize LabelEncoder\n",
    "le = LabelEncoder()\n",
    "\n",
    "# Apply Label Encoding to each categorical column\n",
    "for col in categorical_cols:\n",
    "    df[col] = le.fit_transform(df[col])"
   ]
  },
  {
   "cell_type": "code",
   "execution_count": null,
   "id": "07cd4335-22bd-4058-a807-f03c54e7431c",
   "metadata": {},
   "outputs": [],
   "source": [
    "df.info()"
   ]
  },
  {
   "cell_type": "code",
   "execution_count": null,
   "id": "e33d8678-2b46-4f96-8e00-dffebd983ebb",
   "metadata": {},
   "outputs": [],
   "source": [
    "df_numeric = df.select_dtypes(include=['number'])  # Select only numeric columns\n",
    "corr_matrix = df_numeric.corr(method='spearman')\n",
    "print(corr_matrix)"
   ]
  },
  {
   "cell_type": "code",
   "execution_count": null,
   "id": "fb0764d9-3f2d-42ac-bb8b-fcdd3ed7a31f",
   "metadata": {},
   "outputs": [],
   "source": [
    "\n",
    "# Keep only numeric columns\n",
    "df_numeric = df.select_dtypes(include=['number'])\n",
    "\n",
    "# Compute correlation\n",
    "corr_matrix = df_numeric.corr()"
   ]
  },
  {
   "cell_type": "code",
   "execution_count": null,
   "id": "4fa2fdc2-4aa7-42d7-83e6-9fc39f533754",
   "metadata": {},
   "outputs": [],
   "source": []
  }
 ],
 "metadata": {
  "kernelspec": {
   "display_name": "Python 3 (ipykernel)",
   "language": "python",
   "name": "python3"
  },
  "language_info": {
   "codemirror_mode": {
    "name": "ipython",
    "version": 3
   },
   "file_extension": ".py",
   "mimetype": "text/x-python",
   "name": "python",
   "nbconvert_exporter": "python",
   "pygments_lexer": "ipython3",
   "version": "3.12.7"
  }
 },
 "nbformat": 4,
 "nbformat_minor": 5
}
