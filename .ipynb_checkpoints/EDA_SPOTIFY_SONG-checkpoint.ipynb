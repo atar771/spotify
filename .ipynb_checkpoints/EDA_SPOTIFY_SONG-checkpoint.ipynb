{
 "cells": [
  {
   "cell_type": "markdown",
   "id": "ff6ada7e-a155-4fc7-97a0-889b11475582",
   "metadata": {},
   "source": [
    "# EDA - Explenatory Data Analysis"
   ]
  },
  {
   "cell_type": "code",
   "execution_count": null,
   "id": "391e554c-b9d2-4e70-9efe-50fa53ca241c",
   "metadata": {},
   "outputs": [],
   "source": [
    "import matplotlib as plt\n",
    "import pandas as pd\n",
    "import numpy as np\n",
    "import warnings\n",
    "import seaborn as sns\n",
    "import matplotlib.pyplot as plt\n",
    "warnings.filterwarnings(\"ignore\")\n",
    "%matplotlib inline"
   ]
  },
  {
   "cell_type": "code",
   "execution_count": null,
   "id": "1309c83c-9a5e-4204-8a72-b1fcc968b21f",
   "metadata": {},
   "outputs": [],
   "source": [
    "df = pd.read_pickle(r\"spotify_songs_df_after_data_prep_9.3.25.pkl\")\n",
    "df.head()"
   ]
  },
  {
   "cell_type": "code",
   "execution_count": null,
   "id": "3b7d016e-ccd9-43ae-b2cb-43861b87ff98",
   "metadata": {},
   "outputs": [],
   "source": [
    "df.shape"
   ]
  },
  {
   "cell_type": "code",
   "execution_count": null,
   "id": "18b43521-5a38-4131-ad4a-c9521fee409e",
   "metadata": {},
   "outputs": [],
   "source": [
    "df.info()"
   ]
  },
  {
   "cell_type": "code",
   "execution_count": null,
   "id": "c185b28b-608e-406d-bddb-2fe9cc05a2b1",
   "metadata": {},
   "outputs": [],
   "source": [
    "df.describe()"
   ]
  },
  {
   "cell_type": "code",
   "execution_count": null,
   "id": "fb02c59d-e283-4d60-a171-0a5ea814d536",
   "metadata": {},
   "outputs": [],
   "source": [
    "from IPython.core.display import HTML\n",
    "\n",
    "table_html = \"\"\"\n",
    "<style>\n",
    "    table {\n",
    "        width: 100%;\n",
    "        border-collapse: collapse;\n",
    "        font-family: Arial, sans-serif;\n",
    "    }\n",
    "    th, td {\n",
    "        border: 1px solid #ddd;\n",
    "        padding: 8px;\n",
    "        text-align: right; /* Right align text */\n",
    "    }\n",
    "    th {\n",
    "        background-color: #4CAF50;\n",
    "        color: white;\n",
    "    }\n",
    "    tr:nth-child(even) {\n",
    "        background-color: #f2f2f2;\n",
    "    }\n",
    "    tr:hover {\n",
    "        background-color: #ddd;\n",
    "    }\n",
    "</style>\n",
    "\n",
    "<table>\n",
    "    <tr>\n",
    "        <th>Variable</th>\n",
    "        <th>Description</th>\n",
    "    </tr>\n",
    "    <tr>\n",
    "        <td><b>track_id</b></td>\n",
    "        <td>Unique identifier for the song.</td>\n",
    "    </tr>\n",
    "    <tr>\n",
    "        <td><b>track_artist</b></td>\n",
    "        <td>Name of the artist who performed the song.</td>\n",
    "    </tr>\n",
    "    <tr>\n",
    "        <td><b>track_popularity</b></td>\n",
    "        <td>Popularity score of the song (0-100), where a higher value indicates greater popularity.</td>\n",
    "    </tr>\n",
    "    <tr>\n",
    "        <td><b>track_album_id</b></td>\n",
    "        <td>Unique identifier for the album.</td>\n",
    "    </tr>\n",
    "    <tr>\n",
    "        <td><b>track_album_release_date</b></td>\n",
    "        <td>Date when the album was released.</td>\n",
    "    </tr>\n",
    "    <tr>\n",
    "        <td><b>danceability</b></td>\n",
    "        <td>Measures how suitable a track is for dancing (0.0 - least danceable, 1.0 - most danceable).</td>\n",
    "    </tr>\n",
    "    <tr>\n",
    "        <td><b>energy</b></td>\n",
    "        <td>Represents intensity and activity (0.0 - low energy, 1.0 - high energy).</td>\n",
    "    </tr>\n",
    "    <tr>\n",
    "        <td><b>key</b></td>\n",
    "        <td>Estimated key of the track, mapped to pitch classes (e.g., 0 = C, 1 = C♯/D♭, etc.).</td>\n",
    "    </tr>\n",
    "    <tr>\n",
    "        <td><b>loudness</b></td>\n",
    "        <td>Overall loudness of the track in decibels (dB), typically ranging from -60 to 0 dB.</td>\n",
    "    </tr>\n",
    "    <tr>\n",
    "        <td><b>mode</b></td>\n",
    "        <td>Indicates modality: 1 = Major, 0 = Minor.</td>\n",
    "    </tr>\n",
    "    <tr>\n",
    "        <td><b>speechiness</b></td>\n",
    "        <td>Measures presence of spoken words (higher values indicate more speech-like content).</td>\n",
    "    </tr>\n",
    "    <tr>\n",
    "        <td><b>acousticness</b></td>\n",
    "        <td>Confidence measure (0.0 - low, 1.0 - high) indicating whether a track is acoustic.</td>\n",
    "    </tr>\n",
    "    <tr>\n",
    "        <td><b>instrumentalness</b></td>\n",
    "        <td>Predicts whether a track has vocals (higher values suggest an instrumental track).</td>\n",
    "    </tr>\n",
    "    <tr>\n",
    "        <td><b>liveness</b></td>\n",
    "        <td>Detects audience presence (higher values suggest a live recording).</td>\n",
    "    </tr>\n",
    "    <tr>\n",
    "        <td><b>valence</b></td>\n",
    "        <td>Measures musical positiveness (0.0 - sad/negative, 1.0 - happy/positive).</td>\n",
    "    </tr>\n",
    "    <tr>\n",
    "        <td><b>tempo</b></td>\n",
    "        <td>Estimated tempo of the track in beats per minute (BPM).</td>\n",
    "    </tr>\n",
    "    <tr>\n",
    "        <td><b>duration_ms</b></td>\n",
    "        <td>Duration of the track in milliseconds.</td>\n",
    "    </tr>\n",
    "    <tr>\n",
    "        <td><b>track_album_release_date_year</b></td>\n",
    "        <td>Temporary column used for exploratory data analysis (EDA).</td>\n",
    "    </tr>\n",
    "    <tr>\n",
    "        <td><b>playlist_count_per_song</b></td>\n",
    "        <td>Number of playlists containing the track.</td>\n",
    "    </tr>\n",
    "    <tr>\n",
    "        <td><b>playlist_genre_count_per_song</b></td>\n",
    "        <td>Number of unique playlist genres associated with the track.</td>\n",
    "    </tr>\n",
    "</table>\n",
    "\"\"\"\n",
    "\n",
    "HTML(table_html)\n"
   ]
  },
  {
   "cell_type": "markdown",
   "id": "bbf9ae76-a86b-428b-833f-741655858ace",
   "metadata": {},
   "source": [
    "## Data Protocol"
   ]
  },
  {
   "cell_type": "code",
   "execution_count": null,
   "id": "0e0e6878-c0c1-44a7-960f-0c367ef0c4e9",
   "metadata": {},
   "outputs": [],
   "source": [
    "# Type of valaues\n",
    "df.dtypes.to_excel(\"spotify_datatype.xlsx\",\n",
    "             sheet_name='data_type')\n",
    "# Maximum valaues\n",
    "df.max().to_excel(\"max_spotify.xlsx\",\n",
    "             sheet_name='max')\n",
    "# Minimum Values\n",
    "df.min().to_excel(\"min_spotify.xlsx\",\n",
    "             sheet_name='min')\n",
    "# Missing Values\n",
    "df.isnull().sum(axis=0).to_excel(\"NA_spotify.xlsx\",\n",
    "             sheet_name='NA')\n",
    "# exporting results to the protocol\n",
    "df.nunique().to_excel(\"unique_spotifyr.xlsx\",\n",
    "             sheet_name='unique')"
   ]
  },
  {
   "cell_type": "markdown",
   "id": "d92573dd-5080-4269-ac62-cf75a3abe790",
   "metadata": {},
   "source": [
    "## Descriptive Statistics"
   ]
  },
  {
   "cell_type": "markdown",
   "id": "c1b0d4de-5b72-482f-8130-e92f750a3c4f",
   "metadata": {},
   "source": [
    "#Automated reports"
   ]
  },
  {
   "cell_type": "code",
   "execution_count": null,
   "id": "b37748be-ef1b-423d-8dc1-903cf6170c19",
   "metadata": {},
   "outputs": [],
   "source": [
    "### AutoViz"
   ]
  },
  {
   "cell_type": "code",
   "execution_count": null,
   "id": "869d1628-3737-4d1c-80ef-8738ab58e323",
   "metadata": {
    "scrolled": true
   },
   "outputs": [],
   "source": [
    "from autoviz.AutoViz_Class import AutoViz_Class\n",
    "%matplotlib inline\n",
    "\n",
    "AV = AutoViz_Class()\n",
    "AV.AutoViz('sorted_spotify_songs_data.csv')\n",
    "\n",
    "import matplotlib.pyplot as plt\n",
    "plt.show()\n"
   ]
  },
  {
   "cell_type": "markdown",
   "id": "28deb9b2-a9b4-4271-b9ef-2419bdcfee0e",
   "metadata": {},
   "source": [
    "## dummies"
   ]
  },
  {
   "cell_type": "code",
   "execution_count": null,
   "id": "31adec00-7439-4732-9375-fb529a2244da",
   "metadata": {},
   "outputs": [],
   "source": [
    "#avg_track_popularity_above60 = df[df['track_popularity'] >=65]['track_popularity'].mean()\n",
    "#avg_track_popularity_under60 = df[df['track_popularity'] < 65]['track_popularity'].mean()\n",
    "\n",
    "#print(f\"Average Track Popularity_above60 : {avg_track_popularity_above60}\")\n",
    "#print(f\"Average Track Popularity_under60 : {avg_track_popularity_under60}\")\n",
    "#check it"
   ]
  },
  {
   "cell_type": "code",
   "execution_count": null,
   "id": "4e7a5a88-7f56-4c6d-b80d-73ce97132783",
   "metadata": {},
   "outputs": [],
   "source": [
    "cols= ['loudness','speechiness','acousticness','instrumentalness','liveness','valence','tempo','danceability','energy','duration_ms'\n",
    "       ,'track_popularity']\n",
    "con_df = df[cols]"
   ]
  },
  {
   "cell_type": "code",
   "execution_count": null,
   "id": "709dda7b-3d44-4d46-975c-05d5a6c560da",
   "metadata": {},
   "outputs": [],
   "source": [
    "\n",
    "cols = ['loudness', 'speechiness', 'acousticness', 'instrumentalness', 'liveness', \n",
    "        'valence', 'tempo', 'danceability', 'energy', 'duration_ms', 'track_popularity']\n",
    "\n",
    "# Ensure only numeric columns\n",
    "con_df = con_df[cols].dropna()\n",
    "\n",
    "# Plot histograms\n",
    "con_df.hist(figsize=(20, 15), bins=20, xlabelsize=8, ylabelsize=8, color=\"navy\")\n",
    "plt.show()"
   ]
  },
  {
   "cell_type": "markdown",
   "id": "a478337c-e84d-4aa8-a535-a5aee6edbee1",
   "metadata": {},
   "source": [
    "## Categorials"
   ]
  },
  {
   "cell_type": "code",
   "execution_count": null,
   "id": "cbd4ad06-6f03-49d7-ab00-7280678558be",
   "metadata": {},
   "outputs": [],
   "source": [
    "new_df=['track_id', 'track_artist', 'track_album_id']\n",
    "df_cat= df[new_df]"
   ]
  },
  {
   "cell_type": "code",
   "execution_count": null,
   "id": "b054d3ec-de57-414a-bc82-d678b1ee6e7d",
   "metadata": {},
   "outputs": [],
   "source": [
    "df_cat.info()"
   ]
  },
  {
   "cell_type": "code",
   "execution_count": null,
   "id": "52f431c2-eb16-4aa2-abcc-f2c1c8b9b162",
   "metadata": {},
   "outputs": [],
   "source": [
    "a=3 #number of rows \n",
    "b=3 #number of columns\n",
    "c=1 #plot counter\n",
    "\n",
    "fig=plt.figure(figsize=(50,40))\n",
    "plt.subplots_adjust(hspace = 0.8)\n",
    "sns.set(font_scale = 2)\n",
    "for i in df_cat:\n",
    "    \n",
    "    plt.subplot(a,b,c)\n",
    "    plt.title('{}'.format(i))\n",
    "    plt.xlabel(i)\n",
    "    sns.countplot(df_cat[i])\n",
    "    c=c+1\n",
    "\n",
    "plt.show()\n",
    "    "
   ]
  },
  {
   "cell_type": "markdown",
   "id": "c217aa1b-62db-4c3f-b1b1-5a411db4af7f",
   "metadata": {},
   "source": [
    "## Target Value"
   ]
  },
  {
   "cell_type": "code",
   "execution_count": null,
   "id": "f6e820dc-4e88-4528-a5df-3ef649b161b2",
   "metadata": {},
   "outputs": [],
   "source": [
    "sb.countplot(x='track_popularity', data=df)"
   ]
  },
  {
   "cell_type": "code",
   "execution_count": null,
   "id": "cebfc893-b9ac-46f6-84c7-44a9f10196f5",
   "metadata": {},
   "outputs": [],
   "source": [
    "#creating df_dummy\n",
    "#df_dummy=df['popularity_group','mode']\n",
    "#df_dummy"
   ]
  },
  {
   "cell_type": "code",
   "execution_count": null,
   "id": "68f09649-d688-4a71-bcc7-4f886829cbd9",
   "metadata": {},
   "outputs": [],
   "source": [
    "plt.figure(figsize=(15, 5))  # Ensure plt is correctly recognized\n",
    "sns.lineplot(x=df['track_album_release_date'], y=df['track_popularity'])\n",
    "plt.title('Track Popularity Over Years')\n",
    "plt.xlabel('Release Year')\n",
    "plt.ylabel('Average Popularity')\n",
    "plt.show()"
   ]
  },
  {
   "cell_type": "code",
   "execution_count": null,
   "id": "91f325d8-e7f3-46b7-b557-a0fe583727dd",
   "metadata": {},
   "outputs": [],
   "source": [
    "year_counts = df['track_album_release_date_year'].value_counts().sort_index()\n",
    "\n",
    "plt.figure(figsize=(15, 5))\n",
    "sns.lineplot(x=year_counts.index, y=year_counts.values, marker='o')\n",
    "\n",
    "# Add numbers above each point\n",
    "for x, y in zip(year_counts.index, year_counts.values):\n",
    "    plt.text(x, y, str(y), ha='center', va='bottom', fontsize=10, fontweight='bold')\n",
    "\n",
    "plt.title('Number of Tracks Released Per Year')\n",
    "plt.xlabel('Release Year')\n",
    "plt.ylabel('Track Count')\n",
    "plt.grid(True)\n",
    "plt.show()"
   ]
  },
  {
   "cell_type": "code",
   "execution_count": null,
   "id": "b3c0fef8-827f-4256-ac9b-898f4096a774",
   "metadata": {},
   "outputs": [],
   "source": [
    "count_before_2010 = df[df['track_album_release_date_year'] < 2010]['track_id'].nunique()\n",
    "\n",
    "# Count tracks released after 2010\n",
    "count_after_2010 = df[df['track_album_release_date_year'] >= 2010]['track_id'].nunique()\n",
    "\n",
    "# Display results\n",
    "print(f\"Tracks released before 2010: {count_before_2010}\")\n",
    "print(f\"Tracks released after 2010: {count_after_2010}\")"
   ]
  },
  {
   "cell_type": "code",
   "execution_count": null,
   "id": "3492a50b-a26d-4522-b7a6-29caa7802ca4",
   "metadata": {},
   "outputs": [],
   "source": [
    "#to do t-test בין הפופולריות שלפני 2010 ו אחרי 2010!!!!!!!!!!!!!!!!!!!!!!!!!!!"
   ]
  },
  {
   "cell_type": "code",
   "execution_count": null,
   "id": "7bd7cd8d-b6a9-42c6-80d4-2ca0cc1291e2",
   "metadata": {},
   "outputs": [],
   "source": [
    "#Applying a cutoff to analyze data from 2010 onward will necessitate the exclusion of approximately 25% of the dataset. Additionally, \n",
    "#we have identified 1,660 missing values, which, if occurring post-2010, would account for approximately 22% of the remaining data."
   ]
  },
  {
   "cell_type": "code",
   "execution_count": null,
   "id": "14852c7e-7fa0-4bce-97db-6af471fc95da",
   "metadata": {},
   "outputs": [],
   "source": [
    "count_before_2000 = df[df['track_album_release_date_year'] < 2000]['track_id'].nunique()\n",
    "\n",
    "# Count tracks released after 2000\n",
    "count_after_2000 = df[df['track_album_release_date_year'] >= 2000]['track_id'].nunique()\n",
    "\n",
    "# Display results\n",
    "print(f\"Tracks released before 2000: {count_before_2000}\")\n",
    "print(f\"Tracks released after 2000: {count_after_2000}\")"
   ]
  },
  {
   "cell_type": "code",
   "execution_count": null,
   "id": "6835cc4e-ac3d-48af-bf7e-9508c4a17752",
   "metadata": {},
   "outputs": [],
   "source": [
    "#If I apply a cutoff and analyze data from 2000 onward, I will need to exclude approximately 11% of the dataset."
   ]
  },
  {
   "cell_type": "markdown",
   "id": "dcf83610-751b-43e3-9077-314cbfa560d9",
   "metadata": {},
   "source": [
    "## Skewness\n"
   ]
  },
  {
   "cell_type": "code",
   "execution_count": null,
   "id": "03995aa1-67e1-45ec-9850-df791cd1b2cb",
   "metadata": {},
   "outputs": [],
   "source": [
    "def highlight(cell_value):\n",
    "    highlight = 'background-color: mediumspringgreen;'\n",
    "    default = ''\n",
    "    negative = 'background-color: hotpink;'\n",
    "    if cell_value > 1:\n",
    "        return highlight\n",
    "    elif cell_value < -1:\n",
    "        return negative\n",
    "    #else\n",
    "       # return default\n",
    "pd.DataFrame(con_df.skew(),columns=['skewness']).sort_values(by='skewness', ascending=False).style.applymap(highlight)"
   ]
  },
  {
   "cell_type": "markdown",
   "id": "4ecf4a40-cc95-4e99-a4ab-7aa59074e8dc",
   "metadata": {},
   "source": [
    "##### Most continus data are not normaly distributed (normal=0.5-(-0.5))"
   ]
  },
  {
   "cell_type": "code",
   "execution_count": null,
   "id": "6dc4cad4-d03a-4827-b20d-ea3655ed7d02",
   "metadata": {},
   "outputs": [],
   "source": [
    "# Correlation"
   ]
  },
  {
   "cell_type": "code",
   "execution_count": null,
   "id": "f7740867-35ce-496c-8890-116df5f548c8",
   "metadata": {},
   "outputs": [],
   "source": [
    "df.info()"
   ]
  },
  {
   "cell_type": "markdown",
   "id": "23b32a17-fc9e-4ff7-995a-4b8d826b7e9e",
   "metadata": {},
   "source": [
    "## Label Encoding"
   ]
  },
  {
   "cell_type": "code",
   "execution_count": null,
   "id": "7cb74253-34b6-4b34-ae2c-6a86f09c9ba1",
   "metadata": {},
   "outputs": [],
   "source": [
    "from sklearn.preprocessing import LabelEncoder\n",
    "\n",
    "# Identify object (categorical) columns\n",
    "categorical_cols = df.select_dtypes(include=['object', 'category']).columns\n",
    "\n",
    "# Initialize LabelEncoder\n",
    "le = LabelEncoder()\n",
    "\n",
    "# Apply Label Encoding to each categorical column\n",
    "for col in categorical_cols:\n",
    "    df[col] = le.fit_transform(df[col])"
   ]
  },
  {
   "cell_type": "code",
   "execution_count": null,
   "id": "07cd4335-22bd-4058-a807-f03c54e7431c",
   "metadata": {},
   "outputs": [],
   "source": [
    "df.info()"
   ]
  },
  {
   "cell_type": "code",
   "execution_count": null,
   "id": "e33d8678-2b46-4f96-8e00-dffebd983ebb",
   "metadata": {},
   "outputs": [],
   "source": [
    "df_numeric = df.select_dtypes(include=['number'])  # Select only numeric columns\n",
    "corr_matrix = df_numeric.corr(method='spearman')\n",
    "print(corr_matrix)"
   ]
  },
  {
   "cell_type": "code",
   "execution_count": null,
   "id": "fb0764d9-3f2d-42ac-bb8b-fcdd3ed7a31f",
   "metadata": {},
   "outputs": [],
   "source": [
    "\n",
    "# Keep only numeric columns\n",
    "df_numeric = df.select_dtypes(include=['number'])\n",
    "\n",
    "# Compute correlation\n",
    "corr_matrix = df_numeric.corr()"
   ]
  },
  {
   "cell_type": "markdown",
   "id": "92e75298-e422-4dc8-9d09-26d934b01b8f",
   "metadata": {},
   "source": [
    "## Chis-quare"
   ]
  },
  {
   "cell_type": "code",
   "execution_count": null,
   "id": "960da944-2b6e-49ce-bb1a-6f7c6b2eed8b",
   "metadata": {},
   "outputs": [],
   "source": [
    "df_cat.columns"
   ]
  },
  {
   "cell_type": "code",
   "execution_count": null,
   "id": "49f25af7-f07b-4074-8a67-79e46b8aab76",
   "metadata": {},
   "outputs": [],
   "source": [
    "import pandas as pd\n",
    "from scipy.stats import chi2_contingency\n",
    "\n",
    "# Select specified columns\n",
    "selected_columns = ['workclass', 'education', 'education.num', 'marital.status',\n",
    "                    'occupation', 'relationship', 'race', 'native.country']\n",
    "df_chi = df[selected_columns]\n",
    "df_chi=df_chi.dropna()"
   ]
  },
  {
   "cell_type": "code",
   "execution_count": null,
   "id": "46e651f0-8c75-4609-947f-8a827499f851",
   "metadata": {},
   "outputs": [],
   "source": [
    "# Select two categorical columns for Chi-Square testing (e.g., 'education' vs 'marital.status')\n",
    "contingency_table = pd.crosstab(df_chi['education'], df_chi['marital.status'])\n",
    "#Select two categorical columns for Chi-Square testing (e.g., 'education' vs 'marital.status')\n",
    "# Perform the Chi-Square test\n",
    "chi2_stat, p_value, dof, expected = chi2_contingency(contingency_table)\n",
    "\n",
    "# Print results\n",
    "print(\"\\nChi-Square Test Results:\")\n",
    "print(f\"Chi-Square Statistic: {chi2_stat:.4f}\")\n",
    "print(f\"P-Value: {p_value:.4f}\")\n",
    "print(f\"Degrees of Freedom: {dof}\")"
   ]
  },
  {
   "cell_type": "markdown",
   "id": "646adb8f-e35d-4c81-bbaa-05b75b292780",
   "metadata": {},
   "source": [
    "## Continues (numeric)"
   ]
  },
  {
   "cell_type": "code",
   "execution_count": null,
   "id": "bf6b5233-7f8d-47fd-8afa-f29d502f9ec0",
   "metadata": {},
   "outputs": [],
   "source": [
    "#get all numeric data\n",
    "#cols=df.columns\n",
    "df_num=df._get_numeric_data().dropna()\n",
    "df_num.shape"
   ]
  },
  {
   "cell_type": "code",
   "execution_count": null,
   "id": "12b4b0ef-7503-4a77-b52e-b60c4ff48137",
   "metadata": {},
   "outputs": [],
   "source": [
    "df_num.info()"
   ]
  },
  {
   "cell_type": "code",
   "execution_count": null,
   "id": "1170e5ce-68de-4a93-9684-cb515e198924",
   "metadata": {},
   "outputs": [],
   "source": [
    "# Convert specified columns to float\n",
    "columns_to_convert = ['fnlwgt', 'education.num', 'age','hours.per.week', 'capital.loss']\n",
    "df_num = df[columns_to_convert].astype(float)"
   ]
  },
  {
   "cell_type": "code",
   "execution_count": null,
   "id": "a5bda9e2-3453-49f1-a96d-c7decb26cd42",
   "metadata": {},
   "outputs": [],
   "source": [
    "df_num.hist(figsize=(35, 35), bins=35, xlabelsize=8, ylabelsize=8, color = \"cornflowerblue\");"
   ]
  }
 ],
 "metadata": {
  "kernelspec": {
   "display_name": "Python 3 (ipykernel)",
   "language": "python",
   "name": "python3"
  },
  "language_info": {
   "codemirror_mode": {
    "name": "ipython",
    "version": 3
   },
   "file_extension": ".py",
   "mimetype": "text/x-python",
   "name": "python",
   "nbconvert_exporter": "python",
   "pygments_lexer": "ipython3",
   "version": "3.12.7"
  }
 },
 "nbformat": 4,
 "nbformat_minor": 5
}
