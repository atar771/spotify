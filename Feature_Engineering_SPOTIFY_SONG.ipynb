{
 "cells": [
  {
   "cell_type": "code",
   "execution_count": null,
   "id": "396bb8e5-d332-4b0a-aac7-b1368435c6c9",
   "metadata": {},
   "outputs": [],
   "source": [
    "import pandas as pd\n",
    "import numpy as np\n",
    "import matplotlib.pyplot as plt\n",
    "import seaborn as sns\n",
    "%matplotlib inline\n",
    "import warnings\n",
    "import pickle\n",
    "warnings.filterwarnings(\"ignore\")"
   ]
  },
  {
   "cell_type": "code",
   "execution_count": null,
   "id": "65b8ec54-ccce-4e98-ad6e-7b483490f904",
   "metadata": {},
   "outputs": [],
   "source": [
    "df=pd.read_pickle(\"df_Cleaned_Outliers_Missing.pkl\")\n",
    "\n",
    "with open(\"spotify_songs_df_text.pkl\", \"rb\") as f:\n",
    "    df_text = pickle.load(f)\n",
    "\n",
    "\n",
    "\n",
    "df.head()\n",
    "\n",
    "print(df_text) "
   ]
  },
  {
   "cell_type": "code",
   "execution_count": null,
   "id": "9b5a9e6a-9cdb-4d9c-a500-5bc1bdb38f03",
   "metadata": {},
   "outputs": [],
   "source": [
    "df.head()"
   ]
  },
  {
   "cell_type": "code",
   "execution_count": null,
   "id": "8573aea1-adc1-49bb-9023-3474ad27539b",
   "metadata": {},
   "outputs": [],
   "source": [
    "df.info()"
   ]
  },
  {
   "cell_type": "code",
   "execution_count": null,
   "id": "b4417e9b-3574-4690-97a8-e958cb3c971a",
   "metadata": {},
   "outputs": [],
   "source": [
    "#print(df_text)"
   ]
  },
  {
   "cell_type": "code",
   "execution_count": null,
   "id": "cc9b907f-862e-4785-8581-518b13c6ca94",
   "metadata": {},
   "outputs": [],
   "source": [
    "df_text.head()"
   ]
  },
  {
   "cell_type": "code",
   "execution_count": null,
   "id": "e079c90a-8254-41c6-915c-222ae3bce050",
   "metadata": {},
   "outputs": [],
   "source": [
    "df_text.info()"
   ]
  },
  {
   "cell_type": "code",
   "execution_count": null,
   "id": "198650e5-f668-4f0e-a0b8-0b8e28506605",
   "metadata": {},
   "outputs": [],
   "source": [
    "# WORD CLOUD"
   ]
  },
  {
   "cell_type": "code",
   "execution_count": null,
   "id": "ae743c47-5e52-490a-850b-e2fb9ee33f67",
   "metadata": {},
   "outputs": [],
   "source": [
    "#pip install nltk\n",
    "import nltk\n",
    "from wordcloud import WordCloud"
   ]
  },
  {
   "cell_type": "code",
   "execution_count": null,
   "id": "f93cf1a8-2c2e-4f74-a955-a4033a1b656c",
   "metadata": {},
   "outputs": [],
   "source": [
    "# track_name"
   ]
  },
  {
   "cell_type": "code",
   "execution_count": null,
   "id": "57f4620b-00d3-4e4a-b162-498950624415",
   "metadata": {},
   "outputs": [],
   "source": [
    "\n",
    "if 'track_name' in df_text.columns:\n",
    "    text = df_text['track_name'].astype(str).str.cat(sep=' ')  # Convert to string and join\n",
    "\n",
    "    # Generate the word cloud\n",
    "    wordcloud = WordCloud(width=800, height=400, background_color='black').generate(text)\n",
    "\n",
    "    # Display the word cloud\n",
    "    plt.figure(figsize=(10, 5))\n",
    "    plt.imshow(wordcloud, interpolation='bilinear')\n",
    "    plt.axis(\"off\")\n",
    "    plt.title(\"Word Cloud from Track Names\")\n",
    "    plt.show()\n",
    "else:\n",
    "    print(\"Error: 'track_name' column not found in df_text.\")"
   ]
  },
  {
   "cell_type": "code",
   "execution_count": null,
   "id": "5bd446b7-0417-4dd4-ad8e-e32de1ceee3b",
   "metadata": {},
   "outputs": [],
   "source": [
    "# track_album_name"
   ]
  },
  {
   "cell_type": "code",
   "execution_count": null,
   "id": "62c8fed4-e031-41c2-bf46-be42398b7565",
   "metadata": {},
   "outputs": [],
   "source": [
    "if 'track_name' in df_text.columns:\n",
    "    text = df_text['track_album_name'].astype(str).str.cat(sep=' ')  # Convert to string and join\n",
    "\n",
    "    # Generate the word cloud\n",
    "    wordcloud = WordCloud(width=800, height=400, background_color='black').generate(text)\n",
    "\n",
    "    # Display the word cloud\n",
    "    plt.figure(figsize=(10, 5))\n",
    "    plt.imshow(wordcloud, interpolation='bilinear')\n",
    "    plt.axis(\"off\")\n",
    "    plt.title(\"Word Cloud from Track Names\")\n",
    "    plt.show()\n",
    "else:\n",
    "    print(\"Error: 'track_name' column not found in df_text.\")"
   ]
  },
  {
   "cell_type": "code",
   "execution_count": null,
   "id": "32ef1676-8ef6-4952-bd67-766ebaadcc29",
   "metadata": {},
   "outputs": [],
   "source": [
    "# Creating new columns"
   ]
  },
  {
   "cell_type": "code",
   "execution_count": null,
   "id": "c47bda1f-83ef-4811-b4c9-533d51331848",
   "metadata": {},
   "outputs": [],
   "source": [
    "### Extract year and month, converting them explicitly to integers"
   ]
  },
  {
   "cell_type": "code",
   "execution_count": null,
   "id": "46227078-6ca9-438d-8a50-4015e592a85a",
   "metadata": {},
   "outputs": [],
   "source": [
    "df['track_album_release_year'] = df['track_album_release_date'].dt.year.astype('Int64')\n",
    "df['track_album_release_month'] = df['track_album_release_date'].dt.month.astype('Int64')\n",
    "\n",
    "# Drop the original column if it's no longer needed\n",
    "df.drop(columns=['track_album_release_date'], inplace=True)\n",
    "\n",
    "# Display the updated DataFrame\n",
    "print(df[['track_album_release_year', 'track_album_release_month']].head())"
   ]
  },
  {
   "cell_type": "code",
   "execution_count": null,
   "id": "d3a1df3e-23f4-48da-b137-d0b894f97644",
   "metadata": {},
   "outputs": [],
   "source": [
    " ### language of each song title from the track_name"
   ]
  },
  {
   "cell_type": "code",
   "execution_count": null,
   "id": "84b1837d-ca8c-4905-9be6-92fb8cadd347",
   "metadata": {},
   "outputs": [],
   "source": [
    "!pip install langdetect\n",
    "from langdetect import detect\n",
    "\n",
    "\n",
    "# Function to detect language\n",
    "def detect_language(text):\n",
    "    try:\n",
    "        return detect(text)\n",
    "    except:\n",
    "        return \"unknown\"\n",
    "\n",
    "# Apply language detection to the 'track_name' column\n",
    "df_text['language'] = df_text['track_name'].astype(str).apply(detect_language)\n",
    "\n",
    "# Display results\n",
    "print(df_text[['track_name', 'language']].head())\n"
   ]
  },
  {
   "cell_type": "code",
   "execution_count": null,
   "id": "a9a939f6-62ad-4ca5-bd50-122cffc739a9",
   "metadata": {},
   "outputs": [],
   "source": [
    "language_counts = df_text['language'].value_counts()\n",
    "\n",
    "# Display the result\n",
    "print(language_counts)"
   ]
  },
  {
   "cell_type": "code",
   "execution_count": null,
   "id": "e18f17fe-5f56-4e5a-b480-e917d866d6f1",
   "metadata": {},
   "outputs": [],
   "source": []
  }
 ],
 "metadata": {
  "kernelspec": {
   "display_name": "Python 3 (ipykernel)",
   "language": "python",
   "name": "python3"
  },
  "language_info": {
   "codemirror_mode": {
    "name": "ipython",
    "version": 3
   },
   "file_extension": ".py",
   "mimetype": "text/x-python",
   "name": "python",
   "nbconvert_exporter": "python",
   "pygments_lexer": "ipython3",
   "version": "3.12.7"
  }
 },
 "nbformat": 4,
 "nbformat_minor": 5
}
