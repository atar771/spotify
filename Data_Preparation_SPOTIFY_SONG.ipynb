{
 "cells": [
  {
   "cell_type": "code",
   "execution_count": 407,
   "id": "c4eaa26f-4b7b-45b2-854d-4f963bb29929",
   "metadata": {},
   "outputs": [],
   "source": [
    "import pandas as pd\n",
    "import numpy as np\n",
    "import seaborn as sns\n",
    "import sklearn.metrics as metrics \n",
    "import math\n",
    "import warnings\n",
    "import re #להסרת סימנים מיוחדים\n",
    "warnings.filterwarnings(\"ignore\", category=FutureWarning)\n",
    "import pickle"
   ]
  },
  {
   "cell_type": "code",
   "execution_count": 408,
   "id": "e334ede2-fb56-48e2-9f2f-48bb0f543ba8",
   "metadata": {},
   "outputs": [],
   "source": [
    "df = pd.read_csv(r'C:\\Users\\Meital atar\\Documents\\DATA_SCIENCE\\ML_PROJECT_spotify_songs\\spotify_songs.csv', index_col=None) # without index"
   ]
  },
  {
   "cell_type": "code",
   "execution_count": 409,
   "id": "1cfc473a-b328-4018-91ba-e8e3273ca8c8",
   "metadata": {},
   "outputs": [
    {
     "data": {
      "text/html": [
       "<div>\n",
       "<style scoped>\n",
       "    .dataframe tbody tr th:only-of-type {\n",
       "        vertical-align: middle;\n",
       "    }\n",
       "\n",
       "    .dataframe tbody tr th {\n",
       "        vertical-align: top;\n",
       "    }\n",
       "\n",
       "    .dataframe thead th {\n",
       "        text-align: right;\n",
       "    }\n",
       "</style>\n",
       "<table border=\"1\" class=\"dataframe\">\n",
       "  <thead>\n",
       "    <tr style=\"text-align: right;\">\n",
       "      <th></th>\n",
       "      <th>track_id</th>\n",
       "      <th>track_name</th>\n",
       "      <th>track_artist</th>\n",
       "      <th>track_popularity</th>\n",
       "      <th>track_album_id</th>\n",
       "      <th>track_album_name</th>\n",
       "      <th>track_album_release_date</th>\n",
       "      <th>playlist_name</th>\n",
       "      <th>playlist_id</th>\n",
       "      <th>playlist_genre</th>\n",
       "      <th>...</th>\n",
       "      <th>key</th>\n",
       "      <th>loudness</th>\n",
       "      <th>mode</th>\n",
       "      <th>speechiness</th>\n",
       "      <th>acousticness</th>\n",
       "      <th>instrumentalness</th>\n",
       "      <th>liveness</th>\n",
       "      <th>valence</th>\n",
       "      <th>tempo</th>\n",
       "      <th>duration_ms</th>\n",
       "    </tr>\n",
       "  </thead>\n",
       "  <tbody>\n",
       "    <tr>\n",
       "      <th>0</th>\n",
       "      <td>6f807x0ima9a1j3VPbc7VN</td>\n",
       "      <td>I Don't Care (with Justin Bieber) - Loud Luxur...</td>\n",
       "      <td>Ed Sheeran</td>\n",
       "      <td>66</td>\n",
       "      <td>2oCs0DGTsRO98Gh5ZSl2Cx</td>\n",
       "      <td>I Don't Care (with Justin Bieber) [Loud Luxury...</td>\n",
       "      <td>2019-06-14</td>\n",
       "      <td>Pop Remix</td>\n",
       "      <td>37i9dQZF1DXcZDD7cfEKhW</td>\n",
       "      <td>pop</td>\n",
       "      <td>...</td>\n",
       "      <td>6</td>\n",
       "      <td>-2.634</td>\n",
       "      <td>1</td>\n",
       "      <td>0.0583</td>\n",
       "      <td>0.1020</td>\n",
       "      <td>0.000000</td>\n",
       "      <td>0.0653</td>\n",
       "      <td>0.518</td>\n",
       "      <td>122.036</td>\n",
       "      <td>194754</td>\n",
       "    </tr>\n",
       "    <tr>\n",
       "      <th>1</th>\n",
       "      <td>0r7CVbZTWZgbTCYdfa2P31</td>\n",
       "      <td>Memories - Dillon Francis Remix</td>\n",
       "      <td>Maroon 5</td>\n",
       "      <td>67</td>\n",
       "      <td>63rPSO264uRjW1X5E6cWv6</td>\n",
       "      <td>Memories (Dillon Francis Remix)</td>\n",
       "      <td>2019-12-13</td>\n",
       "      <td>Pop Remix</td>\n",
       "      <td>37i9dQZF1DXcZDD7cfEKhW</td>\n",
       "      <td>pop</td>\n",
       "      <td>...</td>\n",
       "      <td>11</td>\n",
       "      <td>-4.969</td>\n",
       "      <td>1</td>\n",
       "      <td>0.0373</td>\n",
       "      <td>0.0724</td>\n",
       "      <td>0.004210</td>\n",
       "      <td>0.3570</td>\n",
       "      <td>0.693</td>\n",
       "      <td>99.972</td>\n",
       "      <td>162600</td>\n",
       "    </tr>\n",
       "    <tr>\n",
       "      <th>2</th>\n",
       "      <td>1z1Hg7Vb0AhHDiEmnDE79l</td>\n",
       "      <td>All the Time - Don Diablo Remix</td>\n",
       "      <td>Zara Larsson</td>\n",
       "      <td>70</td>\n",
       "      <td>1HoSmj2eLcsrR0vE9gThr4</td>\n",
       "      <td>All the Time (Don Diablo Remix)</td>\n",
       "      <td>2019-07-05</td>\n",
       "      <td>Pop Remix</td>\n",
       "      <td>37i9dQZF1DXcZDD7cfEKhW</td>\n",
       "      <td>pop</td>\n",
       "      <td>...</td>\n",
       "      <td>1</td>\n",
       "      <td>-3.432</td>\n",
       "      <td>0</td>\n",
       "      <td>0.0742</td>\n",
       "      <td>0.0794</td>\n",
       "      <td>0.000023</td>\n",
       "      <td>0.1100</td>\n",
       "      <td>0.613</td>\n",
       "      <td>124.008</td>\n",
       "      <td>176616</td>\n",
       "    </tr>\n",
       "    <tr>\n",
       "      <th>3</th>\n",
       "      <td>75FpbthrwQmzHlBJLuGdC7</td>\n",
       "      <td>Call You Mine - Keanu Silva Remix</td>\n",
       "      <td>The Chainsmokers</td>\n",
       "      <td>60</td>\n",
       "      <td>1nqYsOef1yKKuGOVchbsk6</td>\n",
       "      <td>Call You Mine - The Remixes</td>\n",
       "      <td>2019-07-19</td>\n",
       "      <td>Pop Remix</td>\n",
       "      <td>37i9dQZF1DXcZDD7cfEKhW</td>\n",
       "      <td>pop</td>\n",
       "      <td>...</td>\n",
       "      <td>7</td>\n",
       "      <td>-3.778</td>\n",
       "      <td>1</td>\n",
       "      <td>0.1020</td>\n",
       "      <td>0.0287</td>\n",
       "      <td>0.000009</td>\n",
       "      <td>0.2040</td>\n",
       "      <td>0.277</td>\n",
       "      <td>121.956</td>\n",
       "      <td>169093</td>\n",
       "    </tr>\n",
       "    <tr>\n",
       "      <th>4</th>\n",
       "      <td>1e8PAfcKUYoKkxPhrHqw4x</td>\n",
       "      <td>Someone You Loved - Future Humans Remix</td>\n",
       "      <td>Lewis Capaldi</td>\n",
       "      <td>69</td>\n",
       "      <td>7m7vv9wlQ4i0LFuJiE2zsQ</td>\n",
       "      <td>Someone You Loved (Future Humans Remix)</td>\n",
       "      <td>2019-03-05</td>\n",
       "      <td>Pop Remix</td>\n",
       "      <td>37i9dQZF1DXcZDD7cfEKhW</td>\n",
       "      <td>pop</td>\n",
       "      <td>...</td>\n",
       "      <td>1</td>\n",
       "      <td>-4.672</td>\n",
       "      <td>1</td>\n",
       "      <td>0.0359</td>\n",
       "      <td>0.0803</td>\n",
       "      <td>0.000000</td>\n",
       "      <td>0.0833</td>\n",
       "      <td>0.725</td>\n",
       "      <td>123.976</td>\n",
       "      <td>189052</td>\n",
       "    </tr>\n",
       "  </tbody>\n",
       "</table>\n",
       "<p>5 rows × 23 columns</p>\n",
       "</div>"
      ],
      "text/plain": [
       "                 track_id                                         track_name  \\\n",
       "0  6f807x0ima9a1j3VPbc7VN  I Don't Care (with Justin Bieber) - Loud Luxur...   \n",
       "1  0r7CVbZTWZgbTCYdfa2P31                    Memories - Dillon Francis Remix   \n",
       "2  1z1Hg7Vb0AhHDiEmnDE79l                    All the Time - Don Diablo Remix   \n",
       "3  75FpbthrwQmzHlBJLuGdC7                  Call You Mine - Keanu Silva Remix   \n",
       "4  1e8PAfcKUYoKkxPhrHqw4x            Someone You Loved - Future Humans Remix   \n",
       "\n",
       "       track_artist  track_popularity          track_album_id  \\\n",
       "0        Ed Sheeran                66  2oCs0DGTsRO98Gh5ZSl2Cx   \n",
       "1          Maroon 5                67  63rPSO264uRjW1X5E6cWv6   \n",
       "2      Zara Larsson                70  1HoSmj2eLcsrR0vE9gThr4   \n",
       "3  The Chainsmokers                60  1nqYsOef1yKKuGOVchbsk6   \n",
       "4     Lewis Capaldi                69  7m7vv9wlQ4i0LFuJiE2zsQ   \n",
       "\n",
       "                                    track_album_name track_album_release_date  \\\n",
       "0  I Don't Care (with Justin Bieber) [Loud Luxury...               2019-06-14   \n",
       "1                    Memories (Dillon Francis Remix)               2019-12-13   \n",
       "2                    All the Time (Don Diablo Remix)               2019-07-05   \n",
       "3                        Call You Mine - The Remixes               2019-07-19   \n",
       "4            Someone You Loved (Future Humans Remix)               2019-03-05   \n",
       "\n",
       "  playlist_name             playlist_id playlist_genre  ... key  loudness  \\\n",
       "0     Pop Remix  37i9dQZF1DXcZDD7cfEKhW            pop  ...   6    -2.634   \n",
       "1     Pop Remix  37i9dQZF1DXcZDD7cfEKhW            pop  ...  11    -4.969   \n",
       "2     Pop Remix  37i9dQZF1DXcZDD7cfEKhW            pop  ...   1    -3.432   \n",
       "3     Pop Remix  37i9dQZF1DXcZDD7cfEKhW            pop  ...   7    -3.778   \n",
       "4     Pop Remix  37i9dQZF1DXcZDD7cfEKhW            pop  ...   1    -4.672   \n",
       "\n",
       "   mode  speechiness  acousticness  instrumentalness  liveness  valence  \\\n",
       "0     1       0.0583        0.1020          0.000000    0.0653    0.518   \n",
       "1     1       0.0373        0.0724          0.004210    0.3570    0.693   \n",
       "2     0       0.0742        0.0794          0.000023    0.1100    0.613   \n",
       "3     1       0.1020        0.0287          0.000009    0.2040    0.277   \n",
       "4     1       0.0359        0.0803          0.000000    0.0833    0.725   \n",
       "\n",
       "     tempo  duration_ms  \n",
       "0  122.036       194754  \n",
       "1   99.972       162600  \n",
       "2  124.008       176616  \n",
       "3  121.956       169093  \n",
       "4  123.976       189052  \n",
       "\n",
       "[5 rows x 23 columns]"
      ]
     },
     "execution_count": 409,
     "metadata": {},
     "output_type": "execute_result"
    }
   ],
   "source": [
    "df.head()"
   ]
  },
  {
   "cell_type": "code",
   "execution_count": 410,
   "id": "93079dd0-8d61-430a-b865-f5ac2530af46",
   "metadata": {},
   "outputs": [
    {
     "name": "stdout",
     "output_type": "stream",
     "text": [
      "<class 'pandas.core.frame.DataFrame'>\n",
      "RangeIndex: 32833 entries, 0 to 32832\n",
      "Data columns (total 23 columns):\n",
      " #   Column                    Non-Null Count  Dtype  \n",
      "---  ------                    --------------  -----  \n",
      " 0   track_id                  32833 non-null  object \n",
      " 1   track_name                32828 non-null  object \n",
      " 2   track_artist              32828 non-null  object \n",
      " 3   track_popularity          32833 non-null  int64  \n",
      " 4   track_album_id            32833 non-null  object \n",
      " 5   track_album_name          32828 non-null  object \n",
      " 6   track_album_release_date  32833 non-null  object \n",
      " 7   playlist_name             32833 non-null  object \n",
      " 8   playlist_id               32833 non-null  object \n",
      " 9   playlist_genre            32833 non-null  object \n",
      " 10  playlist_subgenre         32833 non-null  object \n",
      " 11  danceability              32833 non-null  float64\n",
      " 12  energy                    32833 non-null  float64\n",
      " 13  key                       32833 non-null  int64  \n",
      " 14  loudness                  32833 non-null  float64\n",
      " 15  mode                      32833 non-null  int64  \n",
      " 16  speechiness               32833 non-null  float64\n",
      " 17  acousticness              32833 non-null  float64\n",
      " 18  instrumentalness          32833 non-null  float64\n",
      " 19  liveness                  32833 non-null  float64\n",
      " 20  valence                   32833 non-null  float64\n",
      " 21  tempo                     32833 non-null  float64\n",
      " 22  duration_ms               32833 non-null  int64  \n",
      "dtypes: float64(9), int64(4), object(10)\n",
      "memory usage: 5.8+ MB\n"
     ]
    }
   ],
   "source": [
    "df.info()"
   ]
  },
  {
   "cell_type": "code",
   "execution_count": 411,
   "id": "c2070ba7-2036-4adc-8b0c-e184ecff914b",
   "metadata": {},
   "outputs": [
    {
     "data": {
      "text/html": [
       "<div>\n",
       "<style scoped>\n",
       "    .dataframe tbody tr th:only-of-type {\n",
       "        vertical-align: middle;\n",
       "    }\n",
       "\n",
       "    .dataframe tbody tr th {\n",
       "        vertical-align: top;\n",
       "    }\n",
       "\n",
       "    .dataframe thead th {\n",
       "        text-align: right;\n",
       "    }\n",
       "</style>\n",
       "<table border=\"1\" class=\"dataframe\">\n",
       "  <thead>\n",
       "    <tr style=\"text-align: right;\">\n",
       "      <th></th>\n",
       "      <th>track_popularity</th>\n",
       "      <th>danceability</th>\n",
       "      <th>energy</th>\n",
       "      <th>key</th>\n",
       "      <th>loudness</th>\n",
       "      <th>mode</th>\n",
       "      <th>speechiness</th>\n",
       "      <th>acousticness</th>\n",
       "      <th>instrumentalness</th>\n",
       "      <th>liveness</th>\n",
       "      <th>valence</th>\n",
       "      <th>tempo</th>\n",
       "      <th>duration_ms</th>\n",
       "    </tr>\n",
       "  </thead>\n",
       "  <tbody>\n",
       "    <tr>\n",
       "      <th>count</th>\n",
       "      <td>32833.000000</td>\n",
       "      <td>32833.000000</td>\n",
       "      <td>32833.000000</td>\n",
       "      <td>32833.000000</td>\n",
       "      <td>32833.000000</td>\n",
       "      <td>32833.000000</td>\n",
       "      <td>32833.000000</td>\n",
       "      <td>32833.000000</td>\n",
       "      <td>32833.000000</td>\n",
       "      <td>32833.000000</td>\n",
       "      <td>32833.000000</td>\n",
       "      <td>32833.000000</td>\n",
       "      <td>32833.000000</td>\n",
       "    </tr>\n",
       "    <tr>\n",
       "      <th>mean</th>\n",
       "      <td>42.477081</td>\n",
       "      <td>0.654850</td>\n",
       "      <td>0.698619</td>\n",
       "      <td>5.374471</td>\n",
       "      <td>-6.719499</td>\n",
       "      <td>0.565711</td>\n",
       "      <td>0.107068</td>\n",
       "      <td>0.175334</td>\n",
       "      <td>0.084747</td>\n",
       "      <td>0.190176</td>\n",
       "      <td>0.510561</td>\n",
       "      <td>120.881132</td>\n",
       "      <td>225799.811622</td>\n",
       "    </tr>\n",
       "    <tr>\n",
       "      <th>std</th>\n",
       "      <td>24.984074</td>\n",
       "      <td>0.145085</td>\n",
       "      <td>0.180910</td>\n",
       "      <td>3.611657</td>\n",
       "      <td>2.988436</td>\n",
       "      <td>0.495671</td>\n",
       "      <td>0.101314</td>\n",
       "      <td>0.219633</td>\n",
       "      <td>0.224230</td>\n",
       "      <td>0.154317</td>\n",
       "      <td>0.233146</td>\n",
       "      <td>26.903624</td>\n",
       "      <td>59834.006182</td>\n",
       "    </tr>\n",
       "    <tr>\n",
       "      <th>min</th>\n",
       "      <td>0.000000</td>\n",
       "      <td>0.000000</td>\n",
       "      <td>0.000175</td>\n",
       "      <td>0.000000</td>\n",
       "      <td>-46.448000</td>\n",
       "      <td>0.000000</td>\n",
       "      <td>0.000000</td>\n",
       "      <td>0.000000</td>\n",
       "      <td>0.000000</td>\n",
       "      <td>0.000000</td>\n",
       "      <td>0.000000</td>\n",
       "      <td>0.000000</td>\n",
       "      <td>4000.000000</td>\n",
       "    </tr>\n",
       "    <tr>\n",
       "      <th>25%</th>\n",
       "      <td>24.000000</td>\n",
       "      <td>0.563000</td>\n",
       "      <td>0.581000</td>\n",
       "      <td>2.000000</td>\n",
       "      <td>-8.171000</td>\n",
       "      <td>0.000000</td>\n",
       "      <td>0.041000</td>\n",
       "      <td>0.015100</td>\n",
       "      <td>0.000000</td>\n",
       "      <td>0.092700</td>\n",
       "      <td>0.331000</td>\n",
       "      <td>99.960000</td>\n",
       "      <td>187819.000000</td>\n",
       "    </tr>\n",
       "    <tr>\n",
       "      <th>50%</th>\n",
       "      <td>45.000000</td>\n",
       "      <td>0.672000</td>\n",
       "      <td>0.721000</td>\n",
       "      <td>6.000000</td>\n",
       "      <td>-6.166000</td>\n",
       "      <td>1.000000</td>\n",
       "      <td>0.062500</td>\n",
       "      <td>0.080400</td>\n",
       "      <td>0.000016</td>\n",
       "      <td>0.127000</td>\n",
       "      <td>0.512000</td>\n",
       "      <td>121.984000</td>\n",
       "      <td>216000.000000</td>\n",
       "    </tr>\n",
       "    <tr>\n",
       "      <th>75%</th>\n",
       "      <td>62.000000</td>\n",
       "      <td>0.761000</td>\n",
       "      <td>0.840000</td>\n",
       "      <td>9.000000</td>\n",
       "      <td>-4.645000</td>\n",
       "      <td>1.000000</td>\n",
       "      <td>0.132000</td>\n",
       "      <td>0.255000</td>\n",
       "      <td>0.004830</td>\n",
       "      <td>0.248000</td>\n",
       "      <td>0.693000</td>\n",
       "      <td>133.918000</td>\n",
       "      <td>253585.000000</td>\n",
       "    </tr>\n",
       "    <tr>\n",
       "      <th>max</th>\n",
       "      <td>100.000000</td>\n",
       "      <td>0.983000</td>\n",
       "      <td>1.000000</td>\n",
       "      <td>11.000000</td>\n",
       "      <td>1.275000</td>\n",
       "      <td>1.000000</td>\n",
       "      <td>0.918000</td>\n",
       "      <td>0.994000</td>\n",
       "      <td>0.994000</td>\n",
       "      <td>0.996000</td>\n",
       "      <td>0.991000</td>\n",
       "      <td>239.440000</td>\n",
       "      <td>517810.000000</td>\n",
       "    </tr>\n",
       "  </tbody>\n",
       "</table>\n",
       "</div>"
      ],
      "text/plain": [
       "       track_popularity  danceability        energy           key  \\\n",
       "count      32833.000000  32833.000000  32833.000000  32833.000000   \n",
       "mean          42.477081      0.654850      0.698619      5.374471   \n",
       "std           24.984074      0.145085      0.180910      3.611657   \n",
       "min            0.000000      0.000000      0.000175      0.000000   \n",
       "25%           24.000000      0.563000      0.581000      2.000000   \n",
       "50%           45.000000      0.672000      0.721000      6.000000   \n",
       "75%           62.000000      0.761000      0.840000      9.000000   \n",
       "max          100.000000      0.983000      1.000000     11.000000   \n",
       "\n",
       "           loudness          mode   speechiness  acousticness  \\\n",
       "count  32833.000000  32833.000000  32833.000000  32833.000000   \n",
       "mean      -6.719499      0.565711      0.107068      0.175334   \n",
       "std        2.988436      0.495671      0.101314      0.219633   \n",
       "min      -46.448000      0.000000      0.000000      0.000000   \n",
       "25%       -8.171000      0.000000      0.041000      0.015100   \n",
       "50%       -6.166000      1.000000      0.062500      0.080400   \n",
       "75%       -4.645000      1.000000      0.132000      0.255000   \n",
       "max        1.275000      1.000000      0.918000      0.994000   \n",
       "\n",
       "       instrumentalness      liveness       valence         tempo  \\\n",
       "count      32833.000000  32833.000000  32833.000000  32833.000000   \n",
       "mean           0.084747      0.190176      0.510561    120.881132   \n",
       "std            0.224230      0.154317      0.233146     26.903624   \n",
       "min            0.000000      0.000000      0.000000      0.000000   \n",
       "25%            0.000000      0.092700      0.331000     99.960000   \n",
       "50%            0.000016      0.127000      0.512000    121.984000   \n",
       "75%            0.004830      0.248000      0.693000    133.918000   \n",
       "max            0.994000      0.996000      0.991000    239.440000   \n",
       "\n",
       "         duration_ms  \n",
       "count   32833.000000  \n",
       "mean   225799.811622  \n",
       "std     59834.006182  \n",
       "min      4000.000000  \n",
       "25%    187819.000000  \n",
       "50%    216000.000000  \n",
       "75%    253585.000000  \n",
       "max    517810.000000  "
      ]
     },
     "execution_count": 411,
     "metadata": {},
     "output_type": "execute_result"
    }
   ],
   "source": [
    "df.describe()"
   ]
  },
  {
   "cell_type": "markdown",
   "id": "6e0794ef-edd6-4fe2-a28d-342c0bf81788",
   "metadata": {},
   "source": [
    "### Change types"
   ]
  },
  {
   "cell_type": "code",
   "execution_count": 412,
   "id": "672b930d-1e36-4f82-ad66-2971147c403c",
   "metadata": {},
   "outputs": [],
   "source": [
    "cols_to_convert = ['track_id', 'track_name', 'track_artist', 'track_album_id', \n",
    "                   'track_album_name', 'playlist_name', 'playlist_id', \n",
    "                   'playlist_genre', 'playlist_subgenre']\n",
    "\n",
    "# Convert the columns to the 'string' type\n",
    "df[cols_to_convert] = df[cols_to_convert].astype('string')"
   ]
  },
  {
   "cell_type": "code",
   "execution_count": 413,
   "id": "8821859c-a89c-4bdd-ae7a-cf5811a87b85",
   "metadata": {
    "scrolled": true
   },
   "outputs": [
    {
     "name": "stdout",
     "output_type": "stream",
     "text": [
      "track_id                    string[python]\n",
      "track_name                  string[python]\n",
      "track_artist                string[python]\n",
      "track_popularity                     int64\n",
      "track_album_id              string[python]\n",
      "track_album_name            string[python]\n",
      "track_album_release_date            object\n",
      "playlist_name               string[python]\n",
      "playlist_id                 string[python]\n",
      "playlist_genre              string[python]\n",
      "playlist_subgenre           string[python]\n",
      "danceability                       float64\n",
      "energy                             float64\n",
      "key                                  int64\n",
      "loudness                           float64\n",
      "mode                                 int64\n",
      "speechiness                        float64\n",
      "acousticness                       float64\n",
      "instrumentalness                   float64\n",
      "liveness                           float64\n",
      "valence                            float64\n",
      "tempo                              float64\n",
      "duration_ms                          int64\n",
      "dtype: object\n"
     ]
    }
   ],
   "source": [
    "# Verify the change\n",
    "print(df.dtypes)"
   ]
  },
  {
   "cell_type": "markdown",
   "id": "c9bba460-ddba-4104-b90f-827d5b7dd75d",
   "metadata": {},
   "source": [
    "### Change type 'track_album_release_date'"
   ]
  },
  {
   "cell_type": "code",
   "execution_count": 414,
   "id": "dc70449f-715f-432d-980f-3a753a8ad071",
   "metadata": {},
   "outputs": [
    {
     "name": "stdout",
     "output_type": "stream",
     "text": [
      "datetime64[ns]\n"
     ]
    }
   ],
   "source": [
    "df['track_album_release_date'] = pd.to_datetime(df['track_album_release_date'], errors='coerce')\n",
    "\n",
    "# Verify the change\n",
    "print(df['track_album_release_date'].dtypes)\n"
   ]
  },
  {
   "cell_type": "code",
   "execution_count": 415,
   "id": "24c8a203-fe21-43b2-a3ed-9212eb6d4c69",
   "metadata": {},
   "outputs": [],
   "source": [
    "#df.info()\n",
    "# now we finish to deal with types!"
   ]
  },
  {
   "cell_type": "markdown",
   "id": "fa219b93-c300-4c4b-bb85-6c81574e8e67",
   "metadata": {},
   "source": [
    "#Checking the data "
   ]
  },
  {
   "cell_type": "code",
   "execution_count": 416,
   "id": "81f7457d-cb2d-4f47-83ca-1a5658bcbcb3",
   "metadata": {},
   "outputs": [
    {
     "data": {
      "text/plain": [
       "track_id\n",
       "7BKLCZ1jbUBVqRi2FVlTVw    10\n",
       "3eekarcy7kvN4yt5ZFzltW     9\n",
       "14sOS5L36385FJ3OL8hew4     9\n",
       "0sf12qNH5qcw8qpgymFOqD     8\n",
       "0nbXyq5TXYPCO7pr3N8S4I     8\n",
       "                          ..\n",
       "2jx9VNmPInE1d2m2T9eotT     1\n",
       "0M2dqeUpxBGm8vujMTMhMV     1\n",
       "22rdYlfxsz8QFXDIoA61Uu     1\n",
       "4uVrL4P0nnH8QcRAQaCndD     1\n",
       "29zWqhca3zt5NsckZqDf6c     1\n",
       "Name: count, Length: 28356, dtype: Int64"
      ]
     },
     "execution_count": 416,
     "metadata": {},
     "output_type": "execute_result"
    }
   ],
   "source": [
    "df['track_id'].value_counts() #need to fix the data -> lowercase"
   ]
  },
  {
   "cell_type": "code",
   "execution_count": 417,
   "id": "941e1d41-aa89-4828-b727-308906e7d848",
   "metadata": {},
   "outputs": [
    {
     "data": {
      "text/plain": [
       "track_name\n",
       "Poison                                         22\n",
       "Breathe                                        21\n",
       "Alive                                          20\n",
       "Forever                                        20\n",
       "Stay                                           19\n",
       "                                               ..\n",
       "Get Up - Kosling Remix                          1\n",
       "The Riddle - Steve Modana Radio Edit            1\n",
       "Moonlight Shadow - The Cleric Remix             1\n",
       "Bitter Sweet Symphony - Steve 80 Remix Edit     1\n",
       "Typhoon - Original Mix                          1\n",
       "Name: count, Length: 23449, dtype: Int64"
      ]
     },
     "execution_count": 417,
     "metadata": {},
     "output_type": "execute_result"
    }
   ],
   "source": [
    "df['track_name'].value_counts() #need to fix the data -> lowercase"
   ]
  },
  {
   "cell_type": "code",
   "execution_count": 418,
   "id": "01f3ba82-bd85-46c2-9edb-87f6faa90fa4",
   "metadata": {},
   "outputs": [
    {
     "data": {
      "text/plain": [
       "track_artist\n",
       "Martin Garrix       161\n",
       "Queen               136\n",
       "The Chainsmokers    123\n",
       "David Guetta        110\n",
       "Don Omar            102\n",
       "                   ... \n",
       "Around The Way        1\n",
       "Solomun               1\n",
       "Mantronix             1\n",
       "Shinehead             1\n",
       "Mat Zo                1\n",
       "Name: count, Length: 10692, dtype: Int64"
      ]
     },
     "execution_count": 418,
     "metadata": {},
     "output_type": "execute_result"
    }
   ],
   "source": [
    "df['track_artist'].value_counts()#need to fix the data -> lowercase"
   ]
  },
  {
   "cell_type": "code",
   "execution_count": 419,
   "id": "f95393b0-5305-44f8-9129-7906af81992b",
   "metadata": {},
   "outputs": [
    {
     "data": {
      "text/plain": [
       "track_popularity\n",
       "0      2703\n",
       "1       575\n",
       "57      541\n",
       "60      514\n",
       "51      514\n",
       "       ... \n",
       "97       22\n",
       "95       15\n",
       "96        7\n",
       "99        4\n",
       "100       2\n",
       "Name: count, Length: 101, dtype: int64"
      ]
     },
     "execution_count": 419,
     "metadata": {},
     "output_type": "execute_result"
    }
   ],
   "source": [
    "df['track_popularity'].value_counts() #from 0 to 100 "
   ]
  },
  {
   "cell_type": "code",
   "execution_count": 420,
   "id": "e50735d2-970c-45b6-9d05-60e0ec6725d8",
   "metadata": {},
   "outputs": [
    {
     "data": {
      "text/plain": [
       "track_album_id\n",
       "5L1xcowSxwzFUSJzvyMp48    42\n",
       "5fstCqs5NpIlF42VhPNv23    29\n",
       "7CjJb2mikwAWA1V6kewFBF    28\n",
       "4VFG1DOuTeDMBjBLZT7hCK    26\n",
       "2HTbQ0RHwukKVXAlTmCZP2    21\n",
       "                          ..\n",
       "2qmihtU2XK0RlLLyEgpWtq     1\n",
       "3RjznuaCdnYwdy3vdnE2Jh     1\n",
       "23REtQMYdDesBrBEPfeqqp     1\n",
       "5InOKiyUuh8tjJrHgWVWmn     1\n",
       "0X3mUOm6MhxR7PzxG95rAo     1\n",
       "Name: count, Length: 22545, dtype: Int64"
      ]
     },
     "execution_count": 420,
     "metadata": {},
     "output_type": "execute_result"
    }
   ],
   "source": [
    "df['track_album_id'].value_counts() #need to fix the data -> lowercase"
   ]
  },
  {
   "cell_type": "code",
   "execution_count": 421,
   "id": "14981439-5ecb-4f2f-b0e4-3ee5b3655bc7",
   "metadata": {},
   "outputs": [
    {
     "data": {
      "text/plain": [
       "track_album_name\n",
       "Greatest Hits                               139\n",
       "Ultimate Freestyle Mega Mix                  42\n",
       "Gold                                         35\n",
       "Malibu                                       30\n",
       "Rock & Rios (Remastered)                     29\n",
       "                                           ... \n",
       "Exodus (アウトロ)                                 1\n",
       "Playlist: The Very Best Of Bow Wow            1\n",
       "J.Lo                                          1\n",
       "Bad Boy 20th Anniversary Box Set Edition      1\n",
       "Typhoon/Storm                                 1\n",
       "Name: count, Length: 19743, dtype: Int64"
      ]
     },
     "execution_count": 421,
     "metadata": {},
     "output_type": "execute_result"
    }
   ],
   "source": [
    "df['track_album_name'].value_counts() #need to fix the data -> lowercase"
   ]
  },
  {
   "cell_type": "code",
   "execution_count": 422,
   "id": "35ea7a7d-0367-4506-a331-f3e392152295",
   "metadata": {},
   "outputs": [
    {
     "data": {
      "text/plain": [
       "track_album_release_date\n",
       "2020-01-10    270\n",
       "2019-11-22    244\n",
       "2019-12-06    235\n",
       "2019-12-13    220\n",
       "2013-01-01    219\n",
       "             ... \n",
       "1979-01-05      1\n",
       "1980-10-24      1\n",
       "1978-03-03      1\n",
       "1986-10-27      1\n",
       "2014-04-18      1\n",
       "Name: count, Length: 4453, dtype: int64"
      ]
     },
     "execution_count": 422,
     "metadata": {},
     "output_type": "execute_result"
    }
   ],
   "source": [
    "df['track_album_release_date'].value_counts() # we allredy fix to datetime"
   ]
  },
  {
   "cell_type": "code",
   "execution_count": 423,
   "id": "ce598308-1a97-4c3f-a40a-622059de8097",
   "metadata": {},
   "outputs": [
    {
     "name": "stdout",
     "output_type": "stream",
     "text": [
      "Number of unique track IDs from 2010 : 20254\n"
     ]
    }
   ],
   "source": [
    "#HOW MANY \n",
    "\n",
    "# Ensure 'track_album_release_date' is in datetime format\n",
    "df['track_album_release_date'] = pd.to_datetime(df['track_album_release_date'], errors='coerce')\n",
    "\n",
    "# Extract the year\n",
    "df['track_album_release_date_year'] = df['track_album_release_date'].dt.year\n",
    "\n",
    "# Filter tracks from 2000\n",
    "df_filtered = df[(df['track_album_release_date_year'] >= 2010) ]\n",
    "\n",
    "# Count unique track IDs\n",
    "num_tracks = df_filtered['track_id'].nunique()\n",
    "\n",
    "print(f\"Number of unique track IDs from 2010 : {num_tracks}\")\n"
   ]
  },
  {
   "cell_type": "code",
   "execution_count": 424,
   "id": "7573840d-39d7-4dd4-9b14-0fa67fecec3b",
   "metadata": {},
   "outputs": [
    {
     "data": {
      "text/plain": [
       "playlist_name\n",
       "Indie Poptimism                                              308\n",
       "2020 Hits & 2019  Hits – Top Global Tracks 🔥🔥🔥               247\n",
       "Permanent Wave                                               244\n",
       "Hard Rock Workout                                            219\n",
       "Ultimate Indie Presents... Best Indie Tracks of the 2010s    198\n",
       "                                                            ... \n",
       "CSR 103:9 (GTA: SA)                                            7\n",
       "Big White Room-Jessie-J                                        7\n",
       "TOP 50 GLOBAL 2020 UPDATED WEEKLY 🌍🎶 WORLDWIDE                 6\n",
       "ALPAS Music Festival                                           3\n",
       "Post-Teen Pop                                                  1\n",
       "Name: count, Length: 449, dtype: Int64"
      ]
     },
     "execution_count": 424,
     "metadata": {},
     "output_type": "execute_result"
    }
   ],
   "source": [
    "df['playlist_name'].value_counts() #need to fix the data -> lowercase"
   ]
  },
  {
   "cell_type": "code",
   "execution_count": 425,
   "id": "f89c4836-6310-4c54-8cdb-1330722f6afd",
   "metadata": {},
   "outputs": [
    {
     "data": {
      "text/plain": [
       "playlist_id\n",
       "4JkkvMpVl4lSioqQjeAL0q    247\n",
       "37i9dQZF1DWTHM4kX49UKs    198\n",
       "6KnQDwp0syvhfHOR4lWP7x    195\n",
       "3xMQTDLOIGvj3lWH5e5x6F    189\n",
       "3Ho3iO0iJykgEQNbjB2sic    182\n",
       "                         ... \n",
       "4sr2xEhXQR5VuZ0LZX8TQ8      7\n",
       "6dqoVI7qwYLyNqbg0MPad3      7\n",
       "2CJsD3fcYJWcliEKnwmovU      6\n",
       "6pPpLz42hUkr8gbMirkAEl      3\n",
       "6HprqD6WZMx5peClrxaprN      1\n",
       "Name: count, Length: 471, dtype: Int64"
      ]
     },
     "execution_count": 425,
     "metadata": {},
     "output_type": "execute_result"
    }
   ],
   "source": [
    "df['playlist_id'].value_counts() #need to fix the data -> lowercase"
   ]
  },
  {
   "cell_type": "code",
   "execution_count": 426,
   "id": "a6d203e3-5589-4c46-b468-0318cb39948c",
   "metadata": {},
   "outputs": [
    {
     "data": {
      "text/plain": [
       "playlist_genre\n",
       "edm      6043\n",
       "rap      5746\n",
       "pop      5507\n",
       "r&b      5431\n",
       "latin    5155\n",
       "rock     4951\n",
       "Name: count, dtype: Int64"
      ]
     },
     "execution_count": 426,
     "metadata": {},
     "output_type": "execute_result"
    }
   ],
   "source": [
    "df['playlist_genre'].value_counts()"
   ]
  },
  {
   "cell_type": "code",
   "execution_count": 427,
   "id": "da1ad8bd-9de8-4356-92a8-3be5b8e28c71",
   "metadata": {},
   "outputs": [
    {
     "data": {
      "text/plain": [
       "playlist_subgenre\n",
       "progressive electro house    1809\n",
       "southern hip hop             1675\n",
       "indie poptimism              1672\n",
       "latin hip hop                1656\n",
       "neo soul                     1637\n",
       "pop edm                      1517\n",
       "electro house                1511\n",
       "hard rock                    1485\n",
       "gangster rap                 1458\n",
       "electropop                   1408\n",
       "urban contemporary           1405\n",
       "hip hop                      1322\n",
       "dance pop                    1298\n",
       "classic rock                 1296\n",
       "trap                         1291\n",
       "tropical                     1288\n",
       "latin pop                    1262\n",
       "hip pop                      1256\n",
       "big room                     1206\n",
       "new jack swing               1133\n",
       "post-teen pop                1129\n",
       "permanent wave               1105\n",
       "album rock                   1065\n",
       "reggaeton                     949\n",
       "Name: count, dtype: Int64"
      ]
     },
     "execution_count": 427,
     "metadata": {},
     "output_type": "execute_result"
    }
   ],
   "source": [
    "df['playlist_subgenre'].value_counts() #need to remove special characters"
   ]
  },
  {
   "cell_type": "code",
   "execution_count": 428,
   "id": "e33ac102-e7ef-4dcb-b29a-fcd16f7943aa",
   "metadata": {},
   "outputs": [
    {
     "data": {
      "text/plain": [
       "danceability\n",
       "0.733    118\n",
       "0.708    115\n",
       "0.704    112\n",
       "0.694    112\n",
       "0.784    111\n",
       "        ... \n",
       "0.202      1\n",
       "0.172      1\n",
       "0.261      1\n",
       "0.174      1\n",
       "0.983      1\n",
       "Name: count, Length: 822, dtype: int64"
      ]
     },
     "execution_count": 428,
     "metadata": {},
     "output_type": "execute_result"
    }
   ],
   "source": [
    "df['danceability'].value_counts()"
   ]
  },
  {
   "cell_type": "code",
   "execution_count": 429,
   "id": "214d5943-5894-4c94-a94d-09fdf7632206",
   "metadata": {},
   "outputs": [
    {
     "data": {
      "text/plain": [
       "energy\n",
       "0.7870    100\n",
       "0.8280     99\n",
       "0.8330     98\n",
       "0.7950     91\n",
       "0.7110     91\n",
       "         ... \n",
       "0.0671      1\n",
       "0.0765      1\n",
       "0.0455      1\n",
       "0.0725      1\n",
       "0.1060      1\n",
       "Name: count, Length: 952, dtype: int64"
      ]
     },
     "execution_count": 429,
     "metadata": {},
     "output_type": "execute_result"
    }
   ],
   "source": [
    "df['energy'].value_counts()"
   ]
  },
  {
   "cell_type": "code",
   "execution_count": 430,
   "id": "dddbd8b4-99ab-4f8d-bd57-904fbdb370c6",
   "metadata": {},
   "outputs": [
    {
     "data": {
      "text/plain": [
       "key\n",
       "1     4010\n",
       "0     3454\n",
       "7     3352\n",
       "9     3027\n",
       "11    2996\n",
       "2     2827\n",
       "5     2680\n",
       "6     2670\n",
       "8     2430\n",
       "10    2273\n",
       "4     2201\n",
       "3      913\n",
       "Name: count, dtype: int64"
      ]
     },
     "execution_count": 430,
     "metadata": {},
     "output_type": "execute_result"
    }
   ],
   "source": [
    "df['key'].value_counts()"
   ]
  },
  {
   "cell_type": "code",
   "execution_count": 431,
   "id": "57f18dab-9823-4ee5-abc1-169675e5b543",
   "metadata": {},
   "outputs": [
    {
     "data": {
      "text/plain": [
       "loudness\n",
       "-4.973     20\n",
       "-4.443     20\n",
       "-5.608     20\n",
       "-6.400     20\n",
       "-3.782     20\n",
       "           ..\n",
       "-10.463     1\n",
       "-22.118     1\n",
       "-16.585     1\n",
       "-21.840     1\n",
       "-1.814      1\n",
       "Name: count, Length: 10222, dtype: int64"
      ]
     },
     "execution_count": 431,
     "metadata": {},
     "output_type": "execute_result"
    }
   ],
   "source": [
    "df['loudness'].value_counts()"
   ]
  },
  {
   "cell_type": "code",
   "execution_count": 432,
   "id": "3cde1608-aeae-4377-a64f-e24b6bc132b0",
   "metadata": {},
   "outputs": [
    {
     "data": {
      "text/plain": [
       "mode\n",
       "1    18574\n",
       "0    14259\n",
       "Name: count, dtype: int64"
      ]
     },
     "execution_count": 432,
     "metadata": {},
     "output_type": "execute_result"
    }
   ],
   "source": [
    "df['mode'].value_counts()"
   ]
  },
  {
   "cell_type": "code",
   "execution_count": 433,
   "id": "75aa8013-26c6-4901-a57b-d025fb5a726c",
   "metadata": {},
   "outputs": [
    {
     "data": {
      "text/plain": [
       "speechiness\n",
       "0.1020    116\n",
       "0.1030     98\n",
       "0.1090     93\n",
       "0.0354     93\n",
       "0.1120     89\n",
       "         ... \n",
       "0.6000      1\n",
       "0.6690      1\n",
       "0.5840      1\n",
       "0.5630      1\n",
       "0.5780      1\n",
       "Name: count, Length: 1270, dtype: int64"
      ]
     },
     "execution_count": 433,
     "metadata": {},
     "output_type": "execute_result"
    }
   ],
   "source": [
    "df['speechiness'].value_counts()"
   ]
  },
  {
   "cell_type": "code",
   "execution_count": 434,
   "id": "ebd87a99-bf8f-436a-b5b5-b9ed51ccc29a",
   "metadata": {},
   "outputs": [
    {
     "data": {
      "text/plain": [
       "acousticness\n",
       "0.102000    80\n",
       "0.128000    80\n",
       "0.101000    78\n",
       "0.114000    74\n",
       "0.141000    71\n",
       "            ..\n",
       "0.000075     1\n",
       "0.000786     1\n",
       "0.000086     1\n",
       "0.000026     1\n",
       "0.000434     1\n",
       "Name: count, Length: 3731, dtype: int64"
      ]
     },
     "execution_count": 434,
     "metadata": {},
     "output_type": "execute_result"
    }
   ],
   "source": [
    "df['acousticness'].value_counts()"
   ]
  },
  {
   "cell_type": "code",
   "execution_count": 435,
   "id": "b8142c2a-c962-4bcf-bf81-cd47f601c75d",
   "metadata": {},
   "outputs": [
    {
     "data": {
      "text/plain": [
       "instrumentalness\n",
       "0.000000    12089\n",
       "0.001060       30\n",
       "0.124000       30\n",
       "0.000001       26\n",
       "0.000001       26\n",
       "            ...  \n",
       "0.000008        1\n",
       "0.294000        1\n",
       "0.003830        1\n",
       "0.000089        1\n",
       "0.008350        1\n",
       "Name: count, Length: 4729, dtype: int64"
      ]
     },
     "execution_count": 435,
     "metadata": {},
     "output_type": "execute_result"
    }
   ],
   "source": [
    "df['instrumentalness'].value_counts()"
   ]
  },
  {
   "cell_type": "code",
   "execution_count": 436,
   "id": "aabe7da0-07be-4a09-8854-77c0243b9543",
   "metadata": {},
   "outputs": [
    {
     "data": {
      "text/plain": [
       "liveness\n",
       "0.1110    346\n",
       "0.1080    310\n",
       "0.1100    305\n",
       "0.1050    295\n",
       "0.1040    294\n",
       "         ... \n",
       "0.0212      1\n",
       "0.9610      1\n",
       "0.9140      1\n",
       "0.9350      1\n",
       "0.7870      1\n",
       "Name: count, Length: 1624, dtype: int64"
      ]
     },
     "execution_count": 436,
     "metadata": {},
     "output_type": "execute_result"
    }
   ],
   "source": [
    "df['liveness'].value_counts()"
   ]
  },
  {
   "cell_type": "code",
   "execution_count": 437,
   "id": "b4e96936-89c2-4b9c-b3be-27394df6bb48",
   "metadata": {},
   "outputs": [
    {
     "data": {
      "text/plain": [
       "valence\n",
       "0.9610    69\n",
       "0.5800    68\n",
       "0.4300    68\n",
       "0.5620    68\n",
       "0.3890    68\n",
       "          ..\n",
       "0.0798     1\n",
       "0.0576     1\n",
       "0.0528     1\n",
       "0.0698     1\n",
       "0.0927     1\n",
       "Name: count, Length: 1362, dtype: int64"
      ]
     },
     "execution_count": 437,
     "metadata": {},
     "output_type": "execute_result"
    }
   ],
   "source": [
    "df['valence'].value_counts()"
   ]
  },
  {
   "cell_type": "code",
   "execution_count": 438,
   "id": "6ace3264-1a6b-4569-840a-7d051b52b949",
   "metadata": {},
   "outputs": [
    {
     "data": {
      "text/plain": [
       "tempo\n",
       "127.992    45\n",
       "127.994    35\n",
       "127.993    33\n",
       "128.007    32\n",
       "128.003    31\n",
       "           ..\n",
       "103.951     1\n",
       "102.627     1\n",
       "112.549     1\n",
       "133.829     1\n",
       "128.170     1\n",
       "Name: count, Length: 17684, dtype: int64"
      ]
     },
     "execution_count": 438,
     "metadata": {},
     "output_type": "execute_result"
    }
   ],
   "source": [
    "df['tempo'].value_counts()"
   ]
  },
  {
   "cell_type": "code",
   "execution_count": 439,
   "id": "1633210e-8b21-4d18-a321-5cb8ba5aa088",
   "metadata": {},
   "outputs": [
    {
     "data": {
      "text/plain": [
       "duration_ms\n",
       "240000    37\n",
       "192000    37\n",
       "210000    30\n",
       "180000    26\n",
       "195000    25\n",
       "          ..\n",
       "185413     1\n",
       "317760     1\n",
       "220027     1\n",
       "218505     1\n",
       "367432     1\n",
       "Name: count, Length: 19785, dtype: int64"
      ]
     },
     "execution_count": 439,
     "metadata": {},
     "output_type": "execute_result"
    }
   ],
   "source": [
    "df['duration_ms'].value_counts()"
   ]
  },
  {
   "cell_type": "markdown",
   "id": "44e6240c-9899-4435-a977-d338e890f8fc",
   "metadata": {},
   "source": [
    "### Transferring columns to another dataframe following a similar meaning in other column"
   ]
  },
  {
   "cell_type": "code",
   "execution_count": 440,
   "id": "6af5a7d2-d4cc-4544-919b-aff0e62d3aa2",
   "metadata": {},
   "outputs": [],
   "source": [
    "df_text = df[['track_id', 'track_name', 'track_album_name', 'playlist_name']]\n",
    "\n",
    "# Save the DataFrame properly\n",
    "with open(\"spotify_songs_df_text.pkl\", \"wb\") as f:\n",
    "    pickle.dump(df_text, f)"
   ]
  },
  {
   "cell_type": "code",
   "execution_count": 441,
   "id": "490a4828-fbb0-43de-9750-3658983ee3ea",
   "metadata": {
    "scrolled": true
   },
   "outputs": [],
   "source": [
    "df=df.drop(columns=['track_name','track_album_name','playlist_name','playlist_subgenre'])\n",
    "\n",
    "#playlist_subgenre - NO NEED"
   ]
  },
  {
   "cell_type": "code",
   "execution_count": 442,
   "id": "7168024c-cda1-46c0-81db-94884bf3ec0d",
   "metadata": {},
   "outputs": [],
   "source": [
    "#df.head() #Removal was successful"
   ]
  },
  {
   "cell_type": "markdown",
   "id": "4ee3c24a-a3e9-4f9b-970b-7144b27ac31f",
   "metadata": {},
   "source": [
    "# Changing the size of the letters to lowercase"
   ]
  },
  {
   "cell_type": "code",
   "execution_count": 443,
   "id": "372a4b25-4bc6-4c3f-8d7e-0cf79923df51",
   "metadata": {},
   "outputs": [],
   "source": [
    "cols_to_convert = ['track_id', 'track_artist', 'track_album_id', 'playlist_id','playlist_genre']\n",
    "\n",
    "df[cols_to_convert] = df[cols_to_convert].apply(lambda x: x.str.lower())"
   ]
  },
  {
   "cell_type": "code",
   "execution_count": 444,
   "id": "75caa904-1e6c-4e68-b464-eff811408b40",
   "metadata": {},
   "outputs": [
    {
     "data": {
      "text/html": [
       "<div>\n",
       "<style scoped>\n",
       "    .dataframe tbody tr th:only-of-type {\n",
       "        vertical-align: middle;\n",
       "    }\n",
       "\n",
       "    .dataframe tbody tr th {\n",
       "        vertical-align: top;\n",
       "    }\n",
       "\n",
       "    .dataframe thead th {\n",
       "        text-align: right;\n",
       "    }\n",
       "</style>\n",
       "<table border=\"1\" class=\"dataframe\">\n",
       "  <thead>\n",
       "    <tr style=\"text-align: right;\">\n",
       "      <th></th>\n",
       "      <th>track_id</th>\n",
       "      <th>track_artist</th>\n",
       "      <th>track_popularity</th>\n",
       "      <th>track_album_id</th>\n",
       "      <th>track_album_release_date</th>\n",
       "      <th>playlist_id</th>\n",
       "      <th>playlist_genre</th>\n",
       "      <th>danceability</th>\n",
       "      <th>energy</th>\n",
       "      <th>key</th>\n",
       "      <th>loudness</th>\n",
       "      <th>mode</th>\n",
       "      <th>speechiness</th>\n",
       "      <th>acousticness</th>\n",
       "      <th>instrumentalness</th>\n",
       "      <th>liveness</th>\n",
       "      <th>valence</th>\n",
       "      <th>tempo</th>\n",
       "      <th>duration_ms</th>\n",
       "      <th>track_album_release_date_year</th>\n",
       "    </tr>\n",
       "  </thead>\n",
       "  <tbody>\n",
       "    <tr>\n",
       "      <th>0</th>\n",
       "      <td>6f807x0ima9a1j3vpbc7vn</td>\n",
       "      <td>ed sheeran</td>\n",
       "      <td>66</td>\n",
       "      <td>2ocs0dgtsro98gh5zsl2cx</td>\n",
       "      <td>2019-06-14</td>\n",
       "      <td>37i9dqzf1dxczdd7cfekhw</td>\n",
       "      <td>pop</td>\n",
       "      <td>0.748</td>\n",
       "      <td>0.916</td>\n",
       "      <td>6</td>\n",
       "      <td>-2.634</td>\n",
       "      <td>1</td>\n",
       "      <td>0.0583</td>\n",
       "      <td>0.1020</td>\n",
       "      <td>0.000000</td>\n",
       "      <td>0.0653</td>\n",
       "      <td>0.518</td>\n",
       "      <td>122.036</td>\n",
       "      <td>194754</td>\n",
       "      <td>2019.0</td>\n",
       "    </tr>\n",
       "    <tr>\n",
       "      <th>1</th>\n",
       "      <td>0r7cvbztwzgbtcydfa2p31</td>\n",
       "      <td>maroon 5</td>\n",
       "      <td>67</td>\n",
       "      <td>63rpso264urjw1x5e6cwv6</td>\n",
       "      <td>2019-12-13</td>\n",
       "      <td>37i9dqzf1dxczdd7cfekhw</td>\n",
       "      <td>pop</td>\n",
       "      <td>0.726</td>\n",
       "      <td>0.815</td>\n",
       "      <td>11</td>\n",
       "      <td>-4.969</td>\n",
       "      <td>1</td>\n",
       "      <td>0.0373</td>\n",
       "      <td>0.0724</td>\n",
       "      <td>0.004210</td>\n",
       "      <td>0.3570</td>\n",
       "      <td>0.693</td>\n",
       "      <td>99.972</td>\n",
       "      <td>162600</td>\n",
       "      <td>2019.0</td>\n",
       "    </tr>\n",
       "    <tr>\n",
       "      <th>2</th>\n",
       "      <td>1z1hg7vb0ahhdiemnde79l</td>\n",
       "      <td>zara larsson</td>\n",
       "      <td>70</td>\n",
       "      <td>1hosmj2elcsrr0ve9gthr4</td>\n",
       "      <td>2019-07-05</td>\n",
       "      <td>37i9dqzf1dxczdd7cfekhw</td>\n",
       "      <td>pop</td>\n",
       "      <td>0.675</td>\n",
       "      <td>0.931</td>\n",
       "      <td>1</td>\n",
       "      <td>-3.432</td>\n",
       "      <td>0</td>\n",
       "      <td>0.0742</td>\n",
       "      <td>0.0794</td>\n",
       "      <td>0.000023</td>\n",
       "      <td>0.1100</td>\n",
       "      <td>0.613</td>\n",
       "      <td>124.008</td>\n",
       "      <td>176616</td>\n",
       "      <td>2019.0</td>\n",
       "    </tr>\n",
       "    <tr>\n",
       "      <th>3</th>\n",
       "      <td>75fpbthrwqmzhlbjlugdc7</td>\n",
       "      <td>the chainsmokers</td>\n",
       "      <td>60</td>\n",
       "      <td>1nqysoef1ykkugovchbsk6</td>\n",
       "      <td>2019-07-19</td>\n",
       "      <td>37i9dqzf1dxczdd7cfekhw</td>\n",
       "      <td>pop</td>\n",
       "      <td>0.718</td>\n",
       "      <td>0.930</td>\n",
       "      <td>7</td>\n",
       "      <td>-3.778</td>\n",
       "      <td>1</td>\n",
       "      <td>0.1020</td>\n",
       "      <td>0.0287</td>\n",
       "      <td>0.000009</td>\n",
       "      <td>0.2040</td>\n",
       "      <td>0.277</td>\n",
       "      <td>121.956</td>\n",
       "      <td>169093</td>\n",
       "      <td>2019.0</td>\n",
       "    </tr>\n",
       "    <tr>\n",
       "      <th>4</th>\n",
       "      <td>1e8pafckuyokkxphrhqw4x</td>\n",
       "      <td>lewis capaldi</td>\n",
       "      <td>69</td>\n",
       "      <td>7m7vv9wlq4i0lfujie2zsq</td>\n",
       "      <td>2019-03-05</td>\n",
       "      <td>37i9dqzf1dxczdd7cfekhw</td>\n",
       "      <td>pop</td>\n",
       "      <td>0.650</td>\n",
       "      <td>0.833</td>\n",
       "      <td>1</td>\n",
       "      <td>-4.672</td>\n",
       "      <td>1</td>\n",
       "      <td>0.0359</td>\n",
       "      <td>0.0803</td>\n",
       "      <td>0.000000</td>\n",
       "      <td>0.0833</td>\n",
       "      <td>0.725</td>\n",
       "      <td>123.976</td>\n",
       "      <td>189052</td>\n",
       "      <td>2019.0</td>\n",
       "    </tr>\n",
       "  </tbody>\n",
       "</table>\n",
       "</div>"
      ],
      "text/plain": [
       "                 track_id      track_artist  track_popularity  \\\n",
       "0  6f807x0ima9a1j3vpbc7vn        ed sheeran                66   \n",
       "1  0r7cvbztwzgbtcydfa2p31          maroon 5                67   \n",
       "2  1z1hg7vb0ahhdiemnde79l      zara larsson                70   \n",
       "3  75fpbthrwqmzhlbjlugdc7  the chainsmokers                60   \n",
       "4  1e8pafckuyokkxphrhqw4x     lewis capaldi                69   \n",
       "\n",
       "           track_album_id track_album_release_date             playlist_id  \\\n",
       "0  2ocs0dgtsro98gh5zsl2cx               2019-06-14  37i9dqzf1dxczdd7cfekhw   \n",
       "1  63rpso264urjw1x5e6cwv6               2019-12-13  37i9dqzf1dxczdd7cfekhw   \n",
       "2  1hosmj2elcsrr0ve9gthr4               2019-07-05  37i9dqzf1dxczdd7cfekhw   \n",
       "3  1nqysoef1ykkugovchbsk6               2019-07-19  37i9dqzf1dxczdd7cfekhw   \n",
       "4  7m7vv9wlq4i0lfujie2zsq               2019-03-05  37i9dqzf1dxczdd7cfekhw   \n",
       "\n",
       "  playlist_genre  danceability  energy  key  loudness  mode  speechiness  \\\n",
       "0            pop         0.748   0.916    6    -2.634     1       0.0583   \n",
       "1            pop         0.726   0.815   11    -4.969     1       0.0373   \n",
       "2            pop         0.675   0.931    1    -3.432     0       0.0742   \n",
       "3            pop         0.718   0.930    7    -3.778     1       0.1020   \n",
       "4            pop         0.650   0.833    1    -4.672     1       0.0359   \n",
       "\n",
       "   acousticness  instrumentalness  liveness  valence    tempo  duration_ms  \\\n",
       "0        0.1020          0.000000    0.0653    0.518  122.036       194754   \n",
       "1        0.0724          0.004210    0.3570    0.693   99.972       162600   \n",
       "2        0.0794          0.000023    0.1100    0.613  124.008       176616   \n",
       "3        0.0287          0.000009    0.2040    0.277  121.956       169093   \n",
       "4        0.0803          0.000000    0.0833    0.725  123.976       189052   \n",
       "\n",
       "   track_album_release_date_year  \n",
       "0                         2019.0  \n",
       "1                         2019.0  \n",
       "2                         2019.0  \n",
       "3                         2019.0  \n",
       "4                         2019.0  "
      ]
     },
     "execution_count": 444,
     "metadata": {},
     "output_type": "execute_result"
    }
   ],
   "source": [
    "df.head() #lowercase transform was successful"
   ]
  },
  {
   "cell_type": "markdown",
   "id": "6715fd1c-becb-4930-874b-b463109d1512",
   "metadata": {},
   "source": [
    "### Remove special character"
   ]
  },
  {
   "cell_type": "code",
   "execution_count": 445,
   "id": "bccb74d5-96c6-46c1-9d7c-deb1ae26da25",
   "metadata": {},
   "outputs": [],
   "source": [
    "# Remove special characters from all columns with data type 'string'"
   ]
  },
  {
   "cell_type": "code",
   "execution_count": 446,
   "id": "bf3b34ba-8f26-43a5-a46a-a625403c2ca0",
   "metadata": {},
   "outputs": [
    {
     "name": "stdout",
     "output_type": "stream",
     "text": [
      "                     track_id      track_artist  track_popularity  \\\n",
      "0      6f807x0ima9a1j3vpbc7vn        ed sheeran                66   \n",
      "1      0r7cvbztwzgbtcydfa2p31          maroon 5                67   \n",
      "2      1z1hg7vb0ahhdiemnde79l      zara larsson                70   \n",
      "3      75fpbthrwqmzhlbjlugdc7  the chainsmokers                60   \n",
      "4      1e8pafckuyokkxphrhqw4x     lewis capaldi                69   \n",
      "...                       ...               ...               ...   \n",
      "32828  7bxnkaamr3snq1vgluvfc1       lush  simon                42   \n",
      "32829  5aevni09em4575077nkwhz    tegan and sara                20   \n",
      "32830  7immqpp3q1yfuhvsdn7weo       starkillers                14   \n",
      "32831  2m69mhnfq1oq6lgtxuyhgx            mat zo                15   \n",
      "32832  29zwqhca3zt5nsckzqdf6c      julian calor                27   \n",
      "\n",
      "               track_album_id track_album_release_date  \\\n",
      "0      2ocs0dgtsro98gh5zsl2cx               2019-06-14   \n",
      "1      63rpso264urjw1x5e6cwv6               2019-12-13   \n",
      "2      1hosmj2elcsrr0ve9gthr4               2019-07-05   \n",
      "3      1nqysoef1ykkugovchbsk6               2019-07-19   \n",
      "4      7m7vv9wlq4i0lfujie2zsq               2019-03-05   \n",
      "...                       ...                      ...   \n",
      "32828  2azrobbweeeyhqv6sb7jrt               2014-04-28   \n",
      "32829  6kd6klxj7s8ece3abvayf5               2013-03-08   \n",
      "32830  0ltwnsy9jgxoizo4vzuca6               2014-04-21   \n",
      "32831  1fgrokhnhjcstl14znx8jy               2014-01-01   \n",
      "32832  0x3muom6mhxr7pzxg95rao               2014-03-03   \n",
      "\n",
      "                  playlist_id playlist_genre  danceability  energy  key  \\\n",
      "0      37i9dqzf1dxczdd7cfekhw            pop         0.748   0.916    6   \n",
      "1      37i9dqzf1dxczdd7cfekhw            pop         0.726   0.815   11   \n",
      "2      37i9dqzf1dxczdd7cfekhw            pop         0.675   0.931    1   \n",
      "3      37i9dqzf1dxczdd7cfekhw            pop         0.718   0.930    7   \n",
      "4      37i9dqzf1dxczdd7cfekhw            pop         0.650   0.833    1   \n",
      "...                       ...            ...           ...     ...  ...   \n",
      "32828  6ji1gfr6anftt8mmtva2ux            edm         0.428   0.922    2   \n",
      "32829  6ji1gfr6anftt8mmtva2ux            edm         0.522   0.786    0   \n",
      "32830  6ji1gfr6anftt8mmtva2ux            edm         0.529   0.821    6   \n",
      "32831  6ji1gfr6anftt8mmtva2ux            edm         0.626   0.888    2   \n",
      "32832  6ji1gfr6anftt8mmtva2ux            edm         0.603   0.884    5   \n",
      "\n",
      "       loudness  mode  speechiness  acousticness  instrumentalness  liveness  \\\n",
      "0        -2.634     1       0.0583      0.102000          0.000000    0.0653   \n",
      "1        -4.969     1       0.0373      0.072400          0.004210    0.3570   \n",
      "2        -3.432     0       0.0742      0.079400          0.000023    0.1100   \n",
      "3        -3.778     1       0.1020      0.028700          0.000009    0.2040   \n",
      "4        -4.672     1       0.0359      0.080300          0.000000    0.0833   \n",
      "...         ...   ...          ...           ...               ...       ...   \n",
      "32828    -1.814     1       0.0936      0.076600          0.000000    0.0668   \n",
      "32829    -4.462     1       0.0420      0.001710          0.004270    0.3750   \n",
      "32830    -4.899     0       0.0481      0.108000          0.000001    0.1500   \n",
      "32831    -3.361     1       0.1090      0.007920          0.127000    0.3430   \n",
      "32832    -4.571     0       0.0385      0.000133          0.341000    0.7420   \n",
      "\n",
      "       valence    tempo  duration_ms  track_album_release_date_year  \n",
      "0       0.5180  122.036       194754                         2019.0  \n",
      "1       0.6930   99.972       162600                         2019.0  \n",
      "2       0.6130  124.008       176616                         2019.0  \n",
      "3       0.2770  121.956       169093                         2019.0  \n",
      "4       0.7250  123.976       189052                         2019.0  \n",
      "...        ...      ...          ...                            ...  \n",
      "32828   0.2100  128.170       204375                         2014.0  \n",
      "32829   0.4000  128.041       353120                         2013.0  \n",
      "32830   0.4360  127.989       210112                         2014.0  \n",
      "32831   0.3080  128.008       367432                         2014.0  \n",
      "32832   0.0894  127.984       337500                         2014.0  \n",
      "\n",
      "[32833 rows x 20 columns]\n"
     ]
    }
   ],
   "source": [
    "# Identify all string-type columns\n",
    "string_cols = df.select_dtypes(include=['string']).columns\n",
    "\n",
    "# Remove special characters from all string columns\n",
    "df[string_cols] = df[string_cols].apply(lambda x: x.str.replace(r'[^a-zA-Z0-9\\s]', '', regex=True))\n",
    "\n",
    "# Print cleaned DataFrame\n",
    "print(df)"
   ]
  },
  {
   "cell_type": "code",
   "execution_count": 447,
   "id": "53f9fe5b-8f75-49ec-9586-38371e078462",
   "metadata": {},
   "outputs": [],
   "source": [
    "#### A song can belong to multiple playlists. \n",
    "####Converting the 'playlist_id' column into an aggregated calculation. ( Count the number of unique playlists each track_id appears in)"
   ]
  },
  {
   "cell_type": "code",
   "execution_count": 448,
   "id": "9007f73c-8e9d-4294-ac14-54373863f040",
   "metadata": {},
   "outputs": [],
   "source": [
    "# Count the number of unique playlists each song appears in\n",
    "df['playlist_count_per_song'] = df.groupby('track_id')['playlist_id'].transform('nunique')\n",
    "\n",
    "df.drop(columns=['playlist_id'], inplace=True) #The inplace=True parameter modifies the DataFrame directly, so you don’t need to reassign it to df."
   ]
  },
  {
   "cell_type": "code",
   "execution_count": 449,
   "id": "d3de0a37-4bc0-4476-8169-cb726fa7e8ac",
   "metadata": {},
   "outputs": [
    {
     "name": "stdout",
     "output_type": "stream",
     "text": [
      "<class 'pandas.core.frame.DataFrame'>\n",
      "RangeIndex: 32833 entries, 0 to 32832\n",
      "Data columns (total 20 columns):\n",
      " #   Column                         Non-Null Count  Dtype         \n",
      "---  ------                         --------------  -----         \n",
      " 0   track_id                       32833 non-null  string        \n",
      " 1   track_artist                   32828 non-null  string        \n",
      " 2   track_popularity               32833 non-null  int64         \n",
      " 3   track_album_id                 32833 non-null  string        \n",
      " 4   track_album_release_date       30947 non-null  datetime64[ns]\n",
      " 5   playlist_genre                 32833 non-null  string        \n",
      " 6   danceability                   32833 non-null  float64       \n",
      " 7   energy                         32833 non-null  float64       \n",
      " 8   key                            32833 non-null  int64         \n",
      " 9   loudness                       32833 non-null  float64       \n",
      " 10  mode                           32833 non-null  int64         \n",
      " 11  speechiness                    32833 non-null  float64       \n",
      " 12  acousticness                   32833 non-null  float64       \n",
      " 13  instrumentalness               32833 non-null  float64       \n",
      " 14  liveness                       32833 non-null  float64       \n",
      " 15  valence                        32833 non-null  float64       \n",
      " 16  tempo                          32833 non-null  float64       \n",
      " 17  track_album_release_date_year  30947 non-null  float64       \n",
      " 18  playlist_count_per_song        32833 non-null  int64         \n",
      " 19  duration_minutes               32833 non-null  float64       \n",
      "dtypes: datetime64[ns](1), float64(11), int64(4), string(4)\n",
      "memory usage: 5.0 MB\n"
     ]
    }
   ],
   "source": [
    "df['duration_minutes'] = df['duration_ms'] / 60000\n",
    "\n",
    "# Optionally, round to 2 decimal places\n",
    "df['duration_minutes'] = df['duration_minutes'].round(2)\n",
    "\n",
    "df.drop(columns=['duration_ms'], inplace=True) \n",
    "\n",
    "df.info()\n"
   ]
  },
  {
   "cell_type": "code",
   "execution_count": 450,
   "id": "7f890cf4-d22d-4fae-b20d-d7a8f6900715",
   "metadata": {},
   "outputs": [
    {
     "name": "stdout",
     "output_type": "stream",
     "text": [
      "<class 'pandas.core.frame.DataFrame'>\n",
      "RangeIndex: 32833 entries, 0 to 32832\n",
      "Data columns (total 20 columns):\n",
      " #   Column                         Non-Null Count  Dtype         \n",
      "---  ------                         --------------  -----         \n",
      " 0   track_id                       32833 non-null  string        \n",
      " 1   track_artist                   32828 non-null  string        \n",
      " 2   track_popularity               32833 non-null  int64         \n",
      " 3   track_album_id                 32833 non-null  string        \n",
      " 4   track_album_release_date       30947 non-null  datetime64[ns]\n",
      " 5   playlist_genre                 32833 non-null  string        \n",
      " 6   danceability                   32833 non-null  float64       \n",
      " 7   energy                         32833 non-null  float64       \n",
      " 8   key                            32833 non-null  int64         \n",
      " 9   loudness                       32833 non-null  float64       \n",
      " 10  mode                           32833 non-null  int64         \n",
      " 11  speechiness                    32833 non-null  float64       \n",
      " 12  acousticness                   32833 non-null  float64       \n",
      " 13  instrumentalness               32833 non-null  float64       \n",
      " 14  liveness                       32833 non-null  float64       \n",
      " 15  valence                        32833 non-null  float64       \n",
      " 16  tempo                          32833 non-null  float64       \n",
      " 17  track_album_release_date_year  30947 non-null  float64       \n",
      " 18  playlist_count_per_song        32833 non-null  int64         \n",
      " 19  duration_minutes               32833 non-null  float64       \n",
      "dtypes: datetime64[ns](1), float64(11), int64(4), string(4)\n",
      "memory usage: 5.0 MB\n"
     ]
    }
   ],
   "source": [
    "df.info()"
   ]
  },
  {
   "cell_type": "code",
   "execution_count": 451,
   "id": "4f0b02c6-980a-4e9b-84e2-ff2a285cc164",
   "metadata": {},
   "outputs": [],
   "source": [
    "df['playlist_genre_count_per_song'] = df.groupby('track_id')['playlist_genre'].transform('count')\n",
    "# Find the most popular genre per song (mode)\n",
    "popular_genre_per_song = df.groupby('track_id')['playlist_genre'].agg(lambda x: x.mode()[0]).reset_index()\n",
    "df.drop(columns=['playlist_genre'], inplace=True)\n"
   ]
  },
  {
   "cell_type": "code",
   "execution_count": 452,
   "id": "0273ec82-edeb-4cbe-b173-ef8f7685b022",
   "metadata": {},
   "outputs": [
    {
     "name": "stdout",
     "output_type": "stream",
     "text": [
      "                     track_id         track_artist  track_popularity  \\\n",
      "1299   1hfmvbkm75vxsfsq5vefz5         selena gomez                93   \n",
      "1300   2b8foow8uzydfae27yhozm             maroon 5                98   \n",
      "1304   7qehsqek33rtcfnt9pfqlf        lewis capaldi                94   \n",
      "1305   6v3kw9xbzn5yklt9ykdya2         shawn mendes                88   \n",
      "1307   6cy3ki60hlwimwije7talf  the black eyed peas                96   \n",
      "...                       ...                  ...               ...   \n",
      "32783  1mzgywacjpeik00pvlbppf          john legend                64   \n",
      "32793  1nas007ndbzlwdgwvmdz79                 3lau                52   \n",
      "32798  65hrzoqkvjmbdusz1n7aov  swedish house mafia                67   \n",
      "32804  2klzexjjjpunwcn5uag1gu       adventure club                 1   \n",
      "32808  5qcsdom6mcvfdl7kbt1fhv             hardwell                54   \n",
      "\n",
      "               track_album_id track_album_release_date  danceability  energy  \\\n",
      "1299   3tbkjgxdqawss76o1yhssy               2019-10-23         0.505   0.340   \n",
      "1300   3nr9b40hylklcr0eph3goc               2019-09-20         0.764   0.320   \n",
      "1304   5658am19fa3jvwtk6eqx70               2019-05-17         0.501   0.405   \n",
      "1305   0xzscn8p3hqaz3bt3yyx5w               2019-06-19         0.759   0.548   \n",
      "1307   6eobpc5sdfy5df50dwnvgf               2019-10-12         0.721   0.716   \n",
      "...                       ...                      ...           ...     ...   \n",
      "32783  4c2rsdhi9wuxn0zyxowtbb               2014-02-25         0.606   0.720   \n",
      "32793  0isgaoqrfjaj6wojxwdz7c               2014-01-01         0.496   0.789   \n",
      "32798  728voolbbjubgk2vooghcs               2011-05-13         0.507   0.665   \n",
      "32804  2dvyzkyzqlqo4utjlvtvbt               2013-10-22         0.479   0.675   \n",
      "32808  0gjlujalnipkdkafjnknfz               2012-12-29         0.712   0.497   \n",
      "\n",
      "       key  loudness  mode  speechiness  acousticness  instrumentalness  \\\n",
      "1299     4    -9.005     1       0.0438      0.576000           0.00000   \n",
      "1300    11    -7.209     1       0.0546      0.837000           0.00000   \n",
      "1304     1    -5.679     1       0.0319      0.751000           0.00000   \n",
      "1305     9    -6.049     0       0.0290      0.039200           0.00000   \n",
      "1307    10    -7.037     0       0.0657      0.033400           0.00084   \n",
      "...    ...       ...   ...          ...           ...               ...   \n",
      "32783    5    -6.253     0       0.0283      0.000151           0.00165   \n",
      "32793    1    -3.648     1       0.0839      0.183000           0.00000   \n",
      "32798    0    -7.598     1       0.0474      0.014400           0.00000   \n",
      "32804    9    -4.893     0       0.0413      0.031900           0.00536   \n",
      "32808   11    -8.976     1       0.0777      0.023500           0.76800   \n",
      "\n",
      "       liveness  valence    tempo  track_album_release_date_year  \\\n",
      "1299     0.2100   0.0916  101.993                         2019.0   \n",
      "1300     0.0822   0.5750   91.019                         2019.0   \n",
      "1304     0.1050   0.4460  109.891                         2019.0   \n",
      "1305     0.0828   0.7490  116.967                         2019.0   \n",
      "1307     0.2370   0.6670  104.994                         2019.0   \n",
      "...         ...      ...      ...                            ...   \n",
      "32783    0.0745   0.1790  127.986                         2014.0   \n",
      "32793    0.3400   0.2860  127.961                         2014.0   \n",
      "32798    0.0759   0.4000  126.879                         2011.0   \n",
      "32804    0.1280   0.1890  145.022                         2013.0   \n",
      "32808    0.1010   0.2380  139.987                         2012.0   \n",
      "\n",
      "       playlist_count_per_song  duration_minutes  \\\n",
      "1299                         6              3.44   \n",
      "1300                         6              3.16   \n",
      "1304                         4              3.04   \n",
      "1305                         5              3.18   \n",
      "1307                         6              3.70   \n",
      "...                        ...               ...   \n",
      "32783                        3              4.19   \n",
      "32793                        2              3.51   \n",
      "32798                        4              3.56   \n",
      "32804                        2              4.28   \n",
      "32808                        2              3.90   \n",
      "\n",
      "       playlist_genre_count_per_song  \n",
      "1299                               7  \n",
      "1300                               8  \n",
      "1304                               6  \n",
      "1305                               6  \n",
      "1307                               7  \n",
      "...                              ...  \n",
      "32783                              3  \n",
      "32793                              2  \n",
      "32798                              4  \n",
      "32804                              2  \n",
      "32808                              2  \n",
      "\n",
      "[4477 rows x 20 columns]\n"
     ]
    }
   ],
   "source": [
    "#Check for duplicate rows in the dataset\n",
    "df = df.reset_index(drop=True)\n",
    "\n",
    "# Now check for duplicates\n",
    "duplicates = df[df.duplicated()]\n",
    "\n",
    "# Print the duplicates or analyze the duplicates\n",
    "print(duplicates)"
   ]
  },
  {
   "cell_type": "code",
   "execution_count": 453,
   "id": "9e5b185d-7a68-4f24-9bc2-105a2d62dbd1",
   "metadata": {},
   "outputs": [
    {
     "name": "stdout",
     "output_type": "stream",
     "text": [
      "                     track_id    track_artist  track_popularity  \\\n",
      "1339   6man61jh0dzyzpwsls11jy  rauw alejandro                92   \n",
      "11119  6man61jh0dzyzpwsls11jy  rauw alejandro                92   \n",
      "17789  6man61jh0dzyzpwsls11jy  rauw alejandro                92   \n",
      "18767  6man61jh0dzyzpwsls11jy  rauw alejandro                92   \n",
      "19798  6man61jh0dzyzpwsls11jy  rauw alejandro                92   \n",
      "23143  6man61jh0dzyzpwsls11jy  rauw alejandro                92   \n",
      "30248  6man61jh0dzyzpwsls11jy  rauw alejandro                92   \n",
      "\n",
      "               track_album_id track_album_release_date  danceability  energy  \\\n",
      "1339   1flcx9eduv7ptgm9njbmgl               2019-08-29         0.879   0.703   \n",
      "11119  1flcx9eduv7ptgm9njbmgl               2019-08-29         0.879   0.703   \n",
      "17789  1flcx9eduv7ptgm9njbmgl               2019-08-29         0.879   0.703   \n",
      "18767  1flcx9eduv7ptgm9njbmgl               2019-08-29         0.879   0.703   \n",
      "19798  1flcx9eduv7ptgm9njbmgl               2019-08-29         0.879   0.703   \n",
      "23143  1flcx9eduv7ptgm9njbmgl               2019-08-29         0.879   0.703   \n",
      "30248  1flcx9eduv7ptgm9njbmgl               2019-08-29         0.879   0.703   \n",
      "\n",
      "       key  loudness  mode  speechiness  acousticness  instrumentalness  \\\n",
      "1339     1    -4.219     1       0.0701         0.143               0.0   \n",
      "11119    1    -4.219     1       0.0701         0.143               0.0   \n",
      "17789    1    -4.219     1       0.0701         0.143               0.0   \n",
      "18767    1    -4.219     1       0.0701         0.143               0.0   \n",
      "19798    1    -4.219     1       0.0701         0.143               0.0   \n",
      "23143    1    -4.219     1       0.0701         0.143               0.0   \n",
      "30248    1    -4.219     1       0.0701         0.143               0.0   \n",
      "\n",
      "       liveness  valence   tempo  track_album_release_date_year  \\\n",
      "1339     0.0569    0.788  94.004                         2019.0   \n",
      "11119    0.0569    0.788  94.004                         2019.0   \n",
      "17789    0.0569    0.788  94.004                         2019.0   \n",
      "18767    0.0569    0.788  94.004                         2019.0   \n",
      "19798    0.0569    0.788  94.004                         2019.0   \n",
      "23143    0.0569    0.788  94.004                         2019.0   \n",
      "30248    0.0569    0.788  94.004                         2019.0   \n",
      "\n",
      "       playlist_count_per_song  duration_minutes  \\\n",
      "1339                         6              3.33   \n",
      "11119                        6              3.33   \n",
      "17789                        6              3.33   \n",
      "18767                        6              3.33   \n",
      "19798                        6              3.33   \n",
      "23143                        6              3.33   \n",
      "30248                        6              3.33   \n",
      "\n",
      "       playlist_genre_count_per_song  \n",
      "1339                               7  \n",
      "11119                              7  \n",
      "17789                              7  \n",
      "18767                              7  \n",
      "19798                              7  \n",
      "23143                              7  \n",
      "30248                              7  \n"
     ]
    }
   ],
   "source": [
    "#Analyze the cause of duplicates in the dataset\n",
    "print(df[df['track_id'] == '6man61jh0dzyzpwsls11jy'])"
   ]
  },
  {
   "cell_type": "code",
   "execution_count": 454,
   "id": "b0fa56a2-2936-47d5-afbd-8262d6bfb415",
   "metadata": {},
   "outputs": [
    {
     "name": "stdout",
     "output_type": "stream",
     "text": [
      "                     track_id         track_artist  track_popularity  \\\n",
      "1299   1hfmvbkm75vxsfsq5vefz5         selena gomez                93   \n",
      "1300   2b8foow8uzydfae27yhozm             maroon 5                98   \n",
      "1304   7qehsqek33rtcfnt9pfqlf        lewis capaldi                94   \n",
      "1305   6v3kw9xbzn5yklt9ykdya2         shawn mendes                88   \n",
      "1307   6cy3ki60hlwimwije7talf  the black eyed peas                96   \n",
      "...                       ...                  ...               ...   \n",
      "32783  1mzgywacjpeik00pvlbppf          john legend                64   \n",
      "32793  1nas007ndbzlwdgwvmdz79                 3lau                52   \n",
      "32798  65hrzoqkvjmbdusz1n7aov  swedish house mafia                67   \n",
      "32804  2klzexjjjpunwcn5uag1gu       adventure club                 1   \n",
      "32808  5qcsdom6mcvfdl7kbt1fhv             hardwell                54   \n",
      "\n",
      "               track_album_id track_album_release_date  danceability  energy  \\\n",
      "1299   3tbkjgxdqawss76o1yhssy               2019-10-23         0.505   0.340   \n",
      "1300   3nr9b40hylklcr0eph3goc               2019-09-20         0.764   0.320   \n",
      "1304   5658am19fa3jvwtk6eqx70               2019-05-17         0.501   0.405   \n",
      "1305   0xzscn8p3hqaz3bt3yyx5w               2019-06-19         0.759   0.548   \n",
      "1307   6eobpc5sdfy5df50dwnvgf               2019-10-12         0.721   0.716   \n",
      "...                       ...                      ...           ...     ...   \n",
      "32783  4c2rsdhi9wuxn0zyxowtbb               2014-02-25         0.606   0.720   \n",
      "32793  0isgaoqrfjaj6wojxwdz7c               2014-01-01         0.496   0.789   \n",
      "32798  728voolbbjubgk2vooghcs               2011-05-13         0.507   0.665   \n",
      "32804  2dvyzkyzqlqo4utjlvtvbt               2013-10-22         0.479   0.675   \n",
      "32808  0gjlujalnipkdkafjnknfz               2012-12-29         0.712   0.497   \n",
      "\n",
      "       key  loudness  mode  speechiness  acousticness  instrumentalness  \\\n",
      "1299     4    -9.005     1       0.0438      0.576000           0.00000   \n",
      "1300    11    -7.209     1       0.0546      0.837000           0.00000   \n",
      "1304     1    -5.679     1       0.0319      0.751000           0.00000   \n",
      "1305     9    -6.049     0       0.0290      0.039200           0.00000   \n",
      "1307    10    -7.037     0       0.0657      0.033400           0.00084   \n",
      "...    ...       ...   ...          ...           ...               ...   \n",
      "32783    5    -6.253     0       0.0283      0.000151           0.00165   \n",
      "32793    1    -3.648     1       0.0839      0.183000           0.00000   \n",
      "32798    0    -7.598     1       0.0474      0.014400           0.00000   \n",
      "32804    9    -4.893     0       0.0413      0.031900           0.00536   \n",
      "32808   11    -8.976     1       0.0777      0.023500           0.76800   \n",
      "\n",
      "       liveness  valence    tempo  track_album_release_date_year  \\\n",
      "1299     0.2100   0.0916  101.993                         2019.0   \n",
      "1300     0.0822   0.5750   91.019                         2019.0   \n",
      "1304     0.1050   0.4460  109.891                         2019.0   \n",
      "1305     0.0828   0.7490  116.967                         2019.0   \n",
      "1307     0.2370   0.6670  104.994                         2019.0   \n",
      "...         ...      ...      ...                            ...   \n",
      "32783    0.0745   0.1790  127.986                         2014.0   \n",
      "32793    0.3400   0.2860  127.961                         2014.0   \n",
      "32798    0.0759   0.4000  126.879                         2011.0   \n",
      "32804    0.1280   0.1890  145.022                         2013.0   \n",
      "32808    0.1010   0.2380  139.987                         2012.0   \n",
      "\n",
      "       playlist_count_per_song  duration_minutes  \\\n",
      "1299                         6              3.44   \n",
      "1300                         6              3.16   \n",
      "1304                         4              3.04   \n",
      "1305                         5              3.18   \n",
      "1307                         6              3.70   \n",
      "...                        ...               ...   \n",
      "32783                        3              4.19   \n",
      "32793                        2              3.51   \n",
      "32798                        4              3.56   \n",
      "32804                        2              4.28   \n",
      "32808                        2              3.90   \n",
      "\n",
      "       playlist_genre_count_per_song  \n",
      "1299                               7  \n",
      "1300                               8  \n",
      "1304                               6  \n",
      "1305                               6  \n",
      "1307                               7  \n",
      "...                              ...  \n",
      "32783                              3  \n",
      "32793                              2  \n",
      "32798                              4  \n",
      "32804                              2  \n",
      "32808                              2  \n",
      "\n",
      "[4477 rows x 20 columns]\n"
     ]
    }
   ],
   "source": [
    "df = df.reset_index(drop=True)\n",
    "\n",
    "# Now check for duplicates\n",
    "duplicates = df[df.duplicated()]\n",
    "\n",
    "# Print the duplicates or analyze the duplicates\n",
    "print(duplicates)\n"
   ]
  },
  {
   "cell_type": "code",
   "execution_count": 455,
   "id": "a82beb00-d8ea-445f-88e4-9f2a82f5270a",
   "metadata": {},
   "outputs": [
    {
     "name": "stdout",
     "output_type": "stream",
     "text": [
      "                     track_id      track_artist  track_popularity  \\\n",
      "0      6f807x0ima9a1j3vpbc7vn        ed sheeran                66   \n",
      "1      0r7cvbztwzgbtcydfa2p31          maroon 5                67   \n",
      "2      1z1hg7vb0ahhdiemnde79l      zara larsson                70   \n",
      "3      75fpbthrwqmzhlbjlugdc7  the chainsmokers                60   \n",
      "4      1e8pafckuyokkxphrhqw4x     lewis capaldi                69   \n",
      "...                       ...               ...               ...   \n",
      "32828  7bxnkaamr3snq1vgluvfc1       lush  simon                42   \n",
      "32829  5aevni09em4575077nkwhz    tegan and sara                20   \n",
      "32830  7immqpp3q1yfuhvsdn7weo       starkillers                14   \n",
      "32831  2m69mhnfq1oq6lgtxuyhgx            mat zo                15   \n",
      "32832  29zwqhca3zt5nsckzqdf6c      julian calor                27   \n",
      "\n",
      "               track_album_id track_album_release_date  danceability  energy  \\\n",
      "0      2ocs0dgtsro98gh5zsl2cx               2019-06-14         0.748   0.916   \n",
      "1      63rpso264urjw1x5e6cwv6               2019-12-13         0.726   0.815   \n",
      "2      1hosmj2elcsrr0ve9gthr4               2019-07-05         0.675   0.931   \n",
      "3      1nqysoef1ykkugovchbsk6               2019-07-19         0.718   0.930   \n",
      "4      7m7vv9wlq4i0lfujie2zsq               2019-03-05         0.650   0.833   \n",
      "...                       ...                      ...           ...     ...   \n",
      "32828  2azrobbweeeyhqv6sb7jrt               2014-04-28         0.428   0.922   \n",
      "32829  6kd6klxj7s8ece3abvayf5               2013-03-08         0.522   0.786   \n",
      "32830  0ltwnsy9jgxoizo4vzuca6               2014-04-21         0.529   0.821   \n",
      "32831  1fgrokhnhjcstl14znx8jy               2014-01-01         0.626   0.888   \n",
      "32832  0x3muom6mhxr7pzxg95rao               2014-03-03         0.603   0.884   \n",
      "\n",
      "       key  loudness  mode  speechiness  acousticness  instrumentalness  \\\n",
      "0        6    -2.634     1       0.0583      0.102000          0.000000   \n",
      "1       11    -4.969     1       0.0373      0.072400          0.004210   \n",
      "2        1    -3.432     0       0.0742      0.079400          0.000023   \n",
      "3        7    -3.778     1       0.1020      0.028700          0.000009   \n",
      "4        1    -4.672     1       0.0359      0.080300          0.000000   \n",
      "...    ...       ...   ...          ...           ...               ...   \n",
      "32828    2    -1.814     1       0.0936      0.076600          0.000000   \n",
      "32829    0    -4.462     1       0.0420      0.001710          0.004270   \n",
      "32830    6    -4.899     0       0.0481      0.108000          0.000001   \n",
      "32831    2    -3.361     1       0.1090      0.007920          0.127000   \n",
      "32832    5    -4.571     0       0.0385      0.000133          0.341000   \n",
      "\n",
      "       liveness  valence    tempo  track_album_release_date_year  \\\n",
      "0        0.0653   0.5180  122.036                         2019.0   \n",
      "1        0.3570   0.6930   99.972                         2019.0   \n",
      "2        0.1100   0.6130  124.008                         2019.0   \n",
      "3        0.2040   0.2770  121.956                         2019.0   \n",
      "4        0.0833   0.7250  123.976                         2019.0   \n",
      "...         ...      ...      ...                            ...   \n",
      "32828    0.0668   0.2100  128.170                         2014.0   \n",
      "32829    0.3750   0.4000  128.041                         2013.0   \n",
      "32830    0.1500   0.4360  127.989                         2014.0   \n",
      "32831    0.3430   0.3080  128.008                         2014.0   \n",
      "32832    0.7420   0.0894  127.984                         2014.0   \n",
      "\n",
      "       playlist_count_per_song  duration_minutes  \\\n",
      "0                            2              3.25   \n",
      "1                            2              2.71   \n",
      "2                            3              2.94   \n",
      "3                            1              2.82   \n",
      "4                            1              3.15   \n",
      "...                        ...               ...   \n",
      "32828                        1              3.41   \n",
      "32829                        1              5.89   \n",
      "32830                        1              3.50   \n",
      "32831                        1              6.12   \n",
      "32832                        1              5.62   \n",
      "\n",
      "       playlist_genre_count_per_song  \n",
      "0                                  2  \n",
      "1                                  2  \n",
      "2                                  3  \n",
      "3                                  1  \n",
      "4                                  1  \n",
      "...                              ...  \n",
      "32828                              1  \n",
      "32829                              1  \n",
      "32830                              1  \n",
      "32831                              1  \n",
      "32832                              1  \n",
      "\n",
      "[28356 rows x 20 columns]\n"
     ]
    }
   ],
   "source": [
    "# Remove all duplicate rows and keep only unique ones\n",
    "df_unique = df.drop_duplicates()\n",
    "\n",
    "# Display the unique rows\n",
    "print(df_unique)"
   ]
  },
  {
   "cell_type": "code",
   "execution_count": 456,
   "id": "e8478ea0-5e6c-414a-a8ea-f2aad73d9dfe",
   "metadata": {},
   "outputs": [
    {
     "name": "stdout",
     "output_type": "stream",
     "text": [
      "Series([], Name: count, dtype: Int64)\n"
     ]
    }
   ],
   "source": [
    "#checking\n",
    "# Count the occurrences of each 'track_id'\n",
    "track_count = df_unique['track_id'].value_counts()\n",
    "\n",
    "# Filter track_ids that appear more than once\n",
    "duplicate_tracks = track_count[track_count > 1]\n",
    "\n",
    "# Display the track_ids that appear more than once\n",
    "print(duplicate_tracks)\n",
    "\n",
    "# No duplicates"
   ]
  },
  {
   "cell_type": "code",
   "execution_count": 457,
   "id": "fc533764-b7aa-460c-a219-505c137384d5",
   "metadata": {},
   "outputs": [
    {
     "data": {
      "text/html": [
       "<div>\n",
       "<style scoped>\n",
       "    .dataframe tbody tr th:only-of-type {\n",
       "        vertical-align: middle;\n",
       "    }\n",
       "\n",
       "    .dataframe tbody tr th {\n",
       "        vertical-align: top;\n",
       "    }\n",
       "\n",
       "    .dataframe thead th {\n",
       "        text-align: right;\n",
       "    }\n",
       "</style>\n",
       "<table border=\"1\" class=\"dataframe\">\n",
       "  <thead>\n",
       "    <tr style=\"text-align: right;\">\n",
       "      <th></th>\n",
       "      <th>track_popularity</th>\n",
       "      <th>track_album_release_date</th>\n",
       "      <th>danceability</th>\n",
       "      <th>energy</th>\n",
       "      <th>key</th>\n",
       "      <th>loudness</th>\n",
       "      <th>mode</th>\n",
       "      <th>speechiness</th>\n",
       "      <th>acousticness</th>\n",
       "      <th>instrumentalness</th>\n",
       "      <th>liveness</th>\n",
       "      <th>valence</th>\n",
       "      <th>tempo</th>\n",
       "      <th>track_album_release_date_year</th>\n",
       "      <th>playlist_count_per_song</th>\n",
       "      <th>duration_minutes</th>\n",
       "      <th>playlist_genre_count_per_song</th>\n",
       "    </tr>\n",
       "  </thead>\n",
       "  <tbody>\n",
       "    <tr>\n",
       "      <th>count</th>\n",
       "      <td>28356.000000</td>\n",
       "      <td>26675</td>\n",
       "      <td>28356.000000</td>\n",
       "      <td>28356.000000</td>\n",
       "      <td>28356.000000</td>\n",
       "      <td>28356.000000</td>\n",
       "      <td>28356.000000</td>\n",
       "      <td>28356.000000</td>\n",
       "      <td>28356.000000</td>\n",
       "      <td>28356.000000</td>\n",
       "      <td>28356.000000</td>\n",
       "      <td>28356.000000</td>\n",
       "      <td>28356.00000</td>\n",
       "      <td>26675.000000</td>\n",
       "      <td>28356.000000</td>\n",
       "      <td>28356.000000</td>\n",
       "      <td>28356.000000</td>\n",
       "    </tr>\n",
       "    <tr>\n",
       "      <th>mean</th>\n",
       "      <td>39.329771</td>\n",
       "      <td>2012-08-03 13:38:06.860356096</td>\n",
       "      <td>0.653372</td>\n",
       "      <td>0.698388</td>\n",
       "      <td>5.368000</td>\n",
       "      <td>-6.817696</td>\n",
       "      <td>0.565489</td>\n",
       "      <td>0.107954</td>\n",
       "      <td>0.177176</td>\n",
       "      <td>0.091117</td>\n",
       "      <td>0.190958</td>\n",
       "      <td>0.510387</td>\n",
       "      <td>120.95618</td>\n",
       "      <td>2012.103505</td>\n",
       "      <td>1.137361</td>\n",
       "      <td>3.776265</td>\n",
       "      <td>1.157885</td>\n",
       "    </tr>\n",
       "    <tr>\n",
       "      <th>min</th>\n",
       "      <td>0.000000</td>\n",
       "      <td>1957-01-01 00:00:00</td>\n",
       "      <td>0.000000</td>\n",
       "      <td>0.000175</td>\n",
       "      <td>0.000000</td>\n",
       "      <td>-46.448000</td>\n",
       "      <td>0.000000</td>\n",
       "      <td>0.000000</td>\n",
       "      <td>0.000000</td>\n",
       "      <td>0.000000</td>\n",
       "      <td>0.000000</td>\n",
       "      <td>0.000000</td>\n",
       "      <td>0.00000</td>\n",
       "      <td>1957.000000</td>\n",
       "      <td>1.000000</td>\n",
       "      <td>0.070000</td>\n",
       "      <td>1.000000</td>\n",
       "    </tr>\n",
       "    <tr>\n",
       "      <th>25%</th>\n",
       "      <td>21.000000</td>\n",
       "      <td>2010-04-25 12:00:00</td>\n",
       "      <td>0.561000</td>\n",
       "      <td>0.579000</td>\n",
       "      <td>2.000000</td>\n",
       "      <td>-8.309250</td>\n",
       "      <td>0.000000</td>\n",
       "      <td>0.041000</td>\n",
       "      <td>0.014375</td>\n",
       "      <td>0.000000</td>\n",
       "      <td>0.092600</td>\n",
       "      <td>0.329000</td>\n",
       "      <td>99.97200</td>\n",
       "      <td>2010.000000</td>\n",
       "      <td>1.000000</td>\n",
       "      <td>3.130000</td>\n",
       "      <td>1.000000</td>\n",
       "    </tr>\n",
       "    <tr>\n",
       "      <th>50%</th>\n",
       "      <td>42.000000</td>\n",
       "      <td>2016-11-11 00:00:00</td>\n",
       "      <td>0.670000</td>\n",
       "      <td>0.722000</td>\n",
       "      <td>6.000000</td>\n",
       "      <td>-6.261000</td>\n",
       "      <td>1.000000</td>\n",
       "      <td>0.062600</td>\n",
       "      <td>0.079700</td>\n",
       "      <td>0.000021</td>\n",
       "      <td>0.127000</td>\n",
       "      <td>0.512000</td>\n",
       "      <td>121.99300</td>\n",
       "      <td>2016.000000</td>\n",
       "      <td>1.000000</td>\n",
       "      <td>3.620000</td>\n",
       "      <td>1.000000</td>\n",
       "    </tr>\n",
       "    <tr>\n",
       "      <th>75%</th>\n",
       "      <td>58.000000</td>\n",
       "      <td>2019-04-12 00:00:00</td>\n",
       "      <td>0.760000</td>\n",
       "      <td>0.843000</td>\n",
       "      <td>9.000000</td>\n",
       "      <td>-4.709000</td>\n",
       "      <td>1.000000</td>\n",
       "      <td>0.133000</td>\n",
       "      <td>0.260000</td>\n",
       "      <td>0.006570</td>\n",
       "      <td>0.249000</td>\n",
       "      <td>0.695000</td>\n",
       "      <td>133.99900</td>\n",
       "      <td>2019.000000</td>\n",
       "      <td>1.000000</td>\n",
       "      <td>4.250000</td>\n",
       "      <td>1.000000</td>\n",
       "    </tr>\n",
       "    <tr>\n",
       "      <th>max</th>\n",
       "      <td>100.000000</td>\n",
       "      <td>2020-01-29 00:00:00</td>\n",
       "      <td>0.983000</td>\n",
       "      <td>1.000000</td>\n",
       "      <td>11.000000</td>\n",
       "      <td>1.275000</td>\n",
       "      <td>1.000000</td>\n",
       "      <td>0.918000</td>\n",
       "      <td>0.994000</td>\n",
       "      <td>0.994000</td>\n",
       "      <td>0.996000</td>\n",
       "      <td>0.991000</td>\n",
       "      <td>239.44000</td>\n",
       "      <td>2020.000000</td>\n",
       "      <td>8.000000</td>\n",
       "      <td>8.630000</td>\n",
       "      <td>10.000000</td>\n",
       "    </tr>\n",
       "    <tr>\n",
       "      <th>std</th>\n",
       "      <td>23.702376</td>\n",
       "      <td>NaN</td>\n",
       "      <td>0.145785</td>\n",
       "      <td>0.183503</td>\n",
       "      <td>3.613904</td>\n",
       "      <td>3.036243</td>\n",
       "      <td>0.495701</td>\n",
       "      <td>0.102556</td>\n",
       "      <td>0.222803</td>\n",
       "      <td>0.232548</td>\n",
       "      <td>0.155894</td>\n",
       "      <td>0.234340</td>\n",
       "      <td>26.95456</td>\n",
       "      <td>10.246302</td>\n",
       "      <td>0.485660</td>\n",
       "      <td>1.017984</td>\n",
       "      <td>0.543834</td>\n",
       "    </tr>\n",
       "  </tbody>\n",
       "</table>\n",
       "</div>"
      ],
      "text/plain": [
       "       track_popularity       track_album_release_date  danceability  \\\n",
       "count      28356.000000                          26675  28356.000000   \n",
       "mean          39.329771  2012-08-03 13:38:06.860356096      0.653372   \n",
       "min            0.000000            1957-01-01 00:00:00      0.000000   \n",
       "25%           21.000000            2010-04-25 12:00:00      0.561000   \n",
       "50%           42.000000            2016-11-11 00:00:00      0.670000   \n",
       "75%           58.000000            2019-04-12 00:00:00      0.760000   \n",
       "max          100.000000            2020-01-29 00:00:00      0.983000   \n",
       "std           23.702376                            NaN      0.145785   \n",
       "\n",
       "             energy           key      loudness          mode   speechiness  \\\n",
       "count  28356.000000  28356.000000  28356.000000  28356.000000  28356.000000   \n",
       "mean       0.698388      5.368000     -6.817696      0.565489      0.107954   \n",
       "min        0.000175      0.000000    -46.448000      0.000000      0.000000   \n",
       "25%        0.579000      2.000000     -8.309250      0.000000      0.041000   \n",
       "50%        0.722000      6.000000     -6.261000      1.000000      0.062600   \n",
       "75%        0.843000      9.000000     -4.709000      1.000000      0.133000   \n",
       "max        1.000000     11.000000      1.275000      1.000000      0.918000   \n",
       "std        0.183503      3.613904      3.036243      0.495701      0.102556   \n",
       "\n",
       "       acousticness  instrumentalness      liveness       valence  \\\n",
       "count  28356.000000      28356.000000  28356.000000  28356.000000   \n",
       "mean       0.177176          0.091117      0.190958      0.510387   \n",
       "min        0.000000          0.000000      0.000000      0.000000   \n",
       "25%        0.014375          0.000000      0.092600      0.329000   \n",
       "50%        0.079700          0.000021      0.127000      0.512000   \n",
       "75%        0.260000          0.006570      0.249000      0.695000   \n",
       "max        0.994000          0.994000      0.996000      0.991000   \n",
       "std        0.222803          0.232548      0.155894      0.234340   \n",
       "\n",
       "             tempo  track_album_release_date_year  playlist_count_per_song  \\\n",
       "count  28356.00000                   26675.000000             28356.000000   \n",
       "mean     120.95618                    2012.103505                 1.137361   \n",
       "min        0.00000                    1957.000000                 1.000000   \n",
       "25%       99.97200                    2010.000000                 1.000000   \n",
       "50%      121.99300                    2016.000000                 1.000000   \n",
       "75%      133.99900                    2019.000000                 1.000000   \n",
       "max      239.44000                    2020.000000                 8.000000   \n",
       "std       26.95456                      10.246302                 0.485660   \n",
       "\n",
       "       duration_minutes  playlist_genre_count_per_song  \n",
       "count      28356.000000                   28356.000000  \n",
       "mean           3.776265                       1.157885  \n",
       "min            0.070000                       1.000000  \n",
       "25%            3.130000                       1.000000  \n",
       "50%            3.620000                       1.000000  \n",
       "75%            4.250000                       1.000000  \n",
       "max            8.630000                      10.000000  \n",
       "std            1.017984                       0.543834  "
      ]
     },
     "execution_count": 457,
     "metadata": {},
     "output_type": "execute_result"
    }
   ],
   "source": [
    "df_unique.describe()"
   ]
  },
  {
   "cell_type": "code",
   "execution_count": 458,
   "id": "7987f9a3-64a3-4c41-9d59-c4b5d6a180d4",
   "metadata": {},
   "outputs": [],
   "source": [
    "## Saving to Pickle\n",
    "\n",
    "import pickle\n",
    "\n",
    "# Specify the filename\n",
    "filename = 'spotify_songs_df_after_data_prep_9.3.25.pkl'\n",
    "\n",
    "# Save DataFrame to a pickle file\n",
    "df_unique.to_pickle(filename)\n",
    "\n",
    "# Load DataFrame from a pickle file\n",
    "df_unique = pd.read_pickle(filename)\n"
   ]
  },
  {
   "cell_type": "code",
   "execution_count": 459,
   "id": "70b4df4c-d05f-42fd-b098-6d5a55ec27ec",
   "metadata": {},
   "outputs": [],
   "source": [
    "df_sorted = df_unique.sort_values(by='track_id', ascending=False)\n",
    "\n",
    "# Save the sorted DataFrame to a CSV file\n",
    "df_sorted.to_csv('sorted_spotify_songs_data.csv', index=False)"
   ]
  },
  {
   "cell_type": "code",
   "execution_count": null,
   "id": "04d7cee3-fe1f-4019-82cf-85a71a23753c",
   "metadata": {},
   "outputs": [],
   "source": []
  }
 ],
 "metadata": {
  "kernelspec": {
   "display_name": "Python 3 (ipykernel)",
   "language": "python",
   "name": "python3"
  },
  "language_info": {
   "codemirror_mode": {
    "name": "ipython",
    "version": 3
   },
   "file_extension": ".py",
   "mimetype": "text/x-python",
   "name": "python",
   "nbconvert_exporter": "python",
   "pygments_lexer": "ipython3",
   "version": "3.12.7"
  }
 },
 "nbformat": 4,
 "nbformat_minor": 5
}
