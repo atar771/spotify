{
 "cells": [
  {
   "cell_type": "markdown",
   "id": "d648c343-1b8f-4d71-bb15-87fdb31a0fae",
   "metadata": {},
   "source": [
    "###Data Cleansing"
   ]
  },
  {
   "cell_type": "code",
   "execution_count": 1,
   "id": "4b547978-ed67-4f25-bbf1-511ff57a91ee",
   "metadata": {},
   "outputs": [],
   "source": [
    "import numpy as np\n",
    "import os \n",
    "import pandas as pd"
   ]
  },
  {
   "cell_type": "code",
   "execution_count": 2,
   "id": "7a4475c8-bb5b-4428-834f-659208ac3d2f",
   "metadata": {},
   "outputs": [
    {
     "data": {
      "text/html": [
       "\n",
       "            <div>\n",
       "                <ins><a href=\"ttps://ydata.ai/register\">Upgrade to ydata-sdk</a></ins>\n",
       "                <p>\n",
       "                    Improve your data and profiling with ydata-sdk, featuring data quality scoring, redundancy detection, outlier identification, text validation, and synthetic data generation.\n",
       "                </p>\n",
       "            </div>\n",
       "            "
      ],
      "text/plain": [
       "<IPython.core.display.HTML object>"
      ]
     },
     "metadata": {},
     "output_type": "display_data"
    },
    {
     "name": "stderr",
     "output_type": "stream",
     "text": [
      "[nltk_data] Downloading package punkt to C:\\Users\\Meital\n",
      "[nltk_data]     atar\\AppData\\Roaming\\nltk_data...\n",
      "[nltk_data]   Package punkt is already up-to-date!\n",
      "[nltk_data] Downloading package wordnet to C:\\Users\\Meital\n",
      "[nltk_data]     atar\\AppData\\Roaming\\nltk_data...\n",
      "[nltk_data]   Package wordnet is already up-to-date!\n"
     ]
    },
    {
     "data": {
      "text/plain": [
       "True"
      ]
     },
     "execution_count": 2,
     "metadata": {},
     "output_type": "execute_result"
    }
   ],
   "source": [
    "import numpy as np\n",
    "import os \n",
    "import pandas as pd\n",
    "from ydata_profiling import ProfileReport\n",
    "%matplotlib inline\n",
    "import matplotlib as mpl\n",
    "import matplotlib.pyplot as plt\n",
    "from sklearn import ensemble, tree, linear_model\n",
    "from sklearn import tree\n",
    "from sklearn.metrics import accuracy_score\n",
    "from sklearn.experimental import enable_iterative_imputer\n",
    "from sklearn.impute import IterativeImputer\n",
    "from sklearn.impute import KNNImputer\n",
    "from scipy.stats import pearsonr\n",
    "import pyodbc\n",
    "import seaborn as sns\n",
    "sns.set()\n",
    "#plt.style.use('seaborn')\n",
    "import re\n",
    "from scipy import stats\n",
    "from scipy.stats import chisquare\n",
    "from scipy.stats import chi2_contingency\n",
    "from scipy.stats import f_oneway\n",
    "import statsmodels.api as sm\n",
    "import statsmodels.formula.api as smf\n",
    "from scipy.stats import ks_2samp\n",
    "from scipy.stats import norm\n",
    "import missingno as msno\n",
    "import warnings\n",
    "import datetime\n",
    "warnings.filterwarnings(\"ignore\")\n",
    "import nltk\n",
    "#nltk.download('popular')\n",
    "nltk.download('punkt')\n",
    "nltk.download('wordnet')"
   ]
  },
  {
   "cell_type": "code",
   "execution_count": 3,
   "id": "b14af410-aefb-4027-9ae3-2e9c1c5f5152",
   "metadata": {},
   "outputs": [],
   "source": [
    "df = pd.read_pickle(r\"spotify_songs_df_after_data_prep_9.3.25.pkl\")"
   ]
  },
  {
   "cell_type": "code",
   "execution_count": 4,
   "id": "5555d563-7c6c-4a6f-92f6-1319915b384e",
   "metadata": {},
   "outputs": [
    {
     "name": "stdout",
     "output_type": "stream",
     "text": [
      "<class 'pandas.core.frame.DataFrame'>\n",
      "Index: 28356 entries, 0 to 32832\n",
      "Data columns (total 20 columns):\n",
      " #   Column                         Non-Null Count  Dtype         \n",
      "---  ------                         --------------  -----         \n",
      " 0   track_id                       28356 non-null  string        \n",
      " 1   track_artist                   28352 non-null  string        \n",
      " 2   track_popularity               28356 non-null  int64         \n",
      " 3   track_album_id                 28356 non-null  string        \n",
      " 4   track_album_release_date       26675 non-null  datetime64[ns]\n",
      " 5   danceability                   28356 non-null  float64       \n",
      " 6   energy                         28356 non-null  float64       \n",
      " 7   key                            28356 non-null  int64         \n",
      " 8   loudness                       28356 non-null  float64       \n",
      " 9   mode                           28356 non-null  int64         \n",
      " 10  speechiness                    28356 non-null  float64       \n",
      " 11  acousticness                   28356 non-null  float64       \n",
      " 12  instrumentalness               28356 non-null  float64       \n",
      " 13  liveness                       28356 non-null  float64       \n",
      " 14  valence                        28356 non-null  float64       \n",
      " 15  tempo                          28356 non-null  float64       \n",
      " 16  duration_ms                    28356 non-null  int64         \n",
      " 17  track_album_release_date_year  26675 non-null  float64       \n",
      " 18  playlist_count_per_song        28356 non-null  int64         \n",
      " 19  playlist_genre_count_per_song  28356 non-null  int64         \n",
      "dtypes: datetime64[ns](1), float64(10), int64(6), string(3)\n",
      "memory usage: 4.5 MB\n"
     ]
    }
   ],
   "source": [
    "df.info()"
   ]
  },
  {
   "cell_type": "code",
   "execution_count": 5,
   "id": "b2658088-2f51-4d35-8858-62e4c4bcbf2b",
   "metadata": {},
   "outputs": [
    {
     "data": {
      "text/plain": [
       "(28356, 20)"
      ]
     },
     "execution_count": 5,
     "metadata": {},
     "output_type": "execute_result"
    }
   ],
   "source": [
    "df.shape"
   ]
  },
  {
   "cell_type": "code",
   "execution_count": 6,
   "id": "e85b24e2-b30b-4a6b-8c00-8be01d759eb2",
   "metadata": {},
   "outputs": [
    {
     "data": {
      "text/html": [
       "<div>\n",
       "<style scoped>\n",
       "    .dataframe tbody tr th:only-of-type {\n",
       "        vertical-align: middle;\n",
       "    }\n",
       "\n",
       "    .dataframe tbody tr th {\n",
       "        vertical-align: top;\n",
       "    }\n",
       "\n",
       "    .dataframe thead th {\n",
       "        text-align: right;\n",
       "    }\n",
       "</style>\n",
       "<table border=\"1\" class=\"dataframe\">\n",
       "  <thead>\n",
       "    <tr style=\"text-align: right;\">\n",
       "      <th></th>\n",
       "      <th>track_popularity</th>\n",
       "      <th>danceability</th>\n",
       "      <th>energy</th>\n",
       "      <th>key</th>\n",
       "      <th>loudness</th>\n",
       "      <th>mode</th>\n",
       "      <th>speechiness</th>\n",
       "      <th>acousticness</th>\n",
       "      <th>instrumentalness</th>\n",
       "      <th>liveness</th>\n",
       "      <th>valence</th>\n",
       "      <th>tempo</th>\n",
       "      <th>duration_ms</th>\n",
       "      <th>track_album_release_date_year</th>\n",
       "      <th>playlist_count_per_song</th>\n",
       "      <th>playlist_genre_count_per_song</th>\n",
       "    </tr>\n",
       "  </thead>\n",
       "  <tbody>\n",
       "    <tr>\n",
       "      <th>0</th>\n",
       "      <td>66.0</td>\n",
       "      <td>0.748</td>\n",
       "      <td>0.916</td>\n",
       "      <td>6.0</td>\n",
       "      <td>-2.634</td>\n",
       "      <td>1.0</td>\n",
       "      <td>0.0583</td>\n",
       "      <td>0.102000</td>\n",
       "      <td>0.000000</td>\n",
       "      <td>0.0653</td>\n",
       "      <td>0.5180</td>\n",
       "      <td>122.036</td>\n",
       "      <td>194754.0</td>\n",
       "      <td>2019.0</td>\n",
       "      <td>2.0</td>\n",
       "      <td>2.0</td>\n",
       "    </tr>\n",
       "    <tr>\n",
       "      <th>1</th>\n",
       "      <td>67.0</td>\n",
       "      <td>0.726</td>\n",
       "      <td>0.815</td>\n",
       "      <td>11.0</td>\n",
       "      <td>-4.969</td>\n",
       "      <td>1.0</td>\n",
       "      <td>0.0373</td>\n",
       "      <td>0.072400</td>\n",
       "      <td>0.004210</td>\n",
       "      <td>0.3570</td>\n",
       "      <td>0.6930</td>\n",
       "      <td>99.972</td>\n",
       "      <td>162600.0</td>\n",
       "      <td>2019.0</td>\n",
       "      <td>2.0</td>\n",
       "      <td>2.0</td>\n",
       "    </tr>\n",
       "    <tr>\n",
       "      <th>2</th>\n",
       "      <td>70.0</td>\n",
       "      <td>0.675</td>\n",
       "      <td>0.931</td>\n",
       "      <td>1.0</td>\n",
       "      <td>-3.432</td>\n",
       "      <td>0.0</td>\n",
       "      <td>0.0742</td>\n",
       "      <td>0.079400</td>\n",
       "      <td>0.000023</td>\n",
       "      <td>0.1100</td>\n",
       "      <td>0.6130</td>\n",
       "      <td>124.008</td>\n",
       "      <td>176616.0</td>\n",
       "      <td>2019.0</td>\n",
       "      <td>3.0</td>\n",
       "      <td>3.0</td>\n",
       "    </tr>\n",
       "    <tr>\n",
       "      <th>3</th>\n",
       "      <td>60.0</td>\n",
       "      <td>0.718</td>\n",
       "      <td>0.930</td>\n",
       "      <td>7.0</td>\n",
       "      <td>-3.778</td>\n",
       "      <td>1.0</td>\n",
       "      <td>0.1020</td>\n",
       "      <td>0.028700</td>\n",
       "      <td>0.000009</td>\n",
       "      <td>0.2040</td>\n",
       "      <td>0.2770</td>\n",
       "      <td>121.956</td>\n",
       "      <td>169093.0</td>\n",
       "      <td>2019.0</td>\n",
       "      <td>1.0</td>\n",
       "      <td>1.0</td>\n",
       "    </tr>\n",
       "    <tr>\n",
       "      <th>4</th>\n",
       "      <td>69.0</td>\n",
       "      <td>0.650</td>\n",
       "      <td>0.833</td>\n",
       "      <td>1.0</td>\n",
       "      <td>-4.672</td>\n",
       "      <td>1.0</td>\n",
       "      <td>0.0359</td>\n",
       "      <td>0.080300</td>\n",
       "      <td>0.000000</td>\n",
       "      <td>0.0833</td>\n",
       "      <td>0.7250</td>\n",
       "      <td>123.976</td>\n",
       "      <td>189052.0</td>\n",
       "      <td>2019.0</td>\n",
       "      <td>1.0</td>\n",
       "      <td>1.0</td>\n",
       "    </tr>\n",
       "    <tr>\n",
       "      <th>...</th>\n",
       "      <td>...</td>\n",
       "      <td>...</td>\n",
       "      <td>...</td>\n",
       "      <td>...</td>\n",
       "      <td>...</td>\n",
       "      <td>...</td>\n",
       "      <td>...</td>\n",
       "      <td>...</td>\n",
       "      <td>...</td>\n",
       "      <td>...</td>\n",
       "      <td>...</td>\n",
       "      <td>...</td>\n",
       "      <td>...</td>\n",
       "      <td>...</td>\n",
       "      <td>...</td>\n",
       "      <td>...</td>\n",
       "    </tr>\n",
       "    <tr>\n",
       "      <th>32828</th>\n",
       "      <td>42.0</td>\n",
       "      <td>0.428</td>\n",
       "      <td>0.922</td>\n",
       "      <td>2.0</td>\n",
       "      <td>-1.814</td>\n",
       "      <td>1.0</td>\n",
       "      <td>0.0936</td>\n",
       "      <td>0.076600</td>\n",
       "      <td>0.000000</td>\n",
       "      <td>0.0668</td>\n",
       "      <td>0.2100</td>\n",
       "      <td>128.170</td>\n",
       "      <td>204375.0</td>\n",
       "      <td>2014.0</td>\n",
       "      <td>1.0</td>\n",
       "      <td>1.0</td>\n",
       "    </tr>\n",
       "    <tr>\n",
       "      <th>32829</th>\n",
       "      <td>20.0</td>\n",
       "      <td>0.522</td>\n",
       "      <td>0.786</td>\n",
       "      <td>0.0</td>\n",
       "      <td>-4.462</td>\n",
       "      <td>1.0</td>\n",
       "      <td>0.0420</td>\n",
       "      <td>0.001710</td>\n",
       "      <td>0.004270</td>\n",
       "      <td>0.3750</td>\n",
       "      <td>0.4000</td>\n",
       "      <td>128.041</td>\n",
       "      <td>353120.0</td>\n",
       "      <td>2013.0</td>\n",
       "      <td>1.0</td>\n",
       "      <td>1.0</td>\n",
       "    </tr>\n",
       "    <tr>\n",
       "      <th>32830</th>\n",
       "      <td>14.0</td>\n",
       "      <td>0.529</td>\n",
       "      <td>0.821</td>\n",
       "      <td>6.0</td>\n",
       "      <td>-4.899</td>\n",
       "      <td>0.0</td>\n",
       "      <td>0.0481</td>\n",
       "      <td>0.108000</td>\n",
       "      <td>0.000001</td>\n",
       "      <td>0.1500</td>\n",
       "      <td>0.4360</td>\n",
       "      <td>127.989</td>\n",
       "      <td>210112.0</td>\n",
       "      <td>2014.0</td>\n",
       "      <td>1.0</td>\n",
       "      <td>1.0</td>\n",
       "    </tr>\n",
       "    <tr>\n",
       "      <th>32831</th>\n",
       "      <td>15.0</td>\n",
       "      <td>0.626</td>\n",
       "      <td>0.888</td>\n",
       "      <td>2.0</td>\n",
       "      <td>-3.361</td>\n",
       "      <td>1.0</td>\n",
       "      <td>0.1090</td>\n",
       "      <td>0.007920</td>\n",
       "      <td>0.127000</td>\n",
       "      <td>0.3430</td>\n",
       "      <td>0.3080</td>\n",
       "      <td>128.008</td>\n",
       "      <td>367432.0</td>\n",
       "      <td>2014.0</td>\n",
       "      <td>1.0</td>\n",
       "      <td>1.0</td>\n",
       "    </tr>\n",
       "    <tr>\n",
       "      <th>32832</th>\n",
       "      <td>27.0</td>\n",
       "      <td>0.603</td>\n",
       "      <td>0.884</td>\n",
       "      <td>5.0</td>\n",
       "      <td>-4.571</td>\n",
       "      <td>0.0</td>\n",
       "      <td>0.0385</td>\n",
       "      <td>0.000133</td>\n",
       "      <td>0.341000</td>\n",
       "      <td>0.7420</td>\n",
       "      <td>0.0894</td>\n",
       "      <td>127.984</td>\n",
       "      <td>337500.0</td>\n",
       "      <td>2014.0</td>\n",
       "      <td>1.0</td>\n",
       "      <td>1.0</td>\n",
       "    </tr>\n",
       "  </tbody>\n",
       "</table>\n",
       "<p>28356 rows × 16 columns</p>\n",
       "</div>"
      ],
      "text/plain": [
       "       track_popularity  danceability  energy   key  loudness  mode  \\\n",
       "0                  66.0         0.748   0.916   6.0    -2.634   1.0   \n",
       "1                  67.0         0.726   0.815  11.0    -4.969   1.0   \n",
       "2                  70.0         0.675   0.931   1.0    -3.432   0.0   \n",
       "3                  60.0         0.718   0.930   7.0    -3.778   1.0   \n",
       "4                  69.0         0.650   0.833   1.0    -4.672   1.0   \n",
       "...                 ...           ...     ...   ...       ...   ...   \n",
       "32828              42.0         0.428   0.922   2.0    -1.814   1.0   \n",
       "32829              20.0         0.522   0.786   0.0    -4.462   1.0   \n",
       "32830              14.0         0.529   0.821   6.0    -4.899   0.0   \n",
       "32831              15.0         0.626   0.888   2.0    -3.361   1.0   \n",
       "32832              27.0         0.603   0.884   5.0    -4.571   0.0   \n",
       "\n",
       "       speechiness  acousticness  instrumentalness  liveness  valence  \\\n",
       "0           0.0583      0.102000          0.000000    0.0653   0.5180   \n",
       "1           0.0373      0.072400          0.004210    0.3570   0.6930   \n",
       "2           0.0742      0.079400          0.000023    0.1100   0.6130   \n",
       "3           0.1020      0.028700          0.000009    0.2040   0.2770   \n",
       "4           0.0359      0.080300          0.000000    0.0833   0.7250   \n",
       "...            ...           ...               ...       ...      ...   \n",
       "32828       0.0936      0.076600          0.000000    0.0668   0.2100   \n",
       "32829       0.0420      0.001710          0.004270    0.3750   0.4000   \n",
       "32830       0.0481      0.108000          0.000001    0.1500   0.4360   \n",
       "32831       0.1090      0.007920          0.127000    0.3430   0.3080   \n",
       "32832       0.0385      0.000133          0.341000    0.7420   0.0894   \n",
       "\n",
       "         tempo  duration_ms  track_album_release_date_year  \\\n",
       "0      122.036     194754.0                         2019.0   \n",
       "1       99.972     162600.0                         2019.0   \n",
       "2      124.008     176616.0                         2019.0   \n",
       "3      121.956     169093.0                         2019.0   \n",
       "4      123.976     189052.0                         2019.0   \n",
       "...        ...          ...                            ...   \n",
       "32828  128.170     204375.0                         2014.0   \n",
       "32829  128.041     353120.0                         2013.0   \n",
       "32830  127.989     210112.0                         2014.0   \n",
       "32831  128.008     367432.0                         2014.0   \n",
       "32832  127.984     337500.0                         2014.0   \n",
       "\n",
       "       playlist_count_per_song  playlist_genre_count_per_song  \n",
       "0                          2.0                            2.0  \n",
       "1                          2.0                            2.0  \n",
       "2                          3.0                            3.0  \n",
       "3                          1.0                            1.0  \n",
       "4                          1.0                            1.0  \n",
       "...                        ...                            ...  \n",
       "32828                      1.0                            1.0  \n",
       "32829                      1.0                            1.0  \n",
       "32830                      1.0                            1.0  \n",
       "32831                      1.0                            1.0  \n",
       "32832                      1.0                            1.0  \n",
       "\n",
       "[28356 rows x 16 columns]"
      ]
     },
     "execution_count": 6,
     "metadata": {},
     "output_type": "execute_result"
    }
   ],
   "source": [
    "# Selecting only numeric continuous columns (excluding categorical and discrete)\n",
    "# In most cases, continuous variables are numeric and float types\n",
    "continuous_df = df.select_dtypes(include=['float64', 'int64'])\n",
    "continuous_df = continuous_df.astype({col: 'float64' for col in continuous_df.select_dtypes(include='int64').columns})\n",
    "\n",
    "# Display the small dataset with only numeric continuous data\n",
    "continuous_df"
   ]
  },
  {
   "cell_type": "code",
   "execution_count": 7,
   "id": "41d420f3-a66d-4b5a-9a1f-8fffaa68e9cf",
   "metadata": {},
   "outputs": [
    {
     "name": "stdout",
     "output_type": "stream",
     "text": [
      "<class 'pandas.core.frame.DataFrame'>\n",
      "Index: 28356 entries, 0 to 32832\n",
      "Data columns (total 16 columns):\n",
      " #   Column                         Non-Null Count  Dtype  \n",
      "---  ------                         --------------  -----  \n",
      " 0   track_popularity               28356 non-null  float64\n",
      " 1   danceability                   28356 non-null  float64\n",
      " 2   energy                         28356 non-null  float64\n",
      " 3   key                            28356 non-null  float64\n",
      " 4   loudness                       28356 non-null  float64\n",
      " 5   mode                           28356 non-null  float64\n",
      " 6   speechiness                    28356 non-null  float64\n",
      " 7   acousticness                   28356 non-null  float64\n",
      " 8   instrumentalness               28356 non-null  float64\n",
      " 9   liveness                       28356 non-null  float64\n",
      " 10  valence                        28356 non-null  float64\n",
      " 11  tempo                          28356 non-null  float64\n",
      " 12  duration_ms                    28356 non-null  float64\n",
      " 13  track_album_release_date_year  26675 non-null  float64\n",
      " 14  playlist_count_per_song        28356 non-null  float64\n",
      " 15  playlist_genre_count_per_song  28356 non-null  float64\n",
      "dtypes: float64(16)\n",
      "memory usage: 3.7 MB\n"
     ]
    }
   ],
   "source": [
    "continuous_df.info()"
   ]
  },
  {
   "cell_type": "code",
   "execution_count": 8,
   "id": "c6179342-709d-4132-8969-cd1c9603d6b1",
   "metadata": {},
   "outputs": [
    {
     "data": {
      "image/png": "[encoded data removed]",
      "text/plain": [
       "<Figure size 600x400 with 1 Axes>"
      ]
     },
     "metadata": {},
     "output_type": "display_data"
    }
   ],
   "source": [
    "plt.figure(figsize=(6, 4))\n",
    "sns.boxplot(x=df['track_popularity'])\n",
    "\n",
    "plt.show()"
   ]
  },
  {
   "cell_type": "markdown",
   "id": "f2e73096-9ef8-48dd-96d0-9aad95a9d81b",
   "metadata": {},
   "source": [
    "Target Value after log scale"
   ]
  },
  {
   "cell_type": "code",
   "execution_count": 9,
   "id": "85eb35b1-0b0d-4697-9df6-4291668e9b16",
   "metadata": {},
   "outputs": [
    {
     "data": {
      "image/png": "[encoded data removed]",
      "text/plain": [
       "<Figure size 600x400 with 1 Axes>"
      ]
     },
     "metadata": {},
     "output_type": "display_data"
    }
   ],
   "source": [
    "target_pop_log = np.log10(df['track_popularity'])\n",
    "\n",
    "# Create the boxplot\n",
    "plt.figure(figsize=(6, 4))\n",
    "sns.boxplot(x=target_pop_log)  # Use x= or y= explicitly\n",
    "\n",
    "# Show the plot\n",
    "plt.show()"
   ]
  },
  {
   "cell_type": "code",
   "execution_count": 10,
   "id": "dc2b3bb2-d992-4879-9df9-68d0ae1a6543",
   "metadata": {},
   "outputs": [],
   "source": [
    "continuous_df_log=np.log10(continuous_df)"
   ]
  },
  {
   "cell_type": "code",
   "execution_count": null,
   "id": "bb897aec-be75-474d-ab4f-1d341070899c",
   "metadata": {},
   "outputs": [],
   "source": []
  },
  {
   "cell_type": "markdown",
   "id": "39fcb377-31e4-4878-b24b-c62400097d85",
   "metadata": {},
   "source": [
    "# Outliers"
   ]
  },
  {
   "cell_type": "code",
   "execution_count": 11,
   "id": "8179a2f3-2e88-4402-8e35-53e1198920dd",
   "metadata": {},
   "outputs": [],
   "source": [
    "df_num_non_dummy = df.select_dtypes(include=['int64', 'float64'])  # Select numerical columns"
   ]
  },
  {
   "cell_type": "code",
   "execution_count": 12,
   "id": "0683758c-f9ba-4360-a24f-2f9ec4a2f402",
   "metadata": {},
   "outputs": [
    {
     "ename": "NameError",
     "evalue": "name 'sb' is not defined",
     "output_type": "error",
     "traceback": [
      "\u001b[1;31m---------------------------------------------------------------------------\u001b[0m",
      "\u001b[1;31mNameError\u001b[0m                                 Traceback (most recent call last)",
      "Cell \u001b[1;32mIn[12], line 12\u001b[0m\n\u001b[0;32m      9\u001b[0m     plt\u001b[38;5;241m.\u001b[39mshow()\n\u001b[0;32m     11\u001b[0m \u001b[38;5;66;03m# Assuming con_df contains the continuous numeric columns\u001b[39;00m\n\u001b[1;32m---> 12\u001b[0m outliers_boxplot(continuous_df_log)\n",
      "Cell \u001b[1;32mIn[12], line 5\u001b[0m, in \u001b[0;36moutliers_boxplot\u001b[1;34m(df)\u001b[0m\n\u001b[0;32m      3\u001b[0m \u001b[38;5;28;01mfor\u001b[39;00m i, col \u001b[38;5;129;01min\u001b[39;00m \u001b[38;5;28menumerate\u001b[39m(df\u001b[38;5;241m.\u001b[39mcolumns):\n\u001b[0;32m      4\u001b[0m     ax \u001b[38;5;241m=\u001b[39m plt\u001b[38;5;241m.\u001b[39msubplot(\u001b[38;5;241m60\u001b[39m, \u001b[38;5;241m3\u001b[39m, i \u001b[38;5;241m+\u001b[39m \u001b[38;5;241m1\u001b[39m)\n\u001b[1;32m----> 5\u001b[0m     sb\u001b[38;5;241m.\u001b[39mboxplot(data\u001b[38;5;241m=\u001b[39mdf, x\u001b[38;5;241m=\u001b[39mcol, ax\u001b[38;5;241m=\u001b[39max)\n\u001b[0;32m      6\u001b[0m     plt\u001b[38;5;241m.\u001b[39mtitle(\u001b[38;5;124mf\u001b[39m\u001b[38;5;124m'\u001b[39m\u001b[38;5;124mBox Plot: \u001b[39m\u001b[38;5;132;01m{\u001b[39;00mcol\u001b[38;5;132;01m}\u001b[39;00m\u001b[38;5;124m'\u001b[39m, fontsize\u001b[38;5;241m=\u001b[39m\u001b[38;5;241m15\u001b[39m)\n\u001b[0;32m      7\u001b[0m     plt\u001b[38;5;241m.\u001b[39mxlabel(\u001b[38;5;124mf\u001b[39m\u001b[38;5;124m'\u001b[39m\u001b[38;5;132;01m{\u001b[39;00mcol\u001b[38;5;132;01m}\u001b[39;00m\u001b[38;5;124m'\u001b[39m, fontsize\u001b[38;5;241m=\u001b[39m\u001b[38;5;241m14\u001b[39m)\n",
      "\u001b[1;31mNameError\u001b[0m: name 'sb' is not defined"
     ]
    }
   ],
   "source": [
    "def outliers_boxplot(df):\n",
    "    plt.figure(figsize=(20, 200))\n",
    "    for i, col in enumerate(df.columns):\n",
    "        ax = plt.subplot(60, 3, i + 1)\n",
    "        sb.boxplot(data=df, x=col, ax=ax)\n",
    "        plt.title(f'Box Plot: {col}', fontsize=15)\n",
    "        plt.xlabel(f'{col}', fontsize=14)\n",
    "    plt.subplots_adjust(hspace=0.7)\n",
    "    plt.show()\n",
    "\n",
    "# Assuming con_df contains the continuous numeric columns\n",
    "outliers_boxplot(continuous_df_log)\n"
   ]
  },
  {
   "cell_type": "code",
   "execution_count": null,
   "id": "53527ee2-6073-4c5e-b358-28eb36eb30ec",
   "metadata": {},
   "outputs": [],
   "source": [
    "#Creating Nulls dataframe and matrix"
   ]
  },
  {
   "cell_type": "markdown",
   "id": "6aa7e4bd-2b67-46f6-a989-390d311a7bd1",
   "metadata": {},
   "source": [
    "## outliers_df\n"
   ]
  },
  {
   "cell_type": "code",
   "execution_count": null,
   "id": "c7edf388-208c-48dd-84a6-b4d395af06fa",
   "metadata": {},
   "outputs": [],
   "source": [
    "def outliers_df(df):\n",
    "    total_outliers = pd.DataFrame(columns=['Outlier count', 'Percent'])\n",
    "    \n",
    "    for col in df:\n",
    "        if col != 'track_popularity':  # Exclude track_popularity from outlier analysis\n",
    "            temp = pd.DataFrame(df[col], columns=[col])\n",
    "            \n",
    "            Q1 = df[col].quantile(0.25)\n",
    "            Q3 = df[col].quantile(0.75)\n",
    "            IQR = Q3 - Q1  # Interquartile range\n",
    "            \n",
    "            upper_limit = Q3 + 1.5 * IQR\n",
    "            lower_limit = Q1 - 1.5 * IQR  # Fixed lower limit calculation\n",
    "            \n",
    "            upper_outliers = temp[temp[col] > upper_limit]\n",
    "            lower_outliers = temp[temp[col] < lower_limit]\n",
    "            temp = pd.concat([upper_outliers, lower_outliers])  # Updated appending method\n",
    "            \n",
    "            num = len(temp)\n",
    "            total_outliers.loc[col] = [num, num / len(df) * 100]  # Assign values correctly\n",
    "    \n",
    "    return total_outliers[total_outliers['Percent'] > 0]\n",
    "\n",
    "# Run function and sort results\n",
    "outliers_df = outliers_df(df_num_non_dummy).sort_values('Percent', ascending=False)\n",
    "outliers_df"
   ]
  },
  {
   "cell_type": "code",
   "execution_count": null,
   "id": "6283208b-355a-47fb-9831-2c4b1cd406c1",
   "metadata": {},
   "outputs": [],
   "source": [
    "outliers_df.to_csv('outliers_df.csv')"
   ]
  },
  {
   "cell_type": "markdown",
   "id": "91dab60d-763c-4534-8dc5-48bbec98ad1a",
   "metadata": {},
   "source": [
    "## new_outliers_df"
   ]
  },
  {
   "cell_type": "markdown",
   "id": "d480c923-2d9f-4469-99db-e32e12e192cb",
   "metadata": {},
   "source": [
    "Labeling every outlier with 'Outlier' in order to seperate the outliers from nulls (temporarily, and then to 0/1):\n",
    "\n",
    "> Add blockquote\n"
   ]
  },
  {
   "cell_type": "code",
   "execution_count": null,
   "id": "98d008dc-a341-4001-99d0-5495e98a9f65",
   "metadata": {},
   "outputs": [],
   "source": [
    "import numpy as np  # Import numpy for numerical operations\n",
    "\n",
    "def outliers(df):  \n",
    "    \"\"\"\n",
    "    Identifies outliers in a DataFrame and labels them as 'Outlier'.\n",
    "    Outliers are determined using the interquartile range (IQR) method.\n",
    "    \"\"\"\n",
    "    \n",
    "    label_out_df = df.copy()  # Create a copy of the input DataFrame to avoid modifying the original data\n",
    "    \n",
    "    for col in label_out_df:  # Iterate over each column in the DataFrame\n",
    "        if col in outliers_df.index:  # Check if the column is listed in 'outliers_df' (this variable needs to be defined elsewhere)\n",
    "            \n",
    "            Q1 = label_out_df[col].quantile(0.25)  # Calculate the first quartile (25th percentile)\n",
    "            Q3 = label_out_df[col].quantile(0.75)  # Calculate the third quartile (75th percentile)\n",
    "            \n",
    "            # Compute the upper and lower limits for detecting outliers\n",
    "            upper_limit = Q1 + 1.5 * (Q3 - Q1)  # Upper limit for detecting outliers\n",
    "            lower_limit = Q3 - 1.5 * (Q3 - Q1)  # Lower limit for detecting outliers (should be Q1 - 1.5*(Q3-Q1), seems to be a mistake)\n",
    "            \n",
    "            # Replace values greater than the upper limit or less than the lower limit with the label 'Outlier'\n",
    "            label_out_df[col] = np.where(label_out_df[col] > upper_limit, 'Outlier', \n",
    "                                         np.where(label_out_df[col] < lower_limit, 'Outlier', label_out_df[col]))\n",
    "    \n",
    "    return label_out_df  # Return the modified DataFrame with outliers labeled\n",
    "\n",
    "# Apply the function to the DataFrame and display the first 10 rows\n",
    "new_df_outliers = outliers(df)\n",
    "new_df_outliers.head(10)"
   ]
  },
  {
   "cell_type": "markdown",
   "id": "1059fc1e-c4c1-4bd2-960a-5f55ea740292",
   "metadata": {},
   "source": [
    "## df_outliers"
   ]
  },
  {
   "cell_type": "markdown",
   "id": "b7065d2e-34e2-4fbc-a635-944a9ee8044d",
   "metadata": {},
   "source": [
    "## Creating a dataframe with outliers as 1 and non-outliers as 0:"
   ]
  },
  {
   "cell_type": "code",
   "execution_count": null,
   "id": "b61d0e81-4c2d-4607-b58a-3f2b20574f0e",
   "metadata": {},
   "outputs": [],
   "source": [
    "df_outliers = new_df_outliers.isin(['Outlier']) \n",
    "df_outliers = df_outliers.astype('int')\n",
    "df_outliers"
   ]
  },
  {
   "cell_type": "code",
   "execution_count": null,
   "id": "cc9beece-548c-4ffe-a7d2-5884999f7e29",
   "metadata": {},
   "outputs": [],
   "source": [
    "#Now that we have a dataframe saving all the outliers we'll convert all the outliers to nulls, just so I can see differences in distribution with and without outliers and then decide which of the outliers to remove or not:"
   ]
  },
  {
   "cell_type": "code",
   "execution_count": null,
   "id": "dc8e9c1b-875f-464f-91de-a553dd5d1682",
   "metadata": {},
   "outputs": [],
   "source": [
    "def capping(df):\n",
    "    temp = df.copy()\n",
    "    for col in temp:\n",
    "        if col in outliers_df.index:\n",
    "            Q1 = temp[col].quantile(0.25)\n",
    "            Q3 = temp[col].quantile(0.75)\n",
    "            upper_limit = Q1 + 1.5 * (Q3-Q1)\n",
    "            lower_limit = Q3 - 1.5 * (Q3-Q1)\n",
    "            temp[col] = np.where(temp[col] > upper_limit,np.nan,np.where(temp[col] < lower_limit,np.nan,temp[col]))\n",
    "    return temp\n",
    "temp = capping(df)\n",
    "temp"
   ]
  },
  {
   "cell_type": "code",
   "execution_count": null,
   "id": "30ec5424-ae00-49b3-bdbf-f45e6c4201c0",
   "metadata": {},
   "outputs": [],
   "source": [
    "temp.to_csv('outliers_q_df.csv')"
   ]
  },
  {
   "cell_type": "code",
   "execution_count": null,
   "id": "08f0aca8-32b6-4b94-ae5b-1c778518abb1",
   "metadata": {},
   "outputs": [],
   "source": [
    "def dist_outliers(original_df, new, cols):\n",
    "    for col in df_num_non_dummy:\n",
    "        if col in cols:\n",
    "            plt.figure(figsize=(15,6))\n",
    "            plt.subplot(2,2,1)\n",
    "            sns.distplot(original_df[col])\n",
    "            plt.title('{} Distribution before capping'.format(col), fontsize=15)\n",
    "            plt.subplot(2,2,2)\n",
    "            sns.boxplot(original_df[col])\n",
    "            plt.subplots_adjust(hspace = 0.6)\n",
    "            plt.subplot(2,2,3)\n",
    "            sns.distplot(new[col])\n",
    "            plt.title('{} Distribution after capping'.format(col), fontsize=15)\n",
    "            plt.subplot(2,2,4)\n",
    "            sns.boxplot(new[col])\n",
    "            plt.show()\n",
    "dist_outliers(df, temp, outliers_df.index)"
   ]
  },
  {
   "cell_type": "code",
   "execution_count": null,
   "id": "32f28496-08dc-4936-bd5c-2e7f4e4bce73",
   "metadata": {},
   "outputs": [],
   "source": [
    "\n",
    "def cocor(x1,y1, x2,y2):\n",
    "    xy1 = x1.corr(y1, method='spearman')\n",
    "    xy2 = x2.corr(y2, method='spearman')\n",
    "    n1 = len(x1)\n",
    "    n2 = len(x2)\n",
    "    xy_z = 0.5 * np.log((1 + xy1)/(1 - xy1))\n",
    "    ab_z = 0.5 * np.log((1 + xy2)/(1 - xy2))\n",
    "    if n2 is None:\n",
    "        n2 = n1\n",
    "    se_diff_r = np.sqrt(1/(n1 - 3) + 1/(n2 - 3))\n",
    "    diff = xy_z - ab_z\n",
    "    z = abs(diff / se_diff_r)\n",
    "    p = (1 - norm.cdf(z)) * 2\n",
    "    return z, p"
   ]
  },
  {
   "cell_type": "code",
   "execution_count": null,
   "id": "240a950b-f31a-42a3-a8de-4fc0e1f17060",
   "metadata": {},
   "outputs": [],
   "source": [
    "import pandas as pd\n",
    "import numpy as np\n",
    "from scipy.stats import ks_2samp\n",
    "\n",
    "# Assuming df_outliers is a DataFrame where outliers are marked (1 for outliers, 0 for non-outliers)\n",
    "c = df_num_non_dummy\n",
    "names = c.columns\n",
    "\n",
    "# Creating df that reflects the correlation change\n",
    "out_df = pd.DataFrame(columns=['feature', 'outliers_cnt', 'distribution_changed', 'correlation_changed'])\n",
    "\n",
    "# A copy of numeric df\n",
    "no_outliers = df_num_non_dummy.copy()\n",
    "np.seterr(divide='ignore', invalid='ignore')\n",
    "\n",
    "out_df_list = []  # Store results in a list to avoid inefficient appends\n",
    "\n",
    "for i in names:\n",
    "    # df with outliers\n",
    "    out = df_num_non_dummy[i]\n",
    "    \n",
    "    # df without outliers\n",
    "    non = df_num_non_dummy[i].loc[df_outliers[i] == 0]\n",
    "    \n",
    "    # label with outliers\n",
    "    track_popularity_out = df_num_non_dummy['track_popularity']\n",
    "    \n",
    "    # label without outliers\n",
    "    track_popularity_non = df_num_non_dummy['track_popularity'].loc[df_outliers[i] == 0]\n",
    "    \n",
    "    # Compute correlation change (assuming cocor function exists)\n",
    "    try:\n",
    "        p, pvalue = cocor(out, track_popularity_out, non, track_popularity_non)\n",
    "        cor_change = '+' if pvalue < 0.05 else '-'\n",
    "    except Exception as e:\n",
    "        cor_change = 'Error'\n",
    "    \n",
    "    # Outliers count\n",
    "    outlier_count = df_outliers[i].sum()\n",
    "    \n",
    "    # KS p-value for distribution change\n",
    "    try:\n",
    "        pval = ks_2samp(out, non)[1]\n",
    "        dist_change = '+' if pval < 0.05 else '-'\n",
    "    except Exception as e:\n",
    "        dist_change = 'Error'\n",
    "    \n",
    "    # Append results as a dictionary (avoiding deprecated append method)\n",
    "    out_df_list.append({\n",
    "        'feature': i,\n",
    "        'outliers_cnt': outlier_count,\n",
    "        'distribution_changed': dist_change,\n",
    "        'correlation_changed': cor_change\n",
    "    })\n",
    "\n",
    "# Convert list of dicts to DataFrame\n",
    "out_df = pd.DataFrame(out_df_list)\n",
    "\n",
    "# Display results\n",
    "out_df.head(10)\n"
   ]
  },
  {
   "cell_type": "code",
   "execution_count": null,
   "id": "40f1f2a0-7c89-48b2-947b-a8e7dc2a7215",
   "metadata": {},
   "outputs": [],
   "source": [
    "#All 'Yes' Vars in the 'Drop'colums shall be deleted, since the infect correlation and distribution. \n",
    "#We don't want to delete vars that will change the distribution\n",
    "out_df['drop']='yes'\n",
    "out_df.loc[(out_df.distribution_changed=='+')& (out_df.correlation_changed=='+'),'drop'] = 'no'\n",
    "out_df\n",
    "\n"
   ]
  },
  {
   "cell_type": "code",
   "execution_count": null,
   "id": "b0373d86-cb51-48ee-9522-9a00fc190534",
   "metadata": {},
   "outputs": [],
   "source": [
    "out_df.groupby('drop').size()"
   ]
  },
  {
   "cell_type": "code",
   "execution_count": null,
   "id": "aa112778-0ced-482b-826d-332c253b008f",
   "metadata": {},
   "outputs": [],
   "source": [
    "relevant_columns_features=out_df.loc[out_df['drop']=='yes']['feature']\n",
    "relevant_columns_features"
   ]
  },
  {
   "cell_type": "code",
   "execution_count": null,
   "id": "e68358ba-c351-41a3-95e6-c4a3381f11bb",
   "metadata": {},
   "outputs": [],
   "source": [
    "def dist_compare_after_capping(original_df, new, cols):\n",
    "    for col in relevant_columns_features:\n",
    "        if col in cols:\n",
    "            plt.figure(figsize=(15,6))\n",
    "            plt.subplot(2,2,1)\n",
    "            sns.distplot(original_df[col])\n",
    "            plt.title('{} Distribution before capping'.format(col), fontsize=15)\n",
    "            plt.subplot(2,2,2)\n",
    "            sns.boxplot(original_df[col])\n",
    "            plt.subplots_adjust(hspace = 0.6)\n",
    "            plt.subplot(2,2,3)\n",
    "            sns.distplot(new[col])\n",
    "            plt.title('{} Distribution after capping'.format(col), fontsize=15)\n",
    "            plt.subplot(2,2,4)\n",
    "            sns.boxplot(new[col])\n",
    "            plt.show()\n",
    "dist_compare_after_capping(df, temp, outliers_df.index)"
   ]
  },
  {
   "cell_type": "code",
   "execution_count": null,
   "id": "571f8c20-f0b0-4b0b-a05f-1d0602b5fc4a",
   "metadata": {},
   "outputs": [],
   "source": [
    "remove_outliers=['speechiness','acousticness',\n",
    "                'loudness','danceability','energy']\n",
    "\n",
    "outliers_df.to_csv('outliers_df.csv')\n",
    "\n",
    "remove_outliers"
   ]
  },
  {
   "cell_type": "code",
   "execution_count": null,
   "id": "64876afb-cde4-4ae9-b043-3fbc2e927279",
   "metadata": {},
   "outputs": [],
   "source": [
    "df[['speechiness', 'acousticness', 'loudness', 'danceability', 'energy']]"
   ]
  },
  {
   "cell_type": "markdown",
   "id": "6526b1b6-f2fb-4899-8bfd-c0094ea981ca",
   "metadata": {},
   "source": [
    "Removing outleirs that don't change correlation \n",
    "\n"
   ]
  },
  {
   "cell_type": "code",
   "execution_count": null,
   "id": "b0e5c05e-8b9b-4c6b-92c6-115627e6b292",
   "metadata": {},
   "outputs": [],
   "source": [
    "manipulated_data = df.copy()\n",
    "\n",
    "for j in range(len(df)):\n",
    "    for col in remove_outliers:\n",
    "        if col in df_outliers.columns:  # Ensure column exists\n",
    "            if df_outliers.iloc[j].get(col, 0) == 1:  # Use .get() to avoid KeyError\n",
    "                manipulated_data.iloc[j][col] = 0"
   ]
  },
  {
   "cell_type": "code",
   "execution_count": null,
   "id": "a1ae4461-5a51-4cec-8d12-238ebf9156d6",
   "metadata": {},
   "outputs": [],
   "source": [
    "manipulated_data.to_pickle('df_cleaned.pkl')"
   ]
  },
  {
   "cell_type": "markdown",
   "id": "55c91cf4-b6fe-4e2d-be77-af29e090f40d",
   "metadata": {},
   "source": [
    "# Missing Values Analysis and Imputation"
   ]
  },
  {
   "cell_type": "markdown",
   "id": "7b1877dc-4023-4e48-8bd7-f0f8569a8648",
   "metadata": {},
   "source": [
    "## Checking the Missing Mechanisms\n"
   ]
  },
  {
   "cell_type": "code",
   "execution_count": null,
   "id": "104a4e59-531d-48b7-a7e3-1d80211f3231",
   "metadata": {},
   "outputs": [],
   "source": [
    "df = pd.read_pickle('df_cleaned.pkl')\n",
    "df"
   ]
  },
  {
   "cell_type": "code",
   "execution_count": null,
   "id": "29e393c4-3f8f-489a-b037-cfbc93057f05",
   "metadata": {},
   "outputs": [],
   "source": [
    "print(manipulated_data.isnull().sum())"
   ]
  },
  {
   "cell_type": "code",
   "execution_count": null,
   "id": "ce98c003-86fe-4382-b5a1-0582a24ae612",
   "metadata": {},
   "outputs": [],
   "source": [
    "# Select only columns with missing values\n",
    "missingdata_df = df.columns[df.isnull().any()].tolist()\n",
    "\n",
    "# Plot the missing values matrix\n",
    "msno.matrix(df[missingdata_df])\n",
    "\n",
    "# Show the plot\n",
    "plt.show()"
   ]
  },
  {
   "cell_type": "code",
   "execution_count": null,
   "id": "8ee41495-3abb-4574-b60d-c7453502ed68",
   "metadata": {},
   "outputs": [],
   "source": [
    "## missingness correlation heatmap\n",
    "\n",
    "# Select columns with missing values\n",
    "missingdata_df = df.columns[df.isnull().any()].tolist()\n",
    "\n",
    "# Plot the missingness correlation heatmap\n",
    "plt.figure(figsize=(10, 6))  # Adjust the figure size if needed\n",
    "msno.heatmap(df[missingdata_df], cmap=\"viridis\")\n",
    "\n",
    "# Show the plot\n",
    "plt.show()"
   ]
  },
  {
   "cell_type": "code",
   "execution_count": null,
   "id": "79de9001-b122-4fac-a3c5-79ae8d03a60a",
   "metadata": {},
   "outputs": [],
   "source": [
    "df2 = df.copy()\n",
    "\n",
    "df2['track_artist_na'] = 0\n",
    "df2.loc[(df2['track_artist'].isnull()),['track_artist_na']] = 1\n",
    "\n",
    "df2['track_album_release_date_na'] = 0\n",
    "df2.loc[(df2['track_album_release_date'].isnull()),['track_album_release_date_na']] = 1\n",
    "\n",
    "df2['danceability_na'] = 0\n",
    "df2.loc[(df2['danceability'].isnull()),['danceability_na']] = 1\n",
    "\n",
    "df2['energy_na'] = 0\n",
    "df2.loc[(df2['energy'].isnull()),['energys_na']] = 1\n",
    "\n",
    "df2['loudness_na'] = 0\n",
    "df2.loc[(df2['loudness'].isnull()),['loudness_na']] = 1\n",
    "\n",
    "df2['speechiness_na'] = 0\n",
    "df2.loc[(df2['speechiness'].isnull()),['speechiness_na']] = 1\n",
    "\n",
    "df2['acousticness_na'] = 0\n",
    "df2.loc[(df2['acousticness'].isnull()),['acousticness_na']] = 1\n",
    "\n",
    "df2.head()"
   ]
  },
  {
   "cell_type": "markdown",
   "id": "1a5e0d22-aa47-4784-8041-62d1e5e6986a",
   "metadata": {},
   "source": [
    "# Missing Values Imputation\n",
    "\n",
    "### Dropout"
   ]
  },
  {
   "cell_type": "code",
   "execution_count": null,
   "id": "3284f651-6167-40a4-863f-4c795cecf53d",
   "metadata": {},
   "outputs": [],
   "source": [
    "df2 = df[['track_artist','track_album_release_date','danceability','energy','loudness','speechiness','acousticness']].replace(0, np.NaN)\n",
    "df2 = df.copy()\n",
    "# drop rows with missing values\n",
    "df2.dropna(inplace=True)\n",
    "# summarize the number of rows and columns in the dataset\n",
    "print(df2.shape)"
   ]
  },
  {
   "cell_type": "markdown",
   "id": "f1e55d36-da2e-4c29-885d-e954da482f56",
   "metadata": {},
   "source": [
    "From 28356 rows initially, we have 26671 rows now..."
   ]
  },
  {
   "cell_type": "code",
   "execution_count": null,
   "id": "9f17a7ce-6d29-4df8-abaf-fd6ca92e77f3",
   "metadata": {},
   "outputs": [],
   "source": [
    "df.isna().sum()"
   ]
  },
  {
   "cell_type": "code",
   "execution_count": null,
   "id": "5013ee7f-c498-4237-9eb0-a6da4f9aff6f",
   "metadata": {},
   "outputs": [],
   "source": [
    "df2.isna().sum()"
   ]
  },
  {
   "cell_type": "markdown",
   "id": "be723a61-6267-48f1-8bde-42824735ee51",
   "metadata": {},
   "source": [
    "### Statistical Imputation\n",
    " \n",
    "This imply to substitute missing values by a statistical measure. The most commonly used are the mean and the median."
   ]
  },
  {
   "cell_type": "code",
   "execution_count": null,
   "id": "035a9b61-e7a1-48d4-a47d-a8321ddca1bd",
   "metadata": {},
   "outputs": [],
   "source": [
    "##### indicate the missing points with one_zero \n",
    "# [['sws','ps','ts','mls','gt']]\n",
    "df2 = df.copy()\n",
    "\n",
    "df2['track_artist_na'] = 0\n",
    "df2.loc[(df2['track_artist'].isnull()),['track_artist_na']] = 1\n",
    "\n",
    "df2['track_album_release_date_na'] = 0\n",
    "df2.loc[(df2['track_album_release_date'].isnull()),['track_album_release_date_na']] = 1\n",
    "\n",
    "df2['danceability_na'] = 0\n",
    "df2.loc[(df2['danceability'].isnull()),['danceability_na']] = 1\n",
    "\n",
    "df2['energy_na'] = 0\n",
    "df2.loc[(df2['energy'].isnull()),['energy_na']] = 1\n",
    "\n",
    "df2['loudness_na'] = 0\n",
    "df2.loc[(df2['loudness'].isnull()),['loudness_na']] = 1\n",
    "\n",
    "df2['speechiness_na'] = 0\n",
    "df2.loc[(df2['speechiness'].isnull()),['speechiness_na']] = 1\n",
    "\n",
    "df2['acousticness_na'] = 0\n",
    "df2.loc[(df2['acousticness'].isnull()),['acousticness_na']] = 1\n",
    "\n",
    "df2.head()\n",
    "\n",
    "\n"
   ]
  },
  {
   "cell_type": "code",
   "execution_count": null,
   "id": "d7fee04a-caf3-4a7f-8b56-cc7496e88041",
   "metadata": {},
   "outputs": [],
   "source": [
    "\n",
    "\n",
    "danceability_mean = df2['danceability'].mean()\n",
    "df2['danceability'] = df2['danceability'].fillna(danceability_mean)\n",
    "\n",
    "energy_mean = df2['energy'].mean()\n",
    "df2['energy'] = df2['energy'].fillna(energy_mean)\n",
    "\n",
    "loudness_mean = df2['loudness'].mean()\n",
    "df2['loudness'] = df2['loudness'].fillna(loudness_mean)\n",
    "\n",
    "speechiness_mean = df2['speechiness'].mean()\n",
    "df2['speechiness'] = df2['speechiness'].fillna(speechiness_mean)\n",
    "\n",
    "acousticness_mean = df2['acousticness'].mean()\n",
    "df2['acousticness'] = df2['acousticness'].fillna(acousticness_mean)\n",
    "\n",
    "# summarize the number of rows and columns in the dataset\n",
    "print(df2.shape)\n",
    "df2.head()"
   ]
  },
  {
   "cell_type": "code",
   "execution_count": null,
   "id": "d99511b5-e96d-413e-bb45-1e71223c3b7c",
   "metadata": {},
   "outputs": [],
   "source": [
    "print(df.describe())\n",
    "print(\"----------------------------------------------------------------------------------\")\n",
    "print(df2.describe())"
   ]
  },
  {
   "cell_type": "markdown",
   "id": "a76484bf-39bf-4a5a-adee-aa95a3b8c6d9",
   "metadata": {},
   "source": [
    "NaNs Filled with Mean"
   ]
  },
  {
   "cell_type": "code",
   "execution_count": null,
   "id": "a1e0de65-287e-4124-9bc1-ddf7bbe468a7",
   "metadata": {},
   "outputs": [],
   "source": [
    "sns.scatterplot(x='sws',y='ts',data=df2, hue=df2['sws_na'])"
   ]
  },
  {
   "cell_type": "code",
   "execution_count": null,
   "id": "fb8bfea5-9ffe-4931-a057-d864f98abed7",
   "metadata": {},
   "outputs": [],
   "source": [
    "sns.scatterplot(x='sws',y='gt',data=df2, hue=df2['sws_na'])"
   ]
  },
  {
   "cell_type": "markdown",
   "id": "f4307f6a-cd48-4648-acf1-2224e0e60f40",
   "metadata": {},
   "source": [
    "### Machine Learning imputation: KNN imputation"
   ]
  },
  {
   "cell_type": "code",
   "execution_count": null,
   "id": "6b1f3af4-c7b0-4522-9596-9943e93568eb",
   "metadata": {},
   "outputs": [],
   "source": [
    "#I have identified missing values in a categorical column within the dataset. Proper handling of these missing values is essential to ensure data integrity and maintain the accuracy of any subsequent analysis or modeling."
   ]
  },
  {
   "cell_type": "code",
   "execution_count": null,
   "id": "0d4f369f-7177-410c-81b6-a2b8f61898b5",
   "metadata": {},
   "outputs": [],
   "source": [
    "df1 = df.copy()"
   ]
  },
  {
   "cell_type": "code",
   "execution_count": null,
   "id": "52f4c40a-9d51-4479-8fff-32354df8cc67",
   "metadata": {},
   "outputs": [],
   "source": [
    "df1.info()"
   ]
  },
  {
   "cell_type": "code",
   "execution_count": null,
   "id": "c0cfda50-7b1d-4e11-aaa8-1f1560bd1a90",
   "metadata": {},
   "outputs": [],
   "source": [
    "df1.isna().sum()"
   ]
  },
  {
   "cell_type": "code",
   "execution_count": null,
   "id": "16023384-a740-4673-97f7-c1316275cce9",
   "metadata": {},
   "outputs": [],
   "source": [
    "from sklearn.impute import KNNImputer\n",
    "df1 = df.copy()\n",
    "imp_cols = df1.select_dtypes(include = ['float64', 'int64']).columns\n",
    "knn_imputer = KNNImputer(n_neighbors=1)\n",
    "imputed_data = pd.DataFrame(knn_imputer.fit_transform(df1[imp_cols]),columns = imp_cols)"
   ]
  },
  {
   "cell_type": "code",
   "execution_count": null,
   "id": "86b0d08d-812e-4dd7-9e46-a6ce4a86fee4",
   "metadata": {},
   "outputs": [],
   "source": [
    "!pip install fancyimpute\n",
    "import fancyimpute "
   ]
  },
  {
   "cell_type": "code",
   "execution_count": null,
   "id": "3bf1f8c3-f5fb-4496-a783-b53a546129c9",
   "metadata": {},
   "outputs": [],
   "source": [
    "fancyimpute.__version__\n"
   ]
  },
  {
   "cell_type": "code",
   "execution_count": null,
   "id": "b9bad795-926c-47ea-8894-681bcac83db8",
   "metadata": {},
   "outputs": [],
   "source": [
    "X = df.copy()\n",
    "X = X.iloc[:,1:11]\n",
    "X.head()"
   ]
  },
  {
   "cell_type": "code",
   "execution_count": null,
   "id": "7b652afd-0a26-4cb6-b042-288e75efe03d",
   "metadata": {},
   "outputs": [],
   "source": [
    "X.columns"
   ]
  },
  {
   "cell_type": "code",
   "execution_count": null,
   "id": "4d7bf2aa-41a9-4c2a-a885-d13c68f65a51",
   "metadata": {},
   "outputs": [],
   "source": [
    "X_imputed = fancyimpute.KNN(3).fit_transform(X)\n",
    "X_imputed = pd.DataFrame(X_imputed,columns=X.columns)\n",
    "X_imputed.head()"
   ]
  }
 ],
 "metadata": {
  "kernelspec": {
   "display_name": "Python 3 (ipykernel)",
   "language": "python",
   "name": "python3"
  },
  "language_info": {
   "codemirror_mode": {
    "name": "ipython",
    "version": 3
   },
   "file_extension": ".py",
   "mimetype": "text/x-python",
   "name": "python",
   "nbconvert_exporter": "python",
   "pygments_lexer": "ipython3",
   "version": "3.12.7"
  }
 },
 "nbformat": 4,
 "nbformat_minor": 5
}
